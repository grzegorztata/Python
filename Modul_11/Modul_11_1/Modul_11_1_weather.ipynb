{
 "cells": [
  {
   "cell_type": "code",
   "execution_count": 1,
   "id": "556f397a",
   "metadata": {},
   "outputs": [
    {
     "data": {
      "text/html": [
       "        <script type=\"text/javascript\">\n",
       "        window.PlotlyConfig = {MathJaxConfig: 'local'};\n",
       "        if (window.MathJax && window.MathJax.Hub && window.MathJax.Hub.Config) {window.MathJax.Hub.Config({SVG: {font: \"STIX-Web\"}});}\n",
       "        if (typeof require !== 'undefined') {\n",
       "        require.undef(\"plotly\");\n",
       "        requirejs.config({\n",
       "            paths: {\n",
       "                'plotly': ['https://cdn.plot.ly/plotly-2.24.1.min']\n",
       "            }\n",
       "        });\n",
       "        require(['plotly'], function(Plotly) {\n",
       "            window._Plotly = Plotly;\n",
       "        });\n",
       "        }\n",
       "        </script>\n",
       "        "
      ]
     },
     "metadata": {},
     "output_type": "display_data"
    },
    {
     "data": {
      "text/html": [
       "        <script type=\"text/javascript\">\n",
       "        window.PlotlyConfig = {MathJaxConfig: 'local'};\n",
       "        if (window.MathJax && window.MathJax.Hub && window.MathJax.Hub.Config) {window.MathJax.Hub.Config({SVG: {font: \"STIX-Web\"}});}\n",
       "        if (typeof require !== 'undefined') {\n",
       "        require.undef(\"plotly\");\n",
       "        requirejs.config({\n",
       "            paths: {\n",
       "                'plotly': ['https://cdn.plot.ly/plotly-2.24.1.min']\n",
       "            }\n",
       "        });\n",
       "        require(['plotly'], function(Plotly) {\n",
       "            window._Plotly = Plotly;\n",
       "        });\n",
       "        }\n",
       "        </script>\n",
       "        "
      ]
     },
     "metadata": {},
     "output_type": "display_data"
    }
   ],
   "source": [
    "import numpy as np\n",
    "from plotly.offline import download_plotlyjs,init_notebook_mode,plot,iplot\n",
    "init_notebook_mode(connected=True)\n",
    "import cufflinks as cf\n",
    "cf.go_offline()\n",
    "import pandas as pd\n",
    "import plotly.offline as pyo\n",
    "import plotly.graph_objs as go\n",
    "from plotly import subplots"
   ]
  },
  {
   "cell_type": "code",
   "execution_count": 2,
   "id": "370170bd",
   "metadata": {},
   "outputs": [
    {
     "data": {
      "text/html": [
       "<div>\n",
       "<style scoped>\n",
       "    .dataframe tbody tr th:only-of-type {\n",
       "        vertical-align: middle;\n",
       "    }\n",
       "\n",
       "    .dataframe tbody tr th {\n",
       "        vertical-align: top;\n",
       "    }\n",
       "\n",
       "    .dataframe thead th {\n",
       "        text-align: right;\n",
       "    }\n",
       "</style>\n",
       "<table border=\"1\" class=\"dataframe\">\n",
       "  <thead>\n",
       "    <tr style=\"text-align: right;\">\n",
       "      <th></th>\n",
       "      <th>Wrocław Temperature [2 m elevation corrected]</th>\n",
       "      <th>Wrocław Precipitation Total</th>\n",
       "      <th>Wrocław Wind Speed [10 m]</th>\n",
       "      <th>Wrocław Wind Direction [10 m]</th>\n",
       "    </tr>\n",
       "    <tr>\n",
       "      <th>timestamp</th>\n",
       "      <th></th>\n",
       "      <th></th>\n",
       "      <th></th>\n",
       "      <th></th>\n",
       "    </tr>\n",
       "  </thead>\n",
       "  <tbody>\n",
       "    <tr>\n",
       "      <th>2020-06-01 00:00:00</th>\n",
       "      <td>13.444630</td>\n",
       "      <td>0.0</td>\n",
       "      <td>11.038736</td>\n",
       "      <td>8.325638</td>\n",
       "    </tr>\n",
       "    <tr>\n",
       "      <th>2020-06-01 01:00:00</th>\n",
       "      <td>12.224629</td>\n",
       "      <td>0.0</td>\n",
       "      <td>10.738927</td>\n",
       "      <td>7.125000</td>\n",
       "    </tr>\n",
       "    <tr>\n",
       "      <th>2020-06-01 02:00:00</th>\n",
       "      <td>11.424629</td>\n",
       "      <td>0.0</td>\n",
       "      <td>10.922400</td>\n",
       "      <td>12.680374</td>\n",
       "    </tr>\n",
       "    <tr>\n",
       "      <th>2020-06-01 03:00:00</th>\n",
       "      <td>10.614630</td>\n",
       "      <td>0.0</td>\n",
       "      <td>10.084568</td>\n",
       "      <td>12.200455</td>\n",
       "    </tr>\n",
       "    <tr>\n",
       "      <th>2020-06-01 04:00:00</th>\n",
       "      <td>9.784630</td>\n",
       "      <td>0.0</td>\n",
       "      <td>9.155017</td>\n",
       "      <td>8.365875</td>\n",
       "    </tr>\n",
       "  </tbody>\n",
       "</table>\n",
       "</div>"
      ],
      "text/plain": [
       "                     Wrocław Temperature [2 m elevation corrected]  \\\n",
       "timestamp                                                            \n",
       "2020-06-01 00:00:00                                      13.444630   \n",
       "2020-06-01 01:00:00                                      12.224629   \n",
       "2020-06-01 02:00:00                                      11.424629   \n",
       "2020-06-01 03:00:00                                      10.614630   \n",
       "2020-06-01 04:00:00                                       9.784630   \n",
       "\n",
       "                     Wrocław Precipitation Total  Wrocław Wind Speed [10 m]  \\\n",
       "timestamp                                                                     \n",
       "2020-06-01 00:00:00                          0.0                  11.038736   \n",
       "2020-06-01 01:00:00                          0.0                  10.738927   \n",
       "2020-06-01 02:00:00                          0.0                  10.922400   \n",
       "2020-06-01 03:00:00                          0.0                  10.084568   \n",
       "2020-06-01 04:00:00                          0.0                   9.155017   \n",
       "\n",
       "                     Wrocław Wind Direction [10 m]  \n",
       "timestamp                                           \n",
       "2020-06-01 00:00:00                       8.325638  \n",
       "2020-06-01 01:00:00                       7.125000  \n",
       "2020-06-01 02:00:00                      12.680374  \n",
       "2020-06-01 03:00:00                      12.200455  \n",
       "2020-06-01 04:00:00                       8.365875  "
      ]
     },
     "execution_count": 2,
     "metadata": {},
     "output_type": "execute_result"
    }
   ],
   "source": [
    "# przekształcenie na etapie wczytywania pliku\n",
    "# skiprows - usuwamy pierwsze wiersze z pliku\n",
    "# index_col=0 - każemy traktować pierwszą kolumnę pliku csv jako index DataFrame\n",
    "# parse_dates na wartość True sprawi, że Pandas postara się automatycznie rozpoznać format indeksu jako obiekt Datetime\n",
    "wro_temp = pd.read_csv('../Files/weather_wroc.csv',skiprows=9,index_col=0,parse_dates=True)\n",
    "wro_temp.head()"
   ]
  },
  {
   "cell_type": "markdown",
   "id": "034e4107",
   "metadata": {},
   "source": [
    "# Heatmap"
   ]
  },
  {
   "cell_type": "code",
   "execution_count": 3,
   "id": "4df1ccd2",
   "metadata": {},
   "outputs": [
    {
     "data": {
      "application/vnd.plotly.v1+json": {
       "config": {
        "linkText": "Export to plot.ly",
        "plotlyServerURL": "https://plot.ly",
        "showLink": false
       },
       "data": [
        {
         "type": "heatmap",
         "x": [
          0,
          1,
          2,
          3,
          4,
          5,
          6,
          7,
          8,
          9,
          10,
          11,
          12,
          13,
          14,
          15,
          16,
          17,
          18,
          19,
          20,
          21,
          22,
          23,
          0,
          1,
          2,
          3,
          4,
          5,
          6,
          7,
          8,
          9,
          10,
          11,
          12,
          13,
          14,
          15,
          16,
          17,
          18,
          19,
          20,
          21,
          22,
          23,
          0,
          1,
          2,
          3,
          4,
          5,
          6,
          7,
          8,
          9,
          10,
          11,
          12,
          13,
          14,
          15,
          16,
          17,
          18,
          19,
          20,
          21,
          22,
          23,
          0,
          1,
          2,
          3,
          4,
          5,
          6,
          7,
          8,
          9,
          10,
          11,
          12,
          13,
          14,
          15,
          16,
          17,
          18,
          19,
          20,
          21,
          22,
          23,
          0,
          1,
          2,
          3,
          4,
          5,
          6,
          7,
          8,
          9,
          10,
          11,
          12,
          13,
          14,
          15,
          16,
          17,
          18,
          19,
          20,
          21,
          22,
          23,
          0,
          1,
          2,
          3,
          4,
          5,
          6,
          7,
          8,
          9,
          10,
          11,
          12,
          13,
          14,
          15,
          16,
          17,
          18,
          19,
          20,
          21,
          22,
          23,
          0,
          1,
          2,
          3,
          4,
          5,
          6,
          7,
          8,
          9,
          10,
          11,
          12,
          13,
          14,
          15,
          16,
          17,
          18,
          19,
          20,
          21,
          22,
          23
         ],
         "y": [
          "Poniedziałek",
          "Poniedziałek",
          "Poniedziałek",
          "Poniedziałek",
          "Poniedziałek",
          "Poniedziałek",
          "Poniedziałek",
          "Poniedziałek",
          "Poniedziałek",
          "Poniedziałek",
          "Poniedziałek",
          "Poniedziałek",
          "Poniedziałek",
          "Poniedziałek",
          "Poniedziałek",
          "Poniedziałek",
          "Poniedziałek",
          "Poniedziałek",
          "Poniedziałek",
          "Poniedziałek",
          "Poniedziałek",
          "Poniedziałek",
          "Poniedziałek",
          "Poniedziałek",
          "Wtorek",
          "Wtorek",
          "Wtorek",
          "Wtorek",
          "Wtorek",
          "Wtorek",
          "Wtorek",
          "Wtorek",
          "Wtorek",
          "Wtorek",
          "Wtorek",
          "Wtorek",
          "Wtorek",
          "Wtorek",
          "Wtorek",
          "Wtorek",
          "Wtorek",
          "Wtorek",
          "Wtorek",
          "Wtorek",
          "Wtorek",
          "Wtorek",
          "Wtorek",
          "Wtorek",
          "Środa",
          "Środa",
          "Środa",
          "Środa",
          "Środa",
          "Środa",
          "Środa",
          "Środa",
          "Środa",
          "Środa",
          "Środa",
          "Środa",
          "Środa",
          "Środa",
          "Środa",
          "Środa",
          "Środa",
          "Środa",
          "Środa",
          "Środa",
          "Środa",
          "Środa",
          "Środa",
          "Środa",
          "Czwartek",
          "Czwartek",
          "Czwartek",
          "Czwartek",
          "Czwartek",
          "Czwartek",
          "Czwartek",
          "Czwartek",
          "Czwartek",
          "Czwartek",
          "Czwartek",
          "Czwartek",
          "Czwartek",
          "Czwartek",
          "Czwartek",
          "Czwartek",
          "Czwartek",
          "Czwartek",
          "Czwartek",
          "Czwartek",
          "Czwartek",
          "Czwartek",
          "Czwartek",
          "Czwartek",
          "Piątek",
          "Piątek",
          "Piątek",
          "Piątek",
          "Piątek",
          "Piątek",
          "Piątek",
          "Piątek",
          "Piątek",
          "Piątek",
          "Piątek",
          "Piątek",
          "Piątek",
          "Piątek",
          "Piątek",
          "Piątek",
          "Piątek",
          "Piątek",
          "Piątek",
          "Piątek",
          "Piątek",
          "Piątek",
          "Piątek",
          "Piątek",
          "Sobota",
          "Sobota",
          "Sobota",
          "Sobota",
          "Sobota",
          "Sobota",
          "Sobota",
          "Sobota",
          "Sobota",
          "Sobota",
          "Sobota",
          "Sobota",
          "Sobota",
          "Sobota",
          "Sobota",
          "Sobota",
          "Sobota",
          "Sobota",
          "Sobota",
          "Sobota",
          "Sobota",
          "Sobota",
          "Sobota",
          "Sobota",
          "Niedziela",
          "Niedziela",
          "Niedziela",
          "Niedziela",
          "Niedziela",
          "Niedziela",
          "Niedziela",
          "Niedziela",
          "Niedziela",
          "Niedziela",
          "Niedziela",
          "Niedziela",
          "Niedziela",
          "Niedziela",
          "Niedziela",
          "Niedziela",
          "Niedziela",
          "Niedziela",
          "Niedziela",
          "Niedziela",
          "Niedziela",
          "Niedziela",
          "Niedziela",
          "Niedziela"
         ],
         "z": [
          13.44463,
          12.224629,
          11.424629,
          10.61463,
          9.78463,
          8.86463,
          9.474629,
          11.70463,
          14.32463,
          16.83463,
          18.404629,
          19.144629,
          19.77463,
          20.244629,
          21.01463,
          21.114628,
          20.994629,
          20.734629,
          20.284628,
          19.59463,
          18.614628,
          16.814629,
          14.99463,
          13.554629,
          12.934629,
          12.844629,
          12.56463,
          11.24463,
          9.724629,
          8.95463,
          10.6046295,
          11.91463,
          13.27463,
          15.54463,
          16.964628,
          17.704628,
          18.284628,
          18.894629,
          19.204628,
          18.654629,
          19.60463,
          18.564629,
          18.34463,
          18.144629,
          17.914629,
          17.404629,
          16.824629,
          15.69463,
          14.6446295,
          14.24463,
          12.04463,
          10.514629,
          9.714629,
          9.32463,
          10.674629,
          12.49463,
          14.08463,
          15.53463,
          17.064629,
          18.01463,
          18.914629,
          19.734629,
          20.074629,
          20.394629,
          20.60463,
          20.214628,
          19.76463,
          19.25463,
          18.84463,
          17.474628,
          15.844629,
          14.844629,
          13.86463,
          12.844629,
          11.884629,
          10.87463,
          10.03463,
          9.304629,
          9.8946295,
          12.764629,
          15.78463,
          17.92463,
          19.144629,
          20.114628,
          21.10463,
          22.144629,
          23.27463,
          22.92463,
          22.27463,
          21.43463,
          20.144629,
          19.374628,
          19.234629,
          18.60463,
          16.694628,
          15.75463,
          14.95463,
          14.61463,
          13.91463,
          13.69463,
          13.98463,
          15.1446295,
          14.974629,
          15.054629,
          15.3946295,
          15.19463,
          15.70463,
          16.474628,
          16.114628,
          15.57463,
          16.644629,
          16.43463,
          15.934629,
          15.25463,
          16.204628,
          16.68463,
          16.50463,
          15.58463,
          15.07463,
          13.6446295,
          12.28463,
          11.70463,
          12.474629,
          13.16463,
          12.464629,
          11.75463,
          12.25463,
          13.20463,
          14.514629,
          15.91463,
          17.404629,
          18.76463,
          20.064629,
          21.33463,
          20.394629,
          20.43463,
          20.734629,
          21.75463,
          21.034628,
          20.564629,
          20.34463,
          20.00463,
          19.054628,
          18.01463,
          17.324629,
          17.17463,
          16.51463,
          15.86463,
          15.65463,
          15.27463,
          15.81463,
          17.064629,
          18.164629,
          18.134628,
          18.42463,
          19.50463,
          20.864628,
          21.27463,
          16.904629,
          17.464628,
          18.52463,
          19.58463,
          19.234629,
          18.25463,
          17.664629,
          17.09463,
          16.374628,
          15.3546295
         ]
        }
       ],
       "layout": {
        "template": {
         "data": {
          "bar": [
           {
            "error_x": {
             "color": "#2a3f5f"
            },
            "error_y": {
             "color": "#2a3f5f"
            },
            "marker": {
             "line": {
              "color": "#E5ECF6",
              "width": 0.5
             },
             "pattern": {
              "fillmode": "overlay",
              "size": 10,
              "solidity": 0.2
             }
            },
            "type": "bar"
           }
          ],
          "barpolar": [
           {
            "marker": {
             "line": {
              "color": "#E5ECF6",
              "width": 0.5
             },
             "pattern": {
              "fillmode": "overlay",
              "size": 10,
              "solidity": 0.2
             }
            },
            "type": "barpolar"
           }
          ],
          "carpet": [
           {
            "aaxis": {
             "endlinecolor": "#2a3f5f",
             "gridcolor": "white",
             "linecolor": "white",
             "minorgridcolor": "white",
             "startlinecolor": "#2a3f5f"
            },
            "baxis": {
             "endlinecolor": "#2a3f5f",
             "gridcolor": "white",
             "linecolor": "white",
             "minorgridcolor": "white",
             "startlinecolor": "#2a3f5f"
            },
            "type": "carpet"
           }
          ],
          "choropleth": [
           {
            "colorbar": {
             "outlinewidth": 0,
             "ticks": ""
            },
            "type": "choropleth"
           }
          ],
          "contour": [
           {
            "colorbar": {
             "outlinewidth": 0,
             "ticks": ""
            },
            "colorscale": [
             [
              0,
              "#0d0887"
             ],
             [
              0.1111111111111111,
              "#46039f"
             ],
             [
              0.2222222222222222,
              "#7201a8"
             ],
             [
              0.3333333333333333,
              "#9c179e"
             ],
             [
              0.4444444444444444,
              "#bd3786"
             ],
             [
              0.5555555555555556,
              "#d8576b"
             ],
             [
              0.6666666666666666,
              "#ed7953"
             ],
             [
              0.7777777777777778,
              "#fb9f3a"
             ],
             [
              0.8888888888888888,
              "#fdca26"
             ],
             [
              1,
              "#f0f921"
             ]
            ],
            "type": "contour"
           }
          ],
          "contourcarpet": [
           {
            "colorbar": {
             "outlinewidth": 0,
             "ticks": ""
            },
            "type": "contourcarpet"
           }
          ],
          "heatmap": [
           {
            "colorbar": {
             "outlinewidth": 0,
             "ticks": ""
            },
            "colorscale": [
             [
              0,
              "#0d0887"
             ],
             [
              0.1111111111111111,
              "#46039f"
             ],
             [
              0.2222222222222222,
              "#7201a8"
             ],
             [
              0.3333333333333333,
              "#9c179e"
             ],
             [
              0.4444444444444444,
              "#bd3786"
             ],
             [
              0.5555555555555556,
              "#d8576b"
             ],
             [
              0.6666666666666666,
              "#ed7953"
             ],
             [
              0.7777777777777778,
              "#fb9f3a"
             ],
             [
              0.8888888888888888,
              "#fdca26"
             ],
             [
              1,
              "#f0f921"
             ]
            ],
            "type": "heatmap"
           }
          ],
          "heatmapgl": [
           {
            "colorbar": {
             "outlinewidth": 0,
             "ticks": ""
            },
            "colorscale": [
             [
              0,
              "#0d0887"
             ],
             [
              0.1111111111111111,
              "#46039f"
             ],
             [
              0.2222222222222222,
              "#7201a8"
             ],
             [
              0.3333333333333333,
              "#9c179e"
             ],
             [
              0.4444444444444444,
              "#bd3786"
             ],
             [
              0.5555555555555556,
              "#d8576b"
             ],
             [
              0.6666666666666666,
              "#ed7953"
             ],
             [
              0.7777777777777778,
              "#fb9f3a"
             ],
             [
              0.8888888888888888,
              "#fdca26"
             ],
             [
              1,
              "#f0f921"
             ]
            ],
            "type": "heatmapgl"
           }
          ],
          "histogram": [
           {
            "marker": {
             "pattern": {
              "fillmode": "overlay",
              "size": 10,
              "solidity": 0.2
             }
            },
            "type": "histogram"
           }
          ],
          "histogram2d": [
           {
            "colorbar": {
             "outlinewidth": 0,
             "ticks": ""
            },
            "colorscale": [
             [
              0,
              "#0d0887"
             ],
             [
              0.1111111111111111,
              "#46039f"
             ],
             [
              0.2222222222222222,
              "#7201a8"
             ],
             [
              0.3333333333333333,
              "#9c179e"
             ],
             [
              0.4444444444444444,
              "#bd3786"
             ],
             [
              0.5555555555555556,
              "#d8576b"
             ],
             [
              0.6666666666666666,
              "#ed7953"
             ],
             [
              0.7777777777777778,
              "#fb9f3a"
             ],
             [
              0.8888888888888888,
              "#fdca26"
             ],
             [
              1,
              "#f0f921"
             ]
            ],
            "type": "histogram2d"
           }
          ],
          "histogram2dcontour": [
           {
            "colorbar": {
             "outlinewidth": 0,
             "ticks": ""
            },
            "colorscale": [
             [
              0,
              "#0d0887"
             ],
             [
              0.1111111111111111,
              "#46039f"
             ],
             [
              0.2222222222222222,
              "#7201a8"
             ],
             [
              0.3333333333333333,
              "#9c179e"
             ],
             [
              0.4444444444444444,
              "#bd3786"
             ],
             [
              0.5555555555555556,
              "#d8576b"
             ],
             [
              0.6666666666666666,
              "#ed7953"
             ],
             [
              0.7777777777777778,
              "#fb9f3a"
             ],
             [
              0.8888888888888888,
              "#fdca26"
             ],
             [
              1,
              "#f0f921"
             ]
            ],
            "type": "histogram2dcontour"
           }
          ],
          "mesh3d": [
           {
            "colorbar": {
             "outlinewidth": 0,
             "ticks": ""
            },
            "type": "mesh3d"
           }
          ],
          "parcoords": [
           {
            "line": {
             "colorbar": {
              "outlinewidth": 0,
              "ticks": ""
             }
            },
            "type": "parcoords"
           }
          ],
          "pie": [
           {
            "automargin": true,
            "type": "pie"
           }
          ],
          "scatter": [
           {
            "fillpattern": {
             "fillmode": "overlay",
             "size": 10,
             "solidity": 0.2
            },
            "type": "scatter"
           }
          ],
          "scatter3d": [
           {
            "line": {
             "colorbar": {
              "outlinewidth": 0,
              "ticks": ""
             }
            },
            "marker": {
             "colorbar": {
              "outlinewidth": 0,
              "ticks": ""
             }
            },
            "type": "scatter3d"
           }
          ],
          "scattercarpet": [
           {
            "marker": {
             "colorbar": {
              "outlinewidth": 0,
              "ticks": ""
             }
            },
            "type": "scattercarpet"
           }
          ],
          "scattergeo": [
           {
            "marker": {
             "colorbar": {
              "outlinewidth": 0,
              "ticks": ""
             }
            },
            "type": "scattergeo"
           }
          ],
          "scattergl": [
           {
            "marker": {
             "colorbar": {
              "outlinewidth": 0,
              "ticks": ""
             }
            },
            "type": "scattergl"
           }
          ],
          "scattermapbox": [
           {
            "marker": {
             "colorbar": {
              "outlinewidth": 0,
              "ticks": ""
             }
            },
            "type": "scattermapbox"
           }
          ],
          "scatterpolar": [
           {
            "marker": {
             "colorbar": {
              "outlinewidth": 0,
              "ticks": ""
             }
            },
            "type": "scatterpolar"
           }
          ],
          "scatterpolargl": [
           {
            "marker": {
             "colorbar": {
              "outlinewidth": 0,
              "ticks": ""
             }
            },
            "type": "scatterpolargl"
           }
          ],
          "scatterternary": [
           {
            "marker": {
             "colorbar": {
              "outlinewidth": 0,
              "ticks": ""
             }
            },
            "type": "scatterternary"
           }
          ],
          "surface": [
           {
            "colorbar": {
             "outlinewidth": 0,
             "ticks": ""
            },
            "colorscale": [
             [
              0,
              "#0d0887"
             ],
             [
              0.1111111111111111,
              "#46039f"
             ],
             [
              0.2222222222222222,
              "#7201a8"
             ],
             [
              0.3333333333333333,
              "#9c179e"
             ],
             [
              0.4444444444444444,
              "#bd3786"
             ],
             [
              0.5555555555555556,
              "#d8576b"
             ],
             [
              0.6666666666666666,
              "#ed7953"
             ],
             [
              0.7777777777777778,
              "#fb9f3a"
             ],
             [
              0.8888888888888888,
              "#fdca26"
             ],
             [
              1,
              "#f0f921"
             ]
            ],
            "type": "surface"
           }
          ],
          "table": [
           {
            "cells": {
             "fill": {
              "color": "#EBF0F8"
             },
             "line": {
              "color": "white"
             }
            },
            "header": {
             "fill": {
              "color": "#C8D4E3"
             },
             "line": {
              "color": "white"
             }
            },
            "type": "table"
           }
          ]
         },
         "layout": {
          "annotationdefaults": {
           "arrowcolor": "#2a3f5f",
           "arrowhead": 0,
           "arrowwidth": 1
          },
          "autotypenumbers": "strict",
          "coloraxis": {
           "colorbar": {
            "outlinewidth": 0,
            "ticks": ""
           }
          },
          "colorscale": {
           "diverging": [
            [
             0,
             "#8e0152"
            ],
            [
             0.1,
             "#c51b7d"
            ],
            [
             0.2,
             "#de77ae"
            ],
            [
             0.3,
             "#f1b6da"
            ],
            [
             0.4,
             "#fde0ef"
            ],
            [
             0.5,
             "#f7f7f7"
            ],
            [
             0.6,
             "#e6f5d0"
            ],
            [
             0.7,
             "#b8e186"
            ],
            [
             0.8,
             "#7fbc41"
            ],
            [
             0.9,
             "#4d9221"
            ],
            [
             1,
             "#276419"
            ]
           ],
           "sequential": [
            [
             0,
             "#0d0887"
            ],
            [
             0.1111111111111111,
             "#46039f"
            ],
            [
             0.2222222222222222,
             "#7201a8"
            ],
            [
             0.3333333333333333,
             "#9c179e"
            ],
            [
             0.4444444444444444,
             "#bd3786"
            ],
            [
             0.5555555555555556,
             "#d8576b"
            ],
            [
             0.6666666666666666,
             "#ed7953"
            ],
            [
             0.7777777777777778,
             "#fb9f3a"
            ],
            [
             0.8888888888888888,
             "#fdca26"
            ],
            [
             1,
             "#f0f921"
            ]
           ],
           "sequentialminus": [
            [
             0,
             "#0d0887"
            ],
            [
             0.1111111111111111,
             "#46039f"
            ],
            [
             0.2222222222222222,
             "#7201a8"
            ],
            [
             0.3333333333333333,
             "#9c179e"
            ],
            [
             0.4444444444444444,
             "#bd3786"
            ],
            [
             0.5555555555555556,
             "#d8576b"
            ],
            [
             0.6666666666666666,
             "#ed7953"
            ],
            [
             0.7777777777777778,
             "#fb9f3a"
            ],
            [
             0.8888888888888888,
             "#fdca26"
            ],
            [
             1,
             "#f0f921"
            ]
           ]
          },
          "colorway": [
           "#636efa",
           "#EF553B",
           "#00cc96",
           "#ab63fa",
           "#FFA15A",
           "#19d3f3",
           "#FF6692",
           "#B6E880",
           "#FF97FF",
           "#FECB52"
          ],
          "font": {
           "color": "#2a3f5f"
          },
          "geo": {
           "bgcolor": "white",
           "lakecolor": "white",
           "landcolor": "#E5ECF6",
           "showlakes": true,
           "showland": true,
           "subunitcolor": "white"
          },
          "hoverlabel": {
           "align": "left"
          },
          "hovermode": "closest",
          "mapbox": {
           "style": "light"
          },
          "paper_bgcolor": "white",
          "plot_bgcolor": "#E5ECF6",
          "polar": {
           "angularaxis": {
            "gridcolor": "white",
            "linecolor": "white",
            "ticks": ""
           },
           "bgcolor": "#E5ECF6",
           "radialaxis": {
            "gridcolor": "white",
            "linecolor": "white",
            "ticks": ""
           }
          },
          "scene": {
           "xaxis": {
            "backgroundcolor": "#E5ECF6",
            "gridcolor": "white",
            "gridwidth": 2,
            "linecolor": "white",
            "showbackground": true,
            "ticks": "",
            "zerolinecolor": "white"
           },
           "yaxis": {
            "backgroundcolor": "#E5ECF6",
            "gridcolor": "white",
            "gridwidth": 2,
            "linecolor": "white",
            "showbackground": true,
            "ticks": "",
            "zerolinecolor": "white"
           },
           "zaxis": {
            "backgroundcolor": "#E5ECF6",
            "gridcolor": "white",
            "gridwidth": 2,
            "linecolor": "white",
            "showbackground": true,
            "ticks": "",
            "zerolinecolor": "white"
           }
          },
          "shapedefaults": {
           "line": {
            "color": "#2a3f5f"
           }
          },
          "ternary": {
           "aaxis": {
            "gridcolor": "white",
            "linecolor": "white",
            "ticks": ""
           },
           "baxis": {
            "gridcolor": "white",
            "linecolor": "white",
            "ticks": ""
           },
           "bgcolor": "#E5ECF6",
           "caxis": {
            "gridcolor": "white",
            "linecolor": "white",
            "ticks": ""
           }
          },
          "title": {
           "x": 0.05
          },
          "xaxis": {
           "automargin": true,
           "gridcolor": "white",
           "linecolor": "white",
           "ticks": "",
           "title": {
            "standoff": 15
           },
           "zerolinecolor": "white",
           "zerolinewidth": 2
          },
          "yaxis": {
           "automargin": true,
           "gridcolor": "white",
           "linecolor": "white",
           "ticks": "",
           "title": {
            "standoff": 15
           },
           "zerolinecolor": "white",
           "zerolinewidth": 2
          }
         }
        },
        "title": {
         "text": "Temperatura we Wrocławiu w pierwszym tyg. czerwca"
        }
       }
      },
      "text/html": [
       "<div>                            <div id=\"60c5598e-6f8c-4858-9d3b-cc3e518bd839\" class=\"plotly-graph-div\" style=\"height:525px; width:100%;\"></div>            <script type=\"text/javascript\">                require([\"plotly\"], function(Plotly) {                    window.PLOTLYENV=window.PLOTLYENV || {};                                    if (document.getElementById(\"60c5598e-6f8c-4858-9d3b-cc3e518bd839\")) {                    Plotly.newPlot(                        \"60c5598e-6f8c-4858-9d3b-cc3e518bd839\",                        [{\"x\":[0,1,2,3,4,5,6,7,8,9,10,11,12,13,14,15,16,17,18,19,20,21,22,23,0,1,2,3,4,5,6,7,8,9,10,11,12,13,14,15,16,17,18,19,20,21,22,23,0,1,2,3,4,5,6,7,8,9,10,11,12,13,14,15,16,17,18,19,20,21,22,23,0,1,2,3,4,5,6,7,8,9,10,11,12,13,14,15,16,17,18,19,20,21,22,23,0,1,2,3,4,5,6,7,8,9,10,11,12,13,14,15,16,17,18,19,20,21,22,23,0,1,2,3,4,5,6,7,8,9,10,11,12,13,14,15,16,17,18,19,20,21,22,23,0,1,2,3,4,5,6,7,8,9,10,11,12,13,14,15,16,17,18,19,20,21,22,23],\"y\":[\"Poniedzia\\u0142ek\",\"Poniedzia\\u0142ek\",\"Poniedzia\\u0142ek\",\"Poniedzia\\u0142ek\",\"Poniedzia\\u0142ek\",\"Poniedzia\\u0142ek\",\"Poniedzia\\u0142ek\",\"Poniedzia\\u0142ek\",\"Poniedzia\\u0142ek\",\"Poniedzia\\u0142ek\",\"Poniedzia\\u0142ek\",\"Poniedzia\\u0142ek\",\"Poniedzia\\u0142ek\",\"Poniedzia\\u0142ek\",\"Poniedzia\\u0142ek\",\"Poniedzia\\u0142ek\",\"Poniedzia\\u0142ek\",\"Poniedzia\\u0142ek\",\"Poniedzia\\u0142ek\",\"Poniedzia\\u0142ek\",\"Poniedzia\\u0142ek\",\"Poniedzia\\u0142ek\",\"Poniedzia\\u0142ek\",\"Poniedzia\\u0142ek\",\"Wtorek\",\"Wtorek\",\"Wtorek\",\"Wtorek\",\"Wtorek\",\"Wtorek\",\"Wtorek\",\"Wtorek\",\"Wtorek\",\"Wtorek\",\"Wtorek\",\"Wtorek\",\"Wtorek\",\"Wtorek\",\"Wtorek\",\"Wtorek\",\"Wtorek\",\"Wtorek\",\"Wtorek\",\"Wtorek\",\"Wtorek\",\"Wtorek\",\"Wtorek\",\"Wtorek\",\"\\u015aroda\",\"\\u015aroda\",\"\\u015aroda\",\"\\u015aroda\",\"\\u015aroda\",\"\\u015aroda\",\"\\u015aroda\",\"\\u015aroda\",\"\\u015aroda\",\"\\u015aroda\",\"\\u015aroda\",\"\\u015aroda\",\"\\u015aroda\",\"\\u015aroda\",\"\\u015aroda\",\"\\u015aroda\",\"\\u015aroda\",\"\\u015aroda\",\"\\u015aroda\",\"\\u015aroda\",\"\\u015aroda\",\"\\u015aroda\",\"\\u015aroda\",\"\\u015aroda\",\"Czwartek\",\"Czwartek\",\"Czwartek\",\"Czwartek\",\"Czwartek\",\"Czwartek\",\"Czwartek\",\"Czwartek\",\"Czwartek\",\"Czwartek\",\"Czwartek\",\"Czwartek\",\"Czwartek\",\"Czwartek\",\"Czwartek\",\"Czwartek\",\"Czwartek\",\"Czwartek\",\"Czwartek\",\"Czwartek\",\"Czwartek\",\"Czwartek\",\"Czwartek\",\"Czwartek\",\"Pi\\u0105tek\",\"Pi\\u0105tek\",\"Pi\\u0105tek\",\"Pi\\u0105tek\",\"Pi\\u0105tek\",\"Pi\\u0105tek\",\"Pi\\u0105tek\",\"Pi\\u0105tek\",\"Pi\\u0105tek\",\"Pi\\u0105tek\",\"Pi\\u0105tek\",\"Pi\\u0105tek\",\"Pi\\u0105tek\",\"Pi\\u0105tek\",\"Pi\\u0105tek\",\"Pi\\u0105tek\",\"Pi\\u0105tek\",\"Pi\\u0105tek\",\"Pi\\u0105tek\",\"Pi\\u0105tek\",\"Pi\\u0105tek\",\"Pi\\u0105tek\",\"Pi\\u0105tek\",\"Pi\\u0105tek\",\"Sobota\",\"Sobota\",\"Sobota\",\"Sobota\",\"Sobota\",\"Sobota\",\"Sobota\",\"Sobota\",\"Sobota\",\"Sobota\",\"Sobota\",\"Sobota\",\"Sobota\",\"Sobota\",\"Sobota\",\"Sobota\",\"Sobota\",\"Sobota\",\"Sobota\",\"Sobota\",\"Sobota\",\"Sobota\",\"Sobota\",\"Sobota\",\"Niedziela\",\"Niedziela\",\"Niedziela\",\"Niedziela\",\"Niedziela\",\"Niedziela\",\"Niedziela\",\"Niedziela\",\"Niedziela\",\"Niedziela\",\"Niedziela\",\"Niedziela\",\"Niedziela\",\"Niedziela\",\"Niedziela\",\"Niedziela\",\"Niedziela\",\"Niedziela\",\"Niedziela\",\"Niedziela\",\"Niedziela\",\"Niedziela\",\"Niedziela\",\"Niedziela\"],\"z\":[13.44463,12.224629,11.424629,10.61463,9.78463,8.86463,9.474629,11.70463,14.32463,16.83463,18.404629,19.144629,19.77463,20.244629,21.01463,21.114628,20.994629,20.734629,20.284628,19.59463,18.614628,16.814629,14.99463,13.554629,12.934629,12.844629,12.56463,11.24463,9.724629,8.95463,10.6046295,11.91463,13.27463,15.54463,16.964628,17.704628,18.284628,18.894629,19.204628,18.654629,19.60463,18.564629,18.34463,18.144629,17.914629,17.404629,16.824629,15.69463,14.6446295,14.24463,12.04463,10.514629,9.714629,9.32463,10.674629,12.49463,14.08463,15.53463,17.064629,18.01463,18.914629,19.734629,20.074629,20.394629,20.60463,20.214628,19.76463,19.25463,18.84463,17.474628,15.844629,14.844629,13.86463,12.844629,11.884629,10.87463,10.03463,9.304629,9.8946295,12.764629,15.78463,17.92463,19.144629,20.114628,21.10463,22.144629,23.27463,22.92463,22.27463,21.43463,20.144629,19.374628,19.234629,18.60463,16.694628,15.75463,14.95463,14.61463,13.91463,13.69463,13.98463,15.1446295,14.974629,15.054629,15.3946295,15.19463,15.70463,16.474628,16.114628,15.57463,16.644629,16.43463,15.934629,15.25463,16.204628,16.68463,16.50463,15.58463,15.07463,13.6446295,12.28463,11.70463,12.474629,13.16463,12.464629,11.75463,12.25463,13.20463,14.514629,15.91463,17.404629,18.76463,20.064629,21.33463,20.394629,20.43463,20.734629,21.75463,21.034628,20.564629,20.34463,20.00463,19.054628,18.01463,17.324629,17.17463,16.51463,15.86463,15.65463,15.27463,15.81463,17.064629,18.164629,18.134628,18.42463,19.50463,20.864628,21.27463,16.904629,17.464628,18.52463,19.58463,19.234629,18.25463,17.664629,17.09463,16.374628,15.3546295],\"type\":\"heatmap\"}],                        {\"template\":{\"data\":{\"barpolar\":[{\"marker\":{\"line\":{\"color\":\"#E5ECF6\",\"width\":0.5},\"pattern\":{\"fillmode\":\"overlay\",\"size\":10,\"solidity\":0.2}},\"type\":\"barpolar\"}],\"bar\":[{\"error_x\":{\"color\":\"#2a3f5f\"},\"error_y\":{\"color\":\"#2a3f5f\"},\"marker\":{\"line\":{\"color\":\"#E5ECF6\",\"width\":0.5},\"pattern\":{\"fillmode\":\"overlay\",\"size\":10,\"solidity\":0.2}},\"type\":\"bar\"}],\"carpet\":[{\"aaxis\":{\"endlinecolor\":\"#2a3f5f\",\"gridcolor\":\"white\",\"linecolor\":\"white\",\"minorgridcolor\":\"white\",\"startlinecolor\":\"#2a3f5f\"},\"baxis\":{\"endlinecolor\":\"#2a3f5f\",\"gridcolor\":\"white\",\"linecolor\":\"white\",\"minorgridcolor\":\"white\",\"startlinecolor\":\"#2a3f5f\"},\"type\":\"carpet\"}],\"choropleth\":[{\"colorbar\":{\"outlinewidth\":0,\"ticks\":\"\"},\"type\":\"choropleth\"}],\"contourcarpet\":[{\"colorbar\":{\"outlinewidth\":0,\"ticks\":\"\"},\"type\":\"contourcarpet\"}],\"contour\":[{\"colorbar\":{\"outlinewidth\":0,\"ticks\":\"\"},\"colorscale\":[[0.0,\"#0d0887\"],[0.1111111111111111,\"#46039f\"],[0.2222222222222222,\"#7201a8\"],[0.3333333333333333,\"#9c179e\"],[0.4444444444444444,\"#bd3786\"],[0.5555555555555556,\"#d8576b\"],[0.6666666666666666,\"#ed7953\"],[0.7777777777777778,\"#fb9f3a\"],[0.8888888888888888,\"#fdca26\"],[1.0,\"#f0f921\"]],\"type\":\"contour\"}],\"heatmapgl\":[{\"colorbar\":{\"outlinewidth\":0,\"ticks\":\"\"},\"colorscale\":[[0.0,\"#0d0887\"],[0.1111111111111111,\"#46039f\"],[0.2222222222222222,\"#7201a8\"],[0.3333333333333333,\"#9c179e\"],[0.4444444444444444,\"#bd3786\"],[0.5555555555555556,\"#d8576b\"],[0.6666666666666666,\"#ed7953\"],[0.7777777777777778,\"#fb9f3a\"],[0.8888888888888888,\"#fdca26\"],[1.0,\"#f0f921\"]],\"type\":\"heatmapgl\"}],\"heatmap\":[{\"colorbar\":{\"outlinewidth\":0,\"ticks\":\"\"},\"colorscale\":[[0.0,\"#0d0887\"],[0.1111111111111111,\"#46039f\"],[0.2222222222222222,\"#7201a8\"],[0.3333333333333333,\"#9c179e\"],[0.4444444444444444,\"#bd3786\"],[0.5555555555555556,\"#d8576b\"],[0.6666666666666666,\"#ed7953\"],[0.7777777777777778,\"#fb9f3a\"],[0.8888888888888888,\"#fdca26\"],[1.0,\"#f0f921\"]],\"type\":\"heatmap\"}],\"histogram2dcontour\":[{\"colorbar\":{\"outlinewidth\":0,\"ticks\":\"\"},\"colorscale\":[[0.0,\"#0d0887\"],[0.1111111111111111,\"#46039f\"],[0.2222222222222222,\"#7201a8\"],[0.3333333333333333,\"#9c179e\"],[0.4444444444444444,\"#bd3786\"],[0.5555555555555556,\"#d8576b\"],[0.6666666666666666,\"#ed7953\"],[0.7777777777777778,\"#fb9f3a\"],[0.8888888888888888,\"#fdca26\"],[1.0,\"#f0f921\"]],\"type\":\"histogram2dcontour\"}],\"histogram2d\":[{\"colorbar\":{\"outlinewidth\":0,\"ticks\":\"\"},\"colorscale\":[[0.0,\"#0d0887\"],[0.1111111111111111,\"#46039f\"],[0.2222222222222222,\"#7201a8\"],[0.3333333333333333,\"#9c179e\"],[0.4444444444444444,\"#bd3786\"],[0.5555555555555556,\"#d8576b\"],[0.6666666666666666,\"#ed7953\"],[0.7777777777777778,\"#fb9f3a\"],[0.8888888888888888,\"#fdca26\"],[1.0,\"#f0f921\"]],\"type\":\"histogram2d\"}],\"histogram\":[{\"marker\":{\"pattern\":{\"fillmode\":\"overlay\",\"size\":10,\"solidity\":0.2}},\"type\":\"histogram\"}],\"mesh3d\":[{\"colorbar\":{\"outlinewidth\":0,\"ticks\":\"\"},\"type\":\"mesh3d\"}],\"parcoords\":[{\"line\":{\"colorbar\":{\"outlinewidth\":0,\"ticks\":\"\"}},\"type\":\"parcoords\"}],\"pie\":[{\"automargin\":true,\"type\":\"pie\"}],\"scatter3d\":[{\"line\":{\"colorbar\":{\"outlinewidth\":0,\"ticks\":\"\"}},\"marker\":{\"colorbar\":{\"outlinewidth\":0,\"ticks\":\"\"}},\"type\":\"scatter3d\"}],\"scattercarpet\":[{\"marker\":{\"colorbar\":{\"outlinewidth\":0,\"ticks\":\"\"}},\"type\":\"scattercarpet\"}],\"scattergeo\":[{\"marker\":{\"colorbar\":{\"outlinewidth\":0,\"ticks\":\"\"}},\"type\":\"scattergeo\"}],\"scattergl\":[{\"marker\":{\"colorbar\":{\"outlinewidth\":0,\"ticks\":\"\"}},\"type\":\"scattergl\"}],\"scattermapbox\":[{\"marker\":{\"colorbar\":{\"outlinewidth\":0,\"ticks\":\"\"}},\"type\":\"scattermapbox\"}],\"scatterpolargl\":[{\"marker\":{\"colorbar\":{\"outlinewidth\":0,\"ticks\":\"\"}},\"type\":\"scatterpolargl\"}],\"scatterpolar\":[{\"marker\":{\"colorbar\":{\"outlinewidth\":0,\"ticks\":\"\"}},\"type\":\"scatterpolar\"}],\"scatter\":[{\"fillpattern\":{\"fillmode\":\"overlay\",\"size\":10,\"solidity\":0.2},\"type\":\"scatter\"}],\"scatterternary\":[{\"marker\":{\"colorbar\":{\"outlinewidth\":0,\"ticks\":\"\"}},\"type\":\"scatterternary\"}],\"surface\":[{\"colorbar\":{\"outlinewidth\":0,\"ticks\":\"\"},\"colorscale\":[[0.0,\"#0d0887\"],[0.1111111111111111,\"#46039f\"],[0.2222222222222222,\"#7201a8\"],[0.3333333333333333,\"#9c179e\"],[0.4444444444444444,\"#bd3786\"],[0.5555555555555556,\"#d8576b\"],[0.6666666666666666,\"#ed7953\"],[0.7777777777777778,\"#fb9f3a\"],[0.8888888888888888,\"#fdca26\"],[1.0,\"#f0f921\"]],\"type\":\"surface\"}],\"table\":[{\"cells\":{\"fill\":{\"color\":\"#EBF0F8\"},\"line\":{\"color\":\"white\"}},\"header\":{\"fill\":{\"color\":\"#C8D4E3\"},\"line\":{\"color\":\"white\"}},\"type\":\"table\"}]},\"layout\":{\"annotationdefaults\":{\"arrowcolor\":\"#2a3f5f\",\"arrowhead\":0,\"arrowwidth\":1},\"autotypenumbers\":\"strict\",\"coloraxis\":{\"colorbar\":{\"outlinewidth\":0,\"ticks\":\"\"}},\"colorscale\":{\"diverging\":[[0,\"#8e0152\"],[0.1,\"#c51b7d\"],[0.2,\"#de77ae\"],[0.3,\"#f1b6da\"],[0.4,\"#fde0ef\"],[0.5,\"#f7f7f7\"],[0.6,\"#e6f5d0\"],[0.7,\"#b8e186\"],[0.8,\"#7fbc41\"],[0.9,\"#4d9221\"],[1,\"#276419\"]],\"sequential\":[[0.0,\"#0d0887\"],[0.1111111111111111,\"#46039f\"],[0.2222222222222222,\"#7201a8\"],[0.3333333333333333,\"#9c179e\"],[0.4444444444444444,\"#bd3786\"],[0.5555555555555556,\"#d8576b\"],[0.6666666666666666,\"#ed7953\"],[0.7777777777777778,\"#fb9f3a\"],[0.8888888888888888,\"#fdca26\"],[1.0,\"#f0f921\"]],\"sequentialminus\":[[0.0,\"#0d0887\"],[0.1111111111111111,\"#46039f\"],[0.2222222222222222,\"#7201a8\"],[0.3333333333333333,\"#9c179e\"],[0.4444444444444444,\"#bd3786\"],[0.5555555555555556,\"#d8576b\"],[0.6666666666666666,\"#ed7953\"],[0.7777777777777778,\"#fb9f3a\"],[0.8888888888888888,\"#fdca26\"],[1.0,\"#f0f921\"]]},\"colorway\":[\"#636efa\",\"#EF553B\",\"#00cc96\",\"#ab63fa\",\"#FFA15A\",\"#19d3f3\",\"#FF6692\",\"#B6E880\",\"#FF97FF\",\"#FECB52\"],\"font\":{\"color\":\"#2a3f5f\"},\"geo\":{\"bgcolor\":\"white\",\"lakecolor\":\"white\",\"landcolor\":\"#E5ECF6\",\"showlakes\":true,\"showland\":true,\"subunitcolor\":\"white\"},\"hoverlabel\":{\"align\":\"left\"},\"hovermode\":\"closest\",\"mapbox\":{\"style\":\"light\"},\"paper_bgcolor\":\"white\",\"plot_bgcolor\":\"#E5ECF6\",\"polar\":{\"angularaxis\":{\"gridcolor\":\"white\",\"linecolor\":\"white\",\"ticks\":\"\"},\"bgcolor\":\"#E5ECF6\",\"radialaxis\":{\"gridcolor\":\"white\",\"linecolor\":\"white\",\"ticks\":\"\"}},\"scene\":{\"xaxis\":{\"backgroundcolor\":\"#E5ECF6\",\"gridcolor\":\"white\",\"gridwidth\":2,\"linecolor\":\"white\",\"showbackground\":true,\"ticks\":\"\",\"zerolinecolor\":\"white\"},\"yaxis\":{\"backgroundcolor\":\"#E5ECF6\",\"gridcolor\":\"white\",\"gridwidth\":2,\"linecolor\":\"white\",\"showbackground\":true,\"ticks\":\"\",\"zerolinecolor\":\"white\"},\"zaxis\":{\"backgroundcolor\":\"#E5ECF6\",\"gridcolor\":\"white\",\"gridwidth\":2,\"linecolor\":\"white\",\"showbackground\":true,\"ticks\":\"\",\"zerolinecolor\":\"white\"}},\"shapedefaults\":{\"line\":{\"color\":\"#2a3f5f\"}},\"ternary\":{\"aaxis\":{\"gridcolor\":\"white\",\"linecolor\":\"white\",\"ticks\":\"\"},\"baxis\":{\"gridcolor\":\"white\",\"linecolor\":\"white\",\"ticks\":\"\"},\"bgcolor\":\"#E5ECF6\",\"caxis\":{\"gridcolor\":\"white\",\"linecolor\":\"white\",\"ticks\":\"\"}},\"title\":{\"x\":0.05},\"xaxis\":{\"automargin\":true,\"gridcolor\":\"white\",\"linecolor\":\"white\",\"ticks\":\"\",\"title\":{\"standoff\":15},\"zerolinecolor\":\"white\",\"zerolinewidth\":2},\"yaxis\":{\"automargin\":true,\"gridcolor\":\"white\",\"linecolor\":\"white\",\"ticks\":\"\",\"title\":{\"standoff\":15},\"zerolinecolor\":\"white\",\"zerolinewidth\":2}}},\"title\":{\"text\":\"Temperatura we Wroc\\u0142awiu w pierwszym tyg. czerwca\"}},                        {\"responsive\": true}                    ).then(function(){\n",
       "                            \n",
       "var gd = document.getElementById('60c5598e-6f8c-4858-9d3b-cc3e518bd839');\n",
       "var x = new MutationObserver(function (mutations, observer) {{\n",
       "        var display = window.getComputedStyle(gd).display;\n",
       "        if (!display || display === 'none') {{\n",
       "            console.log([gd, 'removed!']);\n",
       "            Plotly.purge(gd);\n",
       "            observer.disconnect();\n",
       "        }}\n",
       "}});\n",
       "\n",
       "// Listen for the removal of the full notebook cells\n",
       "var notebookContainer = gd.closest('#notebook-container');\n",
       "if (notebookContainer) {{\n",
       "    x.observe(notebookContainer, {childList: true});\n",
       "}}\n",
       "\n",
       "// Listen for the clearing of the current output cell\n",
       "var outputEl = gd.closest('.output');\n",
       "if (outputEl) {{\n",
       "    x.observe(outputEl, {childList: true});\n",
       "}}\n",
       "\n",
       "                        })                };                });            </script>        </div>"
      ]
     },
     "metadata": {},
     "output_type": "display_data"
    }
   ],
   "source": [
    "fig = go.Figure()\n",
    "\n",
    "fig.add_trace(go.Heatmap(x=wro_temp.index.hour,\n",
    "                         y=wro_temp.index.weekday.map({0:'Poniedziałek',1:'Wtorek',2:'Środa',\n",
    "                                                       3:'Czwartek',4:'Piątek',5:'Sobota',6:'Niedziela'}),\n",
    "                         z=wro_temp['Wrocław Temperature [2 m elevation corrected]'].tolist()))\n",
    "# wektor będący podstawą heatmapy (temperatura) musi w tym przypadku zostać przekształcony na listę za pomocą funkcji tolist\n",
    "fig.update_layout(title='Temperatura we Wrocławiu w pierwszym tyg. czerwca')\n",
    "iplot(fig)"
   ]
  },
  {
   "cell_type": "markdown",
   "id": "e93ad299",
   "metadata": {},
   "source": [
    "# 2 wykresy obok siebie"
   ]
  },
  {
   "cell_type": "code",
   "execution_count": 4,
   "id": "883f5be1",
   "metadata": {},
   "outputs": [],
   "source": [
    "fig = subplots.make_subplots(rows=1,cols=2,subplot_titles=['Temperatura','Opady'],shared_yaxes=True)"
   ]
  },
  {
   "cell_type": "code",
   "execution_count": 5,
   "id": "fdbafad2",
   "metadata": {},
   "outputs": [
    {
     "data": {
      "application/vnd.plotly.v1+json": {
       "config": {
        "linkText": "Export to plot.ly",
        "plotlyServerURL": "https://plot.ly",
        "showLink": false
       },
       "data": [
        {
         "colorscale": [
          [
           0,
           "rgb(0,0,131)"
          ],
          [
           0.2,
           "rgb(0,60,170)"
          ],
          [
           0.4,
           "rgb(5,255,255)"
          ],
          [
           0.6,
           "rgb(255,255,0)"
          ],
          [
           0.8,
           "rgb(250,0,0)"
          ],
          [
           1,
           "rgb(128,0,0)"
          ]
         ],
         "showscale": false,
         "type": "heatmap",
         "x": [
          0,
          1,
          2,
          3,
          4,
          5,
          6,
          7,
          8,
          9,
          10,
          11,
          12,
          13,
          14,
          15,
          16,
          17,
          18,
          19,
          20,
          21,
          22,
          23,
          0,
          1,
          2,
          3,
          4,
          5,
          6,
          7,
          8,
          9,
          10,
          11,
          12,
          13,
          14,
          15,
          16,
          17,
          18,
          19,
          20,
          21,
          22,
          23,
          0,
          1,
          2,
          3,
          4,
          5,
          6,
          7,
          8,
          9,
          10,
          11,
          12,
          13,
          14,
          15,
          16,
          17,
          18,
          19,
          20,
          21,
          22,
          23,
          0,
          1,
          2,
          3,
          4,
          5,
          6,
          7,
          8,
          9,
          10,
          11,
          12,
          13,
          14,
          15,
          16,
          17,
          18,
          19,
          20,
          21,
          22,
          23,
          0,
          1,
          2,
          3,
          4,
          5,
          6,
          7,
          8,
          9,
          10,
          11,
          12,
          13,
          14,
          15,
          16,
          17,
          18,
          19,
          20,
          21,
          22,
          23,
          0,
          1,
          2,
          3,
          4,
          5,
          6,
          7,
          8,
          9,
          10,
          11,
          12,
          13,
          14,
          15,
          16,
          17,
          18,
          19,
          20,
          21,
          22,
          23,
          0,
          1,
          2,
          3,
          4,
          5,
          6,
          7,
          8,
          9,
          10,
          11,
          12,
          13,
          14,
          15,
          16,
          17,
          18,
          19,
          20,
          21,
          22,
          23
         ],
         "xaxis": "x",
         "y": [
          "Poniedziałek",
          "Poniedziałek",
          "Poniedziałek",
          "Poniedziałek",
          "Poniedziałek",
          "Poniedziałek",
          "Poniedziałek",
          "Poniedziałek",
          "Poniedziałek",
          "Poniedziałek",
          "Poniedziałek",
          "Poniedziałek",
          "Poniedziałek",
          "Poniedziałek",
          "Poniedziałek",
          "Poniedziałek",
          "Poniedziałek",
          "Poniedziałek",
          "Poniedziałek",
          "Poniedziałek",
          "Poniedziałek",
          "Poniedziałek",
          "Poniedziałek",
          "Poniedziałek",
          "Wtorek",
          "Wtorek",
          "Wtorek",
          "Wtorek",
          "Wtorek",
          "Wtorek",
          "Wtorek",
          "Wtorek",
          "Wtorek",
          "Wtorek",
          "Wtorek",
          "Wtorek",
          "Wtorek",
          "Wtorek",
          "Wtorek",
          "Wtorek",
          "Wtorek",
          "Wtorek",
          "Wtorek",
          "Wtorek",
          "Wtorek",
          "Wtorek",
          "Wtorek",
          "Wtorek",
          "Środa",
          "Środa",
          "Środa",
          "Środa",
          "Środa",
          "Środa",
          "Środa",
          "Środa",
          "Środa",
          "Środa",
          "Środa",
          "Środa",
          "Środa",
          "Środa",
          "Środa",
          "Środa",
          "Środa",
          "Środa",
          "Środa",
          "Środa",
          "Środa",
          "Środa",
          "Środa",
          "Środa",
          "Czwartek",
          "Czwartek",
          "Czwartek",
          "Czwartek",
          "Czwartek",
          "Czwartek",
          "Czwartek",
          "Czwartek",
          "Czwartek",
          "Czwartek",
          "Czwartek",
          "Czwartek",
          "Czwartek",
          "Czwartek",
          "Czwartek",
          "Czwartek",
          "Czwartek",
          "Czwartek",
          "Czwartek",
          "Czwartek",
          "Czwartek",
          "Czwartek",
          "Czwartek",
          "Czwartek",
          "Piątek",
          "Piątek",
          "Piątek",
          "Piątek",
          "Piątek",
          "Piątek",
          "Piątek",
          "Piątek",
          "Piątek",
          "Piątek",
          "Piątek",
          "Piątek",
          "Piątek",
          "Piątek",
          "Piątek",
          "Piątek",
          "Piątek",
          "Piątek",
          "Piątek",
          "Piątek",
          "Piątek",
          "Piątek",
          "Piątek",
          "Piątek",
          "Sobota",
          "Sobota",
          "Sobota",
          "Sobota",
          "Sobota",
          "Sobota",
          "Sobota",
          "Sobota",
          "Sobota",
          "Sobota",
          "Sobota",
          "Sobota",
          "Sobota",
          "Sobota",
          "Sobota",
          "Sobota",
          "Sobota",
          "Sobota",
          "Sobota",
          "Sobota",
          "Sobota",
          "Sobota",
          "Sobota",
          "Sobota",
          "Niedziela",
          "Niedziela",
          "Niedziela",
          "Niedziela",
          "Niedziela",
          "Niedziela",
          "Niedziela",
          "Niedziela",
          "Niedziela",
          "Niedziela",
          "Niedziela",
          "Niedziela",
          "Niedziela",
          "Niedziela",
          "Niedziela",
          "Niedziela",
          "Niedziela",
          "Niedziela",
          "Niedziela",
          "Niedziela",
          "Niedziela",
          "Niedziela",
          "Niedziela",
          "Niedziela"
         ],
         "yaxis": "y",
         "z": [
          13.44463,
          12.224629,
          11.424629,
          10.61463,
          9.78463,
          8.86463,
          9.474629,
          11.70463,
          14.32463,
          16.83463,
          18.404629,
          19.144629,
          19.77463,
          20.244629,
          21.01463,
          21.114628,
          20.994629,
          20.734629,
          20.284628,
          19.59463,
          18.614628,
          16.814629,
          14.99463,
          13.554629,
          12.934629,
          12.844629,
          12.56463,
          11.24463,
          9.724629,
          8.95463,
          10.6046295,
          11.91463,
          13.27463,
          15.54463,
          16.964628,
          17.704628,
          18.284628,
          18.894629,
          19.204628,
          18.654629,
          19.60463,
          18.564629,
          18.34463,
          18.144629,
          17.914629,
          17.404629,
          16.824629,
          15.69463,
          14.6446295,
          14.24463,
          12.04463,
          10.514629,
          9.714629,
          9.32463,
          10.674629,
          12.49463,
          14.08463,
          15.53463,
          17.064629,
          18.01463,
          18.914629,
          19.734629,
          20.074629,
          20.394629,
          20.60463,
          20.214628,
          19.76463,
          19.25463,
          18.84463,
          17.474628,
          15.844629,
          14.844629,
          13.86463,
          12.844629,
          11.884629,
          10.87463,
          10.03463,
          9.304629,
          9.8946295,
          12.764629,
          15.78463,
          17.92463,
          19.144629,
          20.114628,
          21.10463,
          22.144629,
          23.27463,
          22.92463,
          22.27463,
          21.43463,
          20.144629,
          19.374628,
          19.234629,
          18.60463,
          16.694628,
          15.75463,
          14.95463,
          14.61463,
          13.91463,
          13.69463,
          13.98463,
          15.1446295,
          14.974629,
          15.054629,
          15.3946295,
          15.19463,
          15.70463,
          16.474628,
          16.114628,
          15.57463,
          16.644629,
          16.43463,
          15.934629,
          15.25463,
          16.204628,
          16.68463,
          16.50463,
          15.58463,
          15.07463,
          13.6446295,
          12.28463,
          11.70463,
          12.474629,
          13.16463,
          12.464629,
          11.75463,
          12.25463,
          13.20463,
          14.514629,
          15.91463,
          17.404629,
          18.76463,
          20.064629,
          21.33463,
          20.394629,
          20.43463,
          20.734629,
          21.75463,
          21.034628,
          20.564629,
          20.34463,
          20.00463,
          19.054628,
          18.01463,
          17.324629,
          17.17463,
          16.51463,
          15.86463,
          15.65463,
          15.27463,
          15.81463,
          17.064629,
          18.164629,
          18.134628,
          18.42463,
          19.50463,
          20.864628,
          21.27463,
          16.904629,
          17.464628,
          18.52463,
          19.58463,
          19.234629,
          18.25463,
          17.664629,
          17.09463,
          16.374628,
          15.3546295
         ]
        },
        {
         "colorscale": [
          [
           0,
           "#00224e"
          ],
          [
           0.1111111111111111,
           "#123570"
          ],
          [
           0.2222222222222222,
           "#3b496c"
          ],
          [
           0.3333333333333333,
           "#575d6d"
          ],
          [
           0.4444444444444444,
           "#707173"
          ],
          [
           0.5555555555555556,
           "#8a8678"
          ],
          [
           0.6666666666666666,
           "#a59c74"
          ],
          [
           0.7777777777777778,
           "#c3b369"
          ],
          [
           0.8888888888888888,
           "#e1cc55"
          ],
          [
           1,
           "#fee838"
          ]
         ],
         "showscale": false,
         "type": "heatmap",
         "x": [
          0,
          1,
          2,
          3,
          4,
          5,
          6,
          7,
          8,
          9,
          10,
          11,
          12,
          13,
          14,
          15,
          16,
          17,
          18,
          19,
          20,
          21,
          22,
          23,
          0,
          1,
          2,
          3,
          4,
          5,
          6,
          7,
          8,
          9,
          10,
          11,
          12,
          13,
          14,
          15,
          16,
          17,
          18,
          19,
          20,
          21,
          22,
          23,
          0,
          1,
          2,
          3,
          4,
          5,
          6,
          7,
          8,
          9,
          10,
          11,
          12,
          13,
          14,
          15,
          16,
          17,
          18,
          19,
          20,
          21,
          22,
          23,
          0,
          1,
          2,
          3,
          4,
          5,
          6,
          7,
          8,
          9,
          10,
          11,
          12,
          13,
          14,
          15,
          16,
          17,
          18,
          19,
          20,
          21,
          22,
          23,
          0,
          1,
          2,
          3,
          4,
          5,
          6,
          7,
          8,
          9,
          10,
          11,
          12,
          13,
          14,
          15,
          16,
          17,
          18,
          19,
          20,
          21,
          22,
          23,
          0,
          1,
          2,
          3,
          4,
          5,
          6,
          7,
          8,
          9,
          10,
          11,
          12,
          13,
          14,
          15,
          16,
          17,
          18,
          19,
          20,
          21,
          22,
          23,
          0,
          1,
          2,
          3,
          4,
          5,
          6,
          7,
          8,
          9,
          10,
          11,
          12,
          13,
          14,
          15,
          16,
          17,
          18,
          19,
          20,
          21,
          22,
          23
         ],
         "xaxis": "x2",
         "y": [
          "Poniedziałek",
          "Poniedziałek",
          "Poniedziałek",
          "Poniedziałek",
          "Poniedziałek",
          "Poniedziałek",
          "Poniedziałek",
          "Poniedziałek",
          "Poniedziałek",
          "Poniedziałek",
          "Poniedziałek",
          "Poniedziałek",
          "Poniedziałek",
          "Poniedziałek",
          "Poniedziałek",
          "Poniedziałek",
          "Poniedziałek",
          "Poniedziałek",
          "Poniedziałek",
          "Poniedziałek",
          "Poniedziałek",
          "Poniedziałek",
          "Poniedziałek",
          "Poniedziałek",
          "Wtorek",
          "Wtorek",
          "Wtorek",
          "Wtorek",
          "Wtorek",
          "Wtorek",
          "Wtorek",
          "Wtorek",
          "Wtorek",
          "Wtorek",
          "Wtorek",
          "Wtorek",
          "Wtorek",
          "Wtorek",
          "Wtorek",
          "Wtorek",
          "Wtorek",
          "Wtorek",
          "Wtorek",
          "Wtorek",
          "Wtorek",
          "Wtorek",
          "Wtorek",
          "Wtorek",
          "Środa",
          "Środa",
          "Środa",
          "Środa",
          "Środa",
          "Środa",
          "Środa",
          "Środa",
          "Środa",
          "Środa",
          "Środa",
          "Środa",
          "Środa",
          "Środa",
          "Środa",
          "Środa",
          "Środa",
          "Środa",
          "Środa",
          "Środa",
          "Środa",
          "Środa",
          "Środa",
          "Środa",
          "Czwartek",
          "Czwartek",
          "Czwartek",
          "Czwartek",
          "Czwartek",
          "Czwartek",
          "Czwartek",
          "Czwartek",
          "Czwartek",
          "Czwartek",
          "Czwartek",
          "Czwartek",
          "Czwartek",
          "Czwartek",
          "Czwartek",
          "Czwartek",
          "Czwartek",
          "Czwartek",
          "Czwartek",
          "Czwartek",
          "Czwartek",
          "Czwartek",
          "Czwartek",
          "Czwartek",
          "Piątek",
          "Piątek",
          "Piątek",
          "Piątek",
          "Piątek",
          "Piątek",
          "Piątek",
          "Piątek",
          "Piątek",
          "Piątek",
          "Piątek",
          "Piątek",
          "Piątek",
          "Piątek",
          "Piątek",
          "Piątek",
          "Piątek",
          "Piątek",
          "Piątek",
          "Piątek",
          "Piątek",
          "Piątek",
          "Piątek",
          "Piątek",
          "Sobota",
          "Sobota",
          "Sobota",
          "Sobota",
          "Sobota",
          "Sobota",
          "Sobota",
          "Sobota",
          "Sobota",
          "Sobota",
          "Sobota",
          "Sobota",
          "Sobota",
          "Sobota",
          "Sobota",
          "Sobota",
          "Sobota",
          "Sobota",
          "Sobota",
          "Sobota",
          "Sobota",
          "Sobota",
          "Sobota",
          "Sobota",
          "Niedziela",
          "Niedziela",
          "Niedziela",
          "Niedziela",
          "Niedziela",
          "Niedziela",
          "Niedziela",
          "Niedziela",
          "Niedziela",
          "Niedziela",
          "Niedziela",
          "Niedziela",
          "Niedziela",
          "Niedziela",
          "Niedziela",
          "Niedziela",
          "Niedziela",
          "Niedziela",
          "Niedziela",
          "Niedziela",
          "Niedziela",
          "Niedziela",
          "Niedziela",
          "Niedziela"
         ],
         "yaxis": "y2",
         "z": [
          0,
          0,
          0,
          0,
          0,
          0,
          0,
          0,
          0,
          0,
          0,
          0,
          0,
          0,
          0,
          0,
          0,
          0,
          0,
          0,
          0,
          0,
          0,
          0,
          0,
          0,
          0,
          0,
          0,
          0,
          0,
          0,
          0,
          0,
          0,
          0,
          0,
          0,
          0,
          0,
          0,
          0,
          0,
          0.4,
          0.1,
          0,
          0,
          0,
          0,
          0,
          0,
          0,
          0,
          0,
          0,
          0,
          0,
          0,
          0,
          0,
          0,
          0,
          0,
          0,
          0,
          0,
          0,
          0,
          0,
          0,
          0,
          0,
          0,
          0,
          0,
          0,
          0,
          0,
          0,
          0,
          0,
          0,
          0,
          0,
          0,
          0,
          0,
          0,
          0.4,
          0.3,
          0.1,
          0,
          0.1,
          0,
          0,
          0,
          0,
          0,
          0,
          0,
          0,
          0.1,
          0.1,
          0.1,
          0.4,
          0.2,
          0.5,
          0,
          0,
          0,
          0.4,
          0.6,
          0.6,
          0.3,
          0,
          0,
          0,
          0,
          0,
          0,
          0,
          0,
          0,
          0,
          0,
          0,
          0,
          0,
          0,
          0,
          0,
          0,
          0,
          0,
          0.2,
          0.3,
          0.3,
          0.2,
          0.3,
          0.3,
          0,
          0,
          0,
          0.1,
          0.5,
          0.5,
          0.1,
          0,
          0,
          0,
          0,
          0.1,
          0.1,
          0.5,
          0.1,
          0,
          0,
          0.1,
          0,
          0,
          0.4,
          0.9,
          1,
          1.7,
          1.1,
          0.5,
          1.4,
          2.2
         ]
        }
       ],
       "layout": {
        "annotations": [
         {
          "font": {
           "size": 16
          },
          "showarrow": false,
          "text": "Temperatura",
          "x": 0.225,
          "xanchor": "center",
          "xref": "paper",
          "y": 1,
          "yanchor": "bottom",
          "yref": "paper"
         },
         {
          "font": {
           "size": 16
          },
          "showarrow": false,
          "text": "Opady",
          "x": 0.775,
          "xanchor": "center",
          "xref": "paper",
          "y": 1,
          "yanchor": "bottom",
          "yref": "paper"
         }
        ],
        "template": {
         "data": {
          "bar": [
           {
            "error_x": {
             "color": "#2a3f5f"
            },
            "error_y": {
             "color": "#2a3f5f"
            },
            "marker": {
             "line": {
              "color": "#E5ECF6",
              "width": 0.5
             },
             "pattern": {
              "fillmode": "overlay",
              "size": 10,
              "solidity": 0.2
             }
            },
            "type": "bar"
           }
          ],
          "barpolar": [
           {
            "marker": {
             "line": {
              "color": "#E5ECF6",
              "width": 0.5
             },
             "pattern": {
              "fillmode": "overlay",
              "size": 10,
              "solidity": 0.2
             }
            },
            "type": "barpolar"
           }
          ],
          "carpet": [
           {
            "aaxis": {
             "endlinecolor": "#2a3f5f",
             "gridcolor": "white",
             "linecolor": "white",
             "minorgridcolor": "white",
             "startlinecolor": "#2a3f5f"
            },
            "baxis": {
             "endlinecolor": "#2a3f5f",
             "gridcolor": "white",
             "linecolor": "white",
             "minorgridcolor": "white",
             "startlinecolor": "#2a3f5f"
            },
            "type": "carpet"
           }
          ],
          "choropleth": [
           {
            "colorbar": {
             "outlinewidth": 0,
             "ticks": ""
            },
            "type": "choropleth"
           }
          ],
          "contour": [
           {
            "colorbar": {
             "outlinewidth": 0,
             "ticks": ""
            },
            "colorscale": [
             [
              0,
              "#0d0887"
             ],
             [
              0.1111111111111111,
              "#46039f"
             ],
             [
              0.2222222222222222,
              "#7201a8"
             ],
             [
              0.3333333333333333,
              "#9c179e"
             ],
             [
              0.4444444444444444,
              "#bd3786"
             ],
             [
              0.5555555555555556,
              "#d8576b"
             ],
             [
              0.6666666666666666,
              "#ed7953"
             ],
             [
              0.7777777777777778,
              "#fb9f3a"
             ],
             [
              0.8888888888888888,
              "#fdca26"
             ],
             [
              1,
              "#f0f921"
             ]
            ],
            "type": "contour"
           }
          ],
          "contourcarpet": [
           {
            "colorbar": {
             "outlinewidth": 0,
             "ticks": ""
            },
            "type": "contourcarpet"
           }
          ],
          "heatmap": [
           {
            "colorbar": {
             "outlinewidth": 0,
             "ticks": ""
            },
            "colorscale": [
             [
              0,
              "#0d0887"
             ],
             [
              0.1111111111111111,
              "#46039f"
             ],
             [
              0.2222222222222222,
              "#7201a8"
             ],
             [
              0.3333333333333333,
              "#9c179e"
             ],
             [
              0.4444444444444444,
              "#bd3786"
             ],
             [
              0.5555555555555556,
              "#d8576b"
             ],
             [
              0.6666666666666666,
              "#ed7953"
             ],
             [
              0.7777777777777778,
              "#fb9f3a"
             ],
             [
              0.8888888888888888,
              "#fdca26"
             ],
             [
              1,
              "#f0f921"
             ]
            ],
            "type": "heatmap"
           }
          ],
          "heatmapgl": [
           {
            "colorbar": {
             "outlinewidth": 0,
             "ticks": ""
            },
            "colorscale": [
             [
              0,
              "#0d0887"
             ],
             [
              0.1111111111111111,
              "#46039f"
             ],
             [
              0.2222222222222222,
              "#7201a8"
             ],
             [
              0.3333333333333333,
              "#9c179e"
             ],
             [
              0.4444444444444444,
              "#bd3786"
             ],
             [
              0.5555555555555556,
              "#d8576b"
             ],
             [
              0.6666666666666666,
              "#ed7953"
             ],
             [
              0.7777777777777778,
              "#fb9f3a"
             ],
             [
              0.8888888888888888,
              "#fdca26"
             ],
             [
              1,
              "#f0f921"
             ]
            ],
            "type": "heatmapgl"
           }
          ],
          "histogram": [
           {
            "marker": {
             "pattern": {
              "fillmode": "overlay",
              "size": 10,
              "solidity": 0.2
             }
            },
            "type": "histogram"
           }
          ],
          "histogram2d": [
           {
            "colorbar": {
             "outlinewidth": 0,
             "ticks": ""
            },
            "colorscale": [
             [
              0,
              "#0d0887"
             ],
             [
              0.1111111111111111,
              "#46039f"
             ],
             [
              0.2222222222222222,
              "#7201a8"
             ],
             [
              0.3333333333333333,
              "#9c179e"
             ],
             [
              0.4444444444444444,
              "#bd3786"
             ],
             [
              0.5555555555555556,
              "#d8576b"
             ],
             [
              0.6666666666666666,
              "#ed7953"
             ],
             [
              0.7777777777777778,
              "#fb9f3a"
             ],
             [
              0.8888888888888888,
              "#fdca26"
             ],
             [
              1,
              "#f0f921"
             ]
            ],
            "type": "histogram2d"
           }
          ],
          "histogram2dcontour": [
           {
            "colorbar": {
             "outlinewidth": 0,
             "ticks": ""
            },
            "colorscale": [
             [
              0,
              "#0d0887"
             ],
             [
              0.1111111111111111,
              "#46039f"
             ],
             [
              0.2222222222222222,
              "#7201a8"
             ],
             [
              0.3333333333333333,
              "#9c179e"
             ],
             [
              0.4444444444444444,
              "#bd3786"
             ],
             [
              0.5555555555555556,
              "#d8576b"
             ],
             [
              0.6666666666666666,
              "#ed7953"
             ],
             [
              0.7777777777777778,
              "#fb9f3a"
             ],
             [
              0.8888888888888888,
              "#fdca26"
             ],
             [
              1,
              "#f0f921"
             ]
            ],
            "type": "histogram2dcontour"
           }
          ],
          "mesh3d": [
           {
            "colorbar": {
             "outlinewidth": 0,
             "ticks": ""
            },
            "type": "mesh3d"
           }
          ],
          "parcoords": [
           {
            "line": {
             "colorbar": {
              "outlinewidth": 0,
              "ticks": ""
             }
            },
            "type": "parcoords"
           }
          ],
          "pie": [
           {
            "automargin": true,
            "type": "pie"
           }
          ],
          "scatter": [
           {
            "fillpattern": {
             "fillmode": "overlay",
             "size": 10,
             "solidity": 0.2
            },
            "type": "scatter"
           }
          ],
          "scatter3d": [
           {
            "line": {
             "colorbar": {
              "outlinewidth": 0,
              "ticks": ""
             }
            },
            "marker": {
             "colorbar": {
              "outlinewidth": 0,
              "ticks": ""
             }
            },
            "type": "scatter3d"
           }
          ],
          "scattercarpet": [
           {
            "marker": {
             "colorbar": {
              "outlinewidth": 0,
              "ticks": ""
             }
            },
            "type": "scattercarpet"
           }
          ],
          "scattergeo": [
           {
            "marker": {
             "colorbar": {
              "outlinewidth": 0,
              "ticks": ""
             }
            },
            "type": "scattergeo"
           }
          ],
          "scattergl": [
           {
            "marker": {
             "colorbar": {
              "outlinewidth": 0,
              "ticks": ""
             }
            },
            "type": "scattergl"
           }
          ],
          "scattermapbox": [
           {
            "marker": {
             "colorbar": {
              "outlinewidth": 0,
              "ticks": ""
             }
            },
            "type": "scattermapbox"
           }
          ],
          "scatterpolar": [
           {
            "marker": {
             "colorbar": {
              "outlinewidth": 0,
              "ticks": ""
             }
            },
            "type": "scatterpolar"
           }
          ],
          "scatterpolargl": [
           {
            "marker": {
             "colorbar": {
              "outlinewidth": 0,
              "ticks": ""
             }
            },
            "type": "scatterpolargl"
           }
          ],
          "scatterternary": [
           {
            "marker": {
             "colorbar": {
              "outlinewidth": 0,
              "ticks": ""
             }
            },
            "type": "scatterternary"
           }
          ],
          "surface": [
           {
            "colorbar": {
             "outlinewidth": 0,
             "ticks": ""
            },
            "colorscale": [
             [
              0,
              "#0d0887"
             ],
             [
              0.1111111111111111,
              "#46039f"
             ],
             [
              0.2222222222222222,
              "#7201a8"
             ],
             [
              0.3333333333333333,
              "#9c179e"
             ],
             [
              0.4444444444444444,
              "#bd3786"
             ],
             [
              0.5555555555555556,
              "#d8576b"
             ],
             [
              0.6666666666666666,
              "#ed7953"
             ],
             [
              0.7777777777777778,
              "#fb9f3a"
             ],
             [
              0.8888888888888888,
              "#fdca26"
             ],
             [
              1,
              "#f0f921"
             ]
            ],
            "type": "surface"
           }
          ],
          "table": [
           {
            "cells": {
             "fill": {
              "color": "#EBF0F8"
             },
             "line": {
              "color": "white"
             }
            },
            "header": {
             "fill": {
              "color": "#C8D4E3"
             },
             "line": {
              "color": "white"
             }
            },
            "type": "table"
           }
          ]
         },
         "layout": {
          "annotationdefaults": {
           "arrowcolor": "#2a3f5f",
           "arrowhead": 0,
           "arrowwidth": 1
          },
          "autotypenumbers": "strict",
          "coloraxis": {
           "colorbar": {
            "outlinewidth": 0,
            "ticks": ""
           }
          },
          "colorscale": {
           "diverging": [
            [
             0,
             "#8e0152"
            ],
            [
             0.1,
             "#c51b7d"
            ],
            [
             0.2,
             "#de77ae"
            ],
            [
             0.3,
             "#f1b6da"
            ],
            [
             0.4,
             "#fde0ef"
            ],
            [
             0.5,
             "#f7f7f7"
            ],
            [
             0.6,
             "#e6f5d0"
            ],
            [
             0.7,
             "#b8e186"
            ],
            [
             0.8,
             "#7fbc41"
            ],
            [
             0.9,
             "#4d9221"
            ],
            [
             1,
             "#276419"
            ]
           ],
           "sequential": [
            [
             0,
             "#0d0887"
            ],
            [
             0.1111111111111111,
             "#46039f"
            ],
            [
             0.2222222222222222,
             "#7201a8"
            ],
            [
             0.3333333333333333,
             "#9c179e"
            ],
            [
             0.4444444444444444,
             "#bd3786"
            ],
            [
             0.5555555555555556,
             "#d8576b"
            ],
            [
             0.6666666666666666,
             "#ed7953"
            ],
            [
             0.7777777777777778,
             "#fb9f3a"
            ],
            [
             0.8888888888888888,
             "#fdca26"
            ],
            [
             1,
             "#f0f921"
            ]
           ],
           "sequentialminus": [
            [
             0,
             "#0d0887"
            ],
            [
             0.1111111111111111,
             "#46039f"
            ],
            [
             0.2222222222222222,
             "#7201a8"
            ],
            [
             0.3333333333333333,
             "#9c179e"
            ],
            [
             0.4444444444444444,
             "#bd3786"
            ],
            [
             0.5555555555555556,
             "#d8576b"
            ],
            [
             0.6666666666666666,
             "#ed7953"
            ],
            [
             0.7777777777777778,
             "#fb9f3a"
            ],
            [
             0.8888888888888888,
             "#fdca26"
            ],
            [
             1,
             "#f0f921"
            ]
           ]
          },
          "colorway": [
           "#636efa",
           "#EF553B",
           "#00cc96",
           "#ab63fa",
           "#FFA15A",
           "#19d3f3",
           "#FF6692",
           "#B6E880",
           "#FF97FF",
           "#FECB52"
          ],
          "font": {
           "color": "#2a3f5f"
          },
          "geo": {
           "bgcolor": "white",
           "lakecolor": "white",
           "landcolor": "#E5ECF6",
           "showlakes": true,
           "showland": true,
           "subunitcolor": "white"
          },
          "hoverlabel": {
           "align": "left"
          },
          "hovermode": "closest",
          "mapbox": {
           "style": "light"
          },
          "paper_bgcolor": "white",
          "plot_bgcolor": "#E5ECF6",
          "polar": {
           "angularaxis": {
            "gridcolor": "white",
            "linecolor": "white",
            "ticks": ""
           },
           "bgcolor": "#E5ECF6",
           "radialaxis": {
            "gridcolor": "white",
            "linecolor": "white",
            "ticks": ""
           }
          },
          "scene": {
           "xaxis": {
            "backgroundcolor": "#E5ECF6",
            "gridcolor": "white",
            "gridwidth": 2,
            "linecolor": "white",
            "showbackground": true,
            "ticks": "",
            "zerolinecolor": "white"
           },
           "yaxis": {
            "backgroundcolor": "#E5ECF6",
            "gridcolor": "white",
            "gridwidth": 2,
            "linecolor": "white",
            "showbackground": true,
            "ticks": "",
            "zerolinecolor": "white"
           },
           "zaxis": {
            "backgroundcolor": "#E5ECF6",
            "gridcolor": "white",
            "gridwidth": 2,
            "linecolor": "white",
            "showbackground": true,
            "ticks": "",
            "zerolinecolor": "white"
           }
          },
          "shapedefaults": {
           "line": {
            "color": "#2a3f5f"
           }
          },
          "ternary": {
           "aaxis": {
            "gridcolor": "white",
            "linecolor": "white",
            "ticks": ""
           },
           "baxis": {
            "gridcolor": "white",
            "linecolor": "white",
            "ticks": ""
           },
           "bgcolor": "#E5ECF6",
           "caxis": {
            "gridcolor": "white",
            "linecolor": "white",
            "ticks": ""
           }
          },
          "title": {
           "x": 0.05
          },
          "xaxis": {
           "automargin": true,
           "gridcolor": "white",
           "linecolor": "white",
           "ticks": "",
           "title": {
            "standoff": 15
           },
           "zerolinecolor": "white",
           "zerolinewidth": 2
          },
          "yaxis": {
           "automargin": true,
           "gridcolor": "white",
           "linecolor": "white",
           "ticks": "",
           "title": {
            "standoff": 15
           },
           "zerolinecolor": "white",
           "zerolinewidth": 2
          }
         }
        },
        "title": {
         "text": "Pogoda we Wrocławiu w pierwszym tyg. czerwca"
        },
        "xaxis": {
         "anchor": "y",
         "domain": [
          0,
          0.45
         ]
        },
        "xaxis2": {
         "anchor": "y2",
         "domain": [
          0.55,
          1
         ]
        },
        "yaxis": {
         "anchor": "x",
         "domain": [
          0,
          1
         ]
        },
        "yaxis2": {
         "anchor": "x2",
         "domain": [
          0,
          1
         ],
         "matches": "y",
         "showticklabels": false
        }
       }
      },
      "text/html": [
       "<div>                            <div id=\"2251c651-1ced-440a-b597-a6b4fbc612ae\" class=\"plotly-graph-div\" style=\"height:525px; width:100%;\"></div>            <script type=\"text/javascript\">                require([\"plotly\"], function(Plotly) {                    window.PLOTLYENV=window.PLOTLYENV || {};                                    if (document.getElementById(\"2251c651-1ced-440a-b597-a6b4fbc612ae\")) {                    Plotly.newPlot(                        \"2251c651-1ced-440a-b597-a6b4fbc612ae\",                        [{\"colorscale\":[[0.0,\"rgb(0,0,131)\"],[0.2,\"rgb(0,60,170)\"],[0.4,\"rgb(5,255,255)\"],[0.6,\"rgb(255,255,0)\"],[0.8,\"rgb(250,0,0)\"],[1.0,\"rgb(128,0,0)\"]],\"showscale\":false,\"x\":[0,1,2,3,4,5,6,7,8,9,10,11,12,13,14,15,16,17,18,19,20,21,22,23,0,1,2,3,4,5,6,7,8,9,10,11,12,13,14,15,16,17,18,19,20,21,22,23,0,1,2,3,4,5,6,7,8,9,10,11,12,13,14,15,16,17,18,19,20,21,22,23,0,1,2,3,4,5,6,7,8,9,10,11,12,13,14,15,16,17,18,19,20,21,22,23,0,1,2,3,4,5,6,7,8,9,10,11,12,13,14,15,16,17,18,19,20,21,22,23,0,1,2,3,4,5,6,7,8,9,10,11,12,13,14,15,16,17,18,19,20,21,22,23,0,1,2,3,4,5,6,7,8,9,10,11,12,13,14,15,16,17,18,19,20,21,22,23],\"xaxis\":\"x\",\"y\":[\"Poniedzia\\u0142ek\",\"Poniedzia\\u0142ek\",\"Poniedzia\\u0142ek\",\"Poniedzia\\u0142ek\",\"Poniedzia\\u0142ek\",\"Poniedzia\\u0142ek\",\"Poniedzia\\u0142ek\",\"Poniedzia\\u0142ek\",\"Poniedzia\\u0142ek\",\"Poniedzia\\u0142ek\",\"Poniedzia\\u0142ek\",\"Poniedzia\\u0142ek\",\"Poniedzia\\u0142ek\",\"Poniedzia\\u0142ek\",\"Poniedzia\\u0142ek\",\"Poniedzia\\u0142ek\",\"Poniedzia\\u0142ek\",\"Poniedzia\\u0142ek\",\"Poniedzia\\u0142ek\",\"Poniedzia\\u0142ek\",\"Poniedzia\\u0142ek\",\"Poniedzia\\u0142ek\",\"Poniedzia\\u0142ek\",\"Poniedzia\\u0142ek\",\"Wtorek\",\"Wtorek\",\"Wtorek\",\"Wtorek\",\"Wtorek\",\"Wtorek\",\"Wtorek\",\"Wtorek\",\"Wtorek\",\"Wtorek\",\"Wtorek\",\"Wtorek\",\"Wtorek\",\"Wtorek\",\"Wtorek\",\"Wtorek\",\"Wtorek\",\"Wtorek\",\"Wtorek\",\"Wtorek\",\"Wtorek\",\"Wtorek\",\"Wtorek\",\"Wtorek\",\"\\u015aroda\",\"\\u015aroda\",\"\\u015aroda\",\"\\u015aroda\",\"\\u015aroda\",\"\\u015aroda\",\"\\u015aroda\",\"\\u015aroda\",\"\\u015aroda\",\"\\u015aroda\",\"\\u015aroda\",\"\\u015aroda\",\"\\u015aroda\",\"\\u015aroda\",\"\\u015aroda\",\"\\u015aroda\",\"\\u015aroda\",\"\\u015aroda\",\"\\u015aroda\",\"\\u015aroda\",\"\\u015aroda\",\"\\u015aroda\",\"\\u015aroda\",\"\\u015aroda\",\"Czwartek\",\"Czwartek\",\"Czwartek\",\"Czwartek\",\"Czwartek\",\"Czwartek\",\"Czwartek\",\"Czwartek\",\"Czwartek\",\"Czwartek\",\"Czwartek\",\"Czwartek\",\"Czwartek\",\"Czwartek\",\"Czwartek\",\"Czwartek\",\"Czwartek\",\"Czwartek\",\"Czwartek\",\"Czwartek\",\"Czwartek\",\"Czwartek\",\"Czwartek\",\"Czwartek\",\"Pi\\u0105tek\",\"Pi\\u0105tek\",\"Pi\\u0105tek\",\"Pi\\u0105tek\",\"Pi\\u0105tek\",\"Pi\\u0105tek\",\"Pi\\u0105tek\",\"Pi\\u0105tek\",\"Pi\\u0105tek\",\"Pi\\u0105tek\",\"Pi\\u0105tek\",\"Pi\\u0105tek\",\"Pi\\u0105tek\",\"Pi\\u0105tek\",\"Pi\\u0105tek\",\"Pi\\u0105tek\",\"Pi\\u0105tek\",\"Pi\\u0105tek\",\"Pi\\u0105tek\",\"Pi\\u0105tek\",\"Pi\\u0105tek\",\"Pi\\u0105tek\",\"Pi\\u0105tek\",\"Pi\\u0105tek\",\"Sobota\",\"Sobota\",\"Sobota\",\"Sobota\",\"Sobota\",\"Sobota\",\"Sobota\",\"Sobota\",\"Sobota\",\"Sobota\",\"Sobota\",\"Sobota\",\"Sobota\",\"Sobota\",\"Sobota\",\"Sobota\",\"Sobota\",\"Sobota\",\"Sobota\",\"Sobota\",\"Sobota\",\"Sobota\",\"Sobota\",\"Sobota\",\"Niedziela\",\"Niedziela\",\"Niedziela\",\"Niedziela\",\"Niedziela\",\"Niedziela\",\"Niedziela\",\"Niedziela\",\"Niedziela\",\"Niedziela\",\"Niedziela\",\"Niedziela\",\"Niedziela\",\"Niedziela\",\"Niedziela\",\"Niedziela\",\"Niedziela\",\"Niedziela\",\"Niedziela\",\"Niedziela\",\"Niedziela\",\"Niedziela\",\"Niedziela\",\"Niedziela\"],\"yaxis\":\"y\",\"z\":[13.44463,12.224629,11.424629,10.61463,9.78463,8.86463,9.474629,11.70463,14.32463,16.83463,18.404629,19.144629,19.77463,20.244629,21.01463,21.114628,20.994629,20.734629,20.284628,19.59463,18.614628,16.814629,14.99463,13.554629,12.934629,12.844629,12.56463,11.24463,9.724629,8.95463,10.6046295,11.91463,13.27463,15.54463,16.964628,17.704628,18.284628,18.894629,19.204628,18.654629,19.60463,18.564629,18.34463,18.144629,17.914629,17.404629,16.824629,15.69463,14.6446295,14.24463,12.04463,10.514629,9.714629,9.32463,10.674629,12.49463,14.08463,15.53463,17.064629,18.01463,18.914629,19.734629,20.074629,20.394629,20.60463,20.214628,19.76463,19.25463,18.84463,17.474628,15.844629,14.844629,13.86463,12.844629,11.884629,10.87463,10.03463,9.304629,9.8946295,12.764629,15.78463,17.92463,19.144629,20.114628,21.10463,22.144629,23.27463,22.92463,22.27463,21.43463,20.144629,19.374628,19.234629,18.60463,16.694628,15.75463,14.95463,14.61463,13.91463,13.69463,13.98463,15.1446295,14.974629,15.054629,15.3946295,15.19463,15.70463,16.474628,16.114628,15.57463,16.644629,16.43463,15.934629,15.25463,16.204628,16.68463,16.50463,15.58463,15.07463,13.6446295,12.28463,11.70463,12.474629,13.16463,12.464629,11.75463,12.25463,13.20463,14.514629,15.91463,17.404629,18.76463,20.064629,21.33463,20.394629,20.43463,20.734629,21.75463,21.034628,20.564629,20.34463,20.00463,19.054628,18.01463,17.324629,17.17463,16.51463,15.86463,15.65463,15.27463,15.81463,17.064629,18.164629,18.134628,18.42463,19.50463,20.864628,21.27463,16.904629,17.464628,18.52463,19.58463,19.234629,18.25463,17.664629,17.09463,16.374628,15.3546295],\"type\":\"heatmap\"},{\"colorscale\":[[0.0,\"#00224e\"],[0.1111111111111111,\"#123570\"],[0.2222222222222222,\"#3b496c\"],[0.3333333333333333,\"#575d6d\"],[0.4444444444444444,\"#707173\"],[0.5555555555555556,\"#8a8678\"],[0.6666666666666666,\"#a59c74\"],[0.7777777777777778,\"#c3b369\"],[0.8888888888888888,\"#e1cc55\"],[1.0,\"#fee838\"]],\"showscale\":false,\"x\":[0,1,2,3,4,5,6,7,8,9,10,11,12,13,14,15,16,17,18,19,20,21,22,23,0,1,2,3,4,5,6,7,8,9,10,11,12,13,14,15,16,17,18,19,20,21,22,23,0,1,2,3,4,5,6,7,8,9,10,11,12,13,14,15,16,17,18,19,20,21,22,23,0,1,2,3,4,5,6,7,8,9,10,11,12,13,14,15,16,17,18,19,20,21,22,23,0,1,2,3,4,5,6,7,8,9,10,11,12,13,14,15,16,17,18,19,20,21,22,23,0,1,2,3,4,5,6,7,8,9,10,11,12,13,14,15,16,17,18,19,20,21,22,23,0,1,2,3,4,5,6,7,8,9,10,11,12,13,14,15,16,17,18,19,20,21,22,23],\"xaxis\":\"x2\",\"y\":[\"Poniedzia\\u0142ek\",\"Poniedzia\\u0142ek\",\"Poniedzia\\u0142ek\",\"Poniedzia\\u0142ek\",\"Poniedzia\\u0142ek\",\"Poniedzia\\u0142ek\",\"Poniedzia\\u0142ek\",\"Poniedzia\\u0142ek\",\"Poniedzia\\u0142ek\",\"Poniedzia\\u0142ek\",\"Poniedzia\\u0142ek\",\"Poniedzia\\u0142ek\",\"Poniedzia\\u0142ek\",\"Poniedzia\\u0142ek\",\"Poniedzia\\u0142ek\",\"Poniedzia\\u0142ek\",\"Poniedzia\\u0142ek\",\"Poniedzia\\u0142ek\",\"Poniedzia\\u0142ek\",\"Poniedzia\\u0142ek\",\"Poniedzia\\u0142ek\",\"Poniedzia\\u0142ek\",\"Poniedzia\\u0142ek\",\"Poniedzia\\u0142ek\",\"Wtorek\",\"Wtorek\",\"Wtorek\",\"Wtorek\",\"Wtorek\",\"Wtorek\",\"Wtorek\",\"Wtorek\",\"Wtorek\",\"Wtorek\",\"Wtorek\",\"Wtorek\",\"Wtorek\",\"Wtorek\",\"Wtorek\",\"Wtorek\",\"Wtorek\",\"Wtorek\",\"Wtorek\",\"Wtorek\",\"Wtorek\",\"Wtorek\",\"Wtorek\",\"Wtorek\",\"\\u015aroda\",\"\\u015aroda\",\"\\u015aroda\",\"\\u015aroda\",\"\\u015aroda\",\"\\u015aroda\",\"\\u015aroda\",\"\\u015aroda\",\"\\u015aroda\",\"\\u015aroda\",\"\\u015aroda\",\"\\u015aroda\",\"\\u015aroda\",\"\\u015aroda\",\"\\u015aroda\",\"\\u015aroda\",\"\\u015aroda\",\"\\u015aroda\",\"\\u015aroda\",\"\\u015aroda\",\"\\u015aroda\",\"\\u015aroda\",\"\\u015aroda\",\"\\u015aroda\",\"Czwartek\",\"Czwartek\",\"Czwartek\",\"Czwartek\",\"Czwartek\",\"Czwartek\",\"Czwartek\",\"Czwartek\",\"Czwartek\",\"Czwartek\",\"Czwartek\",\"Czwartek\",\"Czwartek\",\"Czwartek\",\"Czwartek\",\"Czwartek\",\"Czwartek\",\"Czwartek\",\"Czwartek\",\"Czwartek\",\"Czwartek\",\"Czwartek\",\"Czwartek\",\"Czwartek\",\"Pi\\u0105tek\",\"Pi\\u0105tek\",\"Pi\\u0105tek\",\"Pi\\u0105tek\",\"Pi\\u0105tek\",\"Pi\\u0105tek\",\"Pi\\u0105tek\",\"Pi\\u0105tek\",\"Pi\\u0105tek\",\"Pi\\u0105tek\",\"Pi\\u0105tek\",\"Pi\\u0105tek\",\"Pi\\u0105tek\",\"Pi\\u0105tek\",\"Pi\\u0105tek\",\"Pi\\u0105tek\",\"Pi\\u0105tek\",\"Pi\\u0105tek\",\"Pi\\u0105tek\",\"Pi\\u0105tek\",\"Pi\\u0105tek\",\"Pi\\u0105tek\",\"Pi\\u0105tek\",\"Pi\\u0105tek\",\"Sobota\",\"Sobota\",\"Sobota\",\"Sobota\",\"Sobota\",\"Sobota\",\"Sobota\",\"Sobota\",\"Sobota\",\"Sobota\",\"Sobota\",\"Sobota\",\"Sobota\",\"Sobota\",\"Sobota\",\"Sobota\",\"Sobota\",\"Sobota\",\"Sobota\",\"Sobota\",\"Sobota\",\"Sobota\",\"Sobota\",\"Sobota\",\"Niedziela\",\"Niedziela\",\"Niedziela\",\"Niedziela\",\"Niedziela\",\"Niedziela\",\"Niedziela\",\"Niedziela\",\"Niedziela\",\"Niedziela\",\"Niedziela\",\"Niedziela\",\"Niedziela\",\"Niedziela\",\"Niedziela\",\"Niedziela\",\"Niedziela\",\"Niedziela\",\"Niedziela\",\"Niedziela\",\"Niedziela\",\"Niedziela\",\"Niedziela\",\"Niedziela\"],\"yaxis\":\"y2\",\"z\":[0.0,0.0,0.0,0.0,0.0,0.0,0.0,0.0,0.0,0.0,0.0,0.0,0.0,0.0,0.0,0.0,0.0,0.0,0.0,0.0,0.0,0.0,0.0,0.0,0.0,0.0,0.0,0.0,0.0,0.0,0.0,0.0,0.0,0.0,0.0,0.0,0.0,0.0,0.0,0.0,0.0,0.0,0.0,0.4,0.1,0.0,0.0,0.0,0.0,0.0,0.0,0.0,0.0,0.0,0.0,0.0,0.0,0.0,0.0,0.0,0.0,0.0,0.0,0.0,0.0,0.0,0.0,0.0,0.0,0.0,0.0,0.0,0.0,0.0,0.0,0.0,0.0,0.0,0.0,0.0,0.0,0.0,0.0,0.0,0.0,0.0,0.0,0.0,0.4,0.3,0.1,0.0,0.1,0.0,0.0,0.0,0.0,0.0,0.0,0.0,0.0,0.1,0.1,0.1,0.4,0.2,0.5,0.0,0.0,0.0,0.4,0.6,0.6,0.3,0.0,0.0,0.0,0.0,0.0,0.0,0.0,0.0,0.0,0.0,0.0,0.0,0.0,0.0,0.0,0.0,0.0,0.0,0.0,0.0,0.2,0.3,0.3,0.2,0.3,0.3,0.0,0.0,0.0,0.1,0.5,0.5,0.1,0.0,0.0,0.0,0.0,0.1,0.1,0.5,0.1,0.0,0.0,0.1,0.0,0.0,0.4,0.9,1.0,1.7,1.1,0.5,1.4,2.2],\"type\":\"heatmap\"}],                        {\"annotations\":[{\"font\":{\"size\":16},\"showarrow\":false,\"text\":\"Temperatura\",\"x\":0.225,\"xanchor\":\"center\",\"xref\":\"paper\",\"y\":1.0,\"yanchor\":\"bottom\",\"yref\":\"paper\"},{\"font\":{\"size\":16},\"showarrow\":false,\"text\":\"Opady\",\"x\":0.775,\"xanchor\":\"center\",\"xref\":\"paper\",\"y\":1.0,\"yanchor\":\"bottom\",\"yref\":\"paper\"}],\"template\":{\"data\":{\"barpolar\":[{\"marker\":{\"line\":{\"color\":\"#E5ECF6\",\"width\":0.5},\"pattern\":{\"fillmode\":\"overlay\",\"size\":10,\"solidity\":0.2}},\"type\":\"barpolar\"}],\"bar\":[{\"error_x\":{\"color\":\"#2a3f5f\"},\"error_y\":{\"color\":\"#2a3f5f\"},\"marker\":{\"line\":{\"color\":\"#E5ECF6\",\"width\":0.5},\"pattern\":{\"fillmode\":\"overlay\",\"size\":10,\"solidity\":0.2}},\"type\":\"bar\"}],\"carpet\":[{\"aaxis\":{\"endlinecolor\":\"#2a3f5f\",\"gridcolor\":\"white\",\"linecolor\":\"white\",\"minorgridcolor\":\"white\",\"startlinecolor\":\"#2a3f5f\"},\"baxis\":{\"endlinecolor\":\"#2a3f5f\",\"gridcolor\":\"white\",\"linecolor\":\"white\",\"minorgridcolor\":\"white\",\"startlinecolor\":\"#2a3f5f\"},\"type\":\"carpet\"}],\"choropleth\":[{\"colorbar\":{\"outlinewidth\":0,\"ticks\":\"\"},\"type\":\"choropleth\"}],\"contourcarpet\":[{\"colorbar\":{\"outlinewidth\":0,\"ticks\":\"\"},\"type\":\"contourcarpet\"}],\"contour\":[{\"colorbar\":{\"outlinewidth\":0,\"ticks\":\"\"},\"colorscale\":[[0.0,\"#0d0887\"],[0.1111111111111111,\"#46039f\"],[0.2222222222222222,\"#7201a8\"],[0.3333333333333333,\"#9c179e\"],[0.4444444444444444,\"#bd3786\"],[0.5555555555555556,\"#d8576b\"],[0.6666666666666666,\"#ed7953\"],[0.7777777777777778,\"#fb9f3a\"],[0.8888888888888888,\"#fdca26\"],[1.0,\"#f0f921\"]],\"type\":\"contour\"}],\"heatmapgl\":[{\"colorbar\":{\"outlinewidth\":0,\"ticks\":\"\"},\"colorscale\":[[0.0,\"#0d0887\"],[0.1111111111111111,\"#46039f\"],[0.2222222222222222,\"#7201a8\"],[0.3333333333333333,\"#9c179e\"],[0.4444444444444444,\"#bd3786\"],[0.5555555555555556,\"#d8576b\"],[0.6666666666666666,\"#ed7953\"],[0.7777777777777778,\"#fb9f3a\"],[0.8888888888888888,\"#fdca26\"],[1.0,\"#f0f921\"]],\"type\":\"heatmapgl\"}],\"heatmap\":[{\"colorbar\":{\"outlinewidth\":0,\"ticks\":\"\"},\"colorscale\":[[0.0,\"#0d0887\"],[0.1111111111111111,\"#46039f\"],[0.2222222222222222,\"#7201a8\"],[0.3333333333333333,\"#9c179e\"],[0.4444444444444444,\"#bd3786\"],[0.5555555555555556,\"#d8576b\"],[0.6666666666666666,\"#ed7953\"],[0.7777777777777778,\"#fb9f3a\"],[0.8888888888888888,\"#fdca26\"],[1.0,\"#f0f921\"]],\"type\":\"heatmap\"}],\"histogram2dcontour\":[{\"colorbar\":{\"outlinewidth\":0,\"ticks\":\"\"},\"colorscale\":[[0.0,\"#0d0887\"],[0.1111111111111111,\"#46039f\"],[0.2222222222222222,\"#7201a8\"],[0.3333333333333333,\"#9c179e\"],[0.4444444444444444,\"#bd3786\"],[0.5555555555555556,\"#d8576b\"],[0.6666666666666666,\"#ed7953\"],[0.7777777777777778,\"#fb9f3a\"],[0.8888888888888888,\"#fdca26\"],[1.0,\"#f0f921\"]],\"type\":\"histogram2dcontour\"}],\"histogram2d\":[{\"colorbar\":{\"outlinewidth\":0,\"ticks\":\"\"},\"colorscale\":[[0.0,\"#0d0887\"],[0.1111111111111111,\"#46039f\"],[0.2222222222222222,\"#7201a8\"],[0.3333333333333333,\"#9c179e\"],[0.4444444444444444,\"#bd3786\"],[0.5555555555555556,\"#d8576b\"],[0.6666666666666666,\"#ed7953\"],[0.7777777777777778,\"#fb9f3a\"],[0.8888888888888888,\"#fdca26\"],[1.0,\"#f0f921\"]],\"type\":\"histogram2d\"}],\"histogram\":[{\"marker\":{\"pattern\":{\"fillmode\":\"overlay\",\"size\":10,\"solidity\":0.2}},\"type\":\"histogram\"}],\"mesh3d\":[{\"colorbar\":{\"outlinewidth\":0,\"ticks\":\"\"},\"type\":\"mesh3d\"}],\"parcoords\":[{\"line\":{\"colorbar\":{\"outlinewidth\":0,\"ticks\":\"\"}},\"type\":\"parcoords\"}],\"pie\":[{\"automargin\":true,\"type\":\"pie\"}],\"scatter3d\":[{\"line\":{\"colorbar\":{\"outlinewidth\":0,\"ticks\":\"\"}},\"marker\":{\"colorbar\":{\"outlinewidth\":0,\"ticks\":\"\"}},\"type\":\"scatter3d\"}],\"scattercarpet\":[{\"marker\":{\"colorbar\":{\"outlinewidth\":0,\"ticks\":\"\"}},\"type\":\"scattercarpet\"}],\"scattergeo\":[{\"marker\":{\"colorbar\":{\"outlinewidth\":0,\"ticks\":\"\"}},\"type\":\"scattergeo\"}],\"scattergl\":[{\"marker\":{\"colorbar\":{\"outlinewidth\":0,\"ticks\":\"\"}},\"type\":\"scattergl\"}],\"scattermapbox\":[{\"marker\":{\"colorbar\":{\"outlinewidth\":0,\"ticks\":\"\"}},\"type\":\"scattermapbox\"}],\"scatterpolargl\":[{\"marker\":{\"colorbar\":{\"outlinewidth\":0,\"ticks\":\"\"}},\"type\":\"scatterpolargl\"}],\"scatterpolar\":[{\"marker\":{\"colorbar\":{\"outlinewidth\":0,\"ticks\":\"\"}},\"type\":\"scatterpolar\"}],\"scatter\":[{\"fillpattern\":{\"fillmode\":\"overlay\",\"size\":10,\"solidity\":0.2},\"type\":\"scatter\"}],\"scatterternary\":[{\"marker\":{\"colorbar\":{\"outlinewidth\":0,\"ticks\":\"\"}},\"type\":\"scatterternary\"}],\"surface\":[{\"colorbar\":{\"outlinewidth\":0,\"ticks\":\"\"},\"colorscale\":[[0.0,\"#0d0887\"],[0.1111111111111111,\"#46039f\"],[0.2222222222222222,\"#7201a8\"],[0.3333333333333333,\"#9c179e\"],[0.4444444444444444,\"#bd3786\"],[0.5555555555555556,\"#d8576b\"],[0.6666666666666666,\"#ed7953\"],[0.7777777777777778,\"#fb9f3a\"],[0.8888888888888888,\"#fdca26\"],[1.0,\"#f0f921\"]],\"type\":\"surface\"}],\"table\":[{\"cells\":{\"fill\":{\"color\":\"#EBF0F8\"},\"line\":{\"color\":\"white\"}},\"header\":{\"fill\":{\"color\":\"#C8D4E3\"},\"line\":{\"color\":\"white\"}},\"type\":\"table\"}]},\"layout\":{\"annotationdefaults\":{\"arrowcolor\":\"#2a3f5f\",\"arrowhead\":0,\"arrowwidth\":1},\"autotypenumbers\":\"strict\",\"coloraxis\":{\"colorbar\":{\"outlinewidth\":0,\"ticks\":\"\"}},\"colorscale\":{\"diverging\":[[0,\"#8e0152\"],[0.1,\"#c51b7d\"],[0.2,\"#de77ae\"],[0.3,\"#f1b6da\"],[0.4,\"#fde0ef\"],[0.5,\"#f7f7f7\"],[0.6,\"#e6f5d0\"],[0.7,\"#b8e186\"],[0.8,\"#7fbc41\"],[0.9,\"#4d9221\"],[1,\"#276419\"]],\"sequential\":[[0.0,\"#0d0887\"],[0.1111111111111111,\"#46039f\"],[0.2222222222222222,\"#7201a8\"],[0.3333333333333333,\"#9c179e\"],[0.4444444444444444,\"#bd3786\"],[0.5555555555555556,\"#d8576b\"],[0.6666666666666666,\"#ed7953\"],[0.7777777777777778,\"#fb9f3a\"],[0.8888888888888888,\"#fdca26\"],[1.0,\"#f0f921\"]],\"sequentialminus\":[[0.0,\"#0d0887\"],[0.1111111111111111,\"#46039f\"],[0.2222222222222222,\"#7201a8\"],[0.3333333333333333,\"#9c179e\"],[0.4444444444444444,\"#bd3786\"],[0.5555555555555556,\"#d8576b\"],[0.6666666666666666,\"#ed7953\"],[0.7777777777777778,\"#fb9f3a\"],[0.8888888888888888,\"#fdca26\"],[1.0,\"#f0f921\"]]},\"colorway\":[\"#636efa\",\"#EF553B\",\"#00cc96\",\"#ab63fa\",\"#FFA15A\",\"#19d3f3\",\"#FF6692\",\"#B6E880\",\"#FF97FF\",\"#FECB52\"],\"font\":{\"color\":\"#2a3f5f\"},\"geo\":{\"bgcolor\":\"white\",\"lakecolor\":\"white\",\"landcolor\":\"#E5ECF6\",\"showlakes\":true,\"showland\":true,\"subunitcolor\":\"white\"},\"hoverlabel\":{\"align\":\"left\"},\"hovermode\":\"closest\",\"mapbox\":{\"style\":\"light\"},\"paper_bgcolor\":\"white\",\"plot_bgcolor\":\"#E5ECF6\",\"polar\":{\"angularaxis\":{\"gridcolor\":\"white\",\"linecolor\":\"white\",\"ticks\":\"\"},\"bgcolor\":\"#E5ECF6\",\"radialaxis\":{\"gridcolor\":\"white\",\"linecolor\":\"white\",\"ticks\":\"\"}},\"scene\":{\"xaxis\":{\"backgroundcolor\":\"#E5ECF6\",\"gridcolor\":\"white\",\"gridwidth\":2,\"linecolor\":\"white\",\"showbackground\":true,\"ticks\":\"\",\"zerolinecolor\":\"white\"},\"yaxis\":{\"backgroundcolor\":\"#E5ECF6\",\"gridcolor\":\"white\",\"gridwidth\":2,\"linecolor\":\"white\",\"showbackground\":true,\"ticks\":\"\",\"zerolinecolor\":\"white\"},\"zaxis\":{\"backgroundcolor\":\"#E5ECF6\",\"gridcolor\":\"white\",\"gridwidth\":2,\"linecolor\":\"white\",\"showbackground\":true,\"ticks\":\"\",\"zerolinecolor\":\"white\"}},\"shapedefaults\":{\"line\":{\"color\":\"#2a3f5f\"}},\"ternary\":{\"aaxis\":{\"gridcolor\":\"white\",\"linecolor\":\"white\",\"ticks\":\"\"},\"baxis\":{\"gridcolor\":\"white\",\"linecolor\":\"white\",\"ticks\":\"\"},\"bgcolor\":\"#E5ECF6\",\"caxis\":{\"gridcolor\":\"white\",\"linecolor\":\"white\",\"ticks\":\"\"}},\"title\":{\"x\":0.05},\"xaxis\":{\"automargin\":true,\"gridcolor\":\"white\",\"linecolor\":\"white\",\"ticks\":\"\",\"title\":{\"standoff\":15},\"zerolinecolor\":\"white\",\"zerolinewidth\":2},\"yaxis\":{\"automargin\":true,\"gridcolor\":\"white\",\"linecolor\":\"white\",\"ticks\":\"\",\"title\":{\"standoff\":15},\"zerolinecolor\":\"white\",\"zerolinewidth\":2}}},\"title\":{\"text\":\"Pogoda we Wroc\\u0142awiu w pierwszym tyg. czerwca\"},\"xaxis\":{\"anchor\":\"y\",\"domain\":[0.0,0.45]},\"yaxis\":{\"anchor\":\"x\",\"domain\":[0.0,1.0]},\"xaxis2\":{\"anchor\":\"y2\",\"domain\":[0.55,1.0]},\"yaxis2\":{\"anchor\":\"x2\",\"domain\":[0.0,1.0],\"matches\":\"y\",\"showticklabels\":false}},                        {\"responsive\": true}                    ).then(function(){\n",
       "                            \n",
       "var gd = document.getElementById('2251c651-1ced-440a-b597-a6b4fbc612ae');\n",
       "var x = new MutationObserver(function (mutations, observer) {{\n",
       "        var display = window.getComputedStyle(gd).display;\n",
       "        if (!display || display === 'none') {{\n",
       "            console.log([gd, 'removed!']);\n",
       "            Plotly.purge(gd);\n",
       "            observer.disconnect();\n",
       "        }}\n",
       "}});\n",
       "\n",
       "// Listen for the removal of the full notebook cells\n",
       "var notebookContainer = gd.closest('#notebook-container');\n",
       "if (notebookContainer) {{\n",
       "    x.observe(notebookContainer, {childList: true});\n",
       "}}\n",
       "\n",
       "// Listen for the clearing of the current output cell\n",
       "var outputEl = gd.closest('.output');\n",
       "if (outputEl) {{\n",
       "    x.observe(outputEl, {childList: true});\n",
       "}}\n",
       "\n",
       "                        })                };                });            </script>        </div>"
      ]
     },
     "metadata": {},
     "output_type": "display_data"
    }
   ],
   "source": [
    "fig.add_trace(go.Heatmap(x=wro_temp.index.hour,\n",
    "                         y=wro_temp.index.weekday.map({0:'Poniedziałek',1:'Wtorek',2:'Środa',3:'Czwartek',4:'Piątek',5:'Sobota',6:'Niedziela'}),\n",
    "                         z=wro_temp['Wrocław Temperature [2 m elevation corrected]'].tolist(),\n",
    "                        colorscale='Jet',\n",
    "                        showscale=False),1,1)\n",
    "\n",
    "fig.add_trace(go.Heatmap(x=wro_temp.index.hour,\n",
    "                         y=wro_temp.index.weekday.map({0:'Poniedziałek',1:'Wtorek',2:'Środa',3:'Czwartek',4:'Piątek',5:'Sobota',6:'Niedziela'}),\n",
    "                         z=wro_temp['Wrocław Precipitation Total'].tolist(),\n",
    "                        colorscale='Cividis',\n",
    "                        showscale=False),1,2)\n",
    "\n",
    "fig.update_layout(title='Pogoda we Wrocławiu w pierwszym tyg. czerwca')\n",
    "iplot(fig)"
   ]
  },
  {
   "cell_type": "code",
   "execution_count": null,
   "id": "45fc7243",
   "metadata": {},
   "outputs": [],
   "source": []
  }
 ],
 "metadata": {
  "kernelspec": {
   "display_name": "Python 3 (ipykernel)",
   "language": "python",
   "name": "python3"
  },
  "language_info": {
   "codemirror_mode": {
    "name": "ipython",
    "version": 3
   },
   "file_extension": ".py",
   "mimetype": "text/x-python",
   "name": "python",
   "nbconvert_exporter": "python",
   "pygments_lexer": "ipython3",
   "version": "3.11.0"
  }
 },
 "nbformat": 4,
 "nbformat_minor": 5
}
