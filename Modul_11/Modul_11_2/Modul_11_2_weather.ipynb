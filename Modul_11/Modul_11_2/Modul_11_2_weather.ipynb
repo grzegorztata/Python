{
 "cells": [
  {
   "cell_type": "code",
   "execution_count": null,
   "id": "3c8f29c5",
   "metadata": {},
   "outputs": [],
   "source": [
    "import dash\n",
    "from dash import dcc\n",
    "from dash import html\n",
    "from dash.dependencies import Input, Output\n",
    "import plotly.graph_objs as go\n",
    "import pandas as pd\n",
    "from plotly import tools\n",
    "import datetime as dt"
   ]
  },
  {
   "cell_type": "code",
   "execution_count": null,
   "id": "0decd611",
   "metadata": {},
   "outputs": [],
   "source": [
    "df = pd.read_csv('../Files/weather_wroc.csv',\n",
    "                skiprows=9, index_col=0, parse_dates=True)\n",
    "df.head()"
   ]
  },
  {
   "attachments": {},
   "cell_type": "markdown",
   "id": "82ae684a",
   "metadata": {},
   "source": [
    "###### Teraz możemy inicjować aplikację Dash oraz przejść do budowy layoutu."
   ]
  },
  {
   "cell_type": "code",
   "execution_count": null,
   "id": "753c8412",
   "metadata": {},
   "outputs": [],
   "source": [
    "app = dash.Dash()\n",
    "\n",
    "app.layout = html.Div(children=[html.H1('Pogoda we Wrocławiu', style={'text-align': 'center'}),\n",
    "                                dcc.Graph(id='wro-weather'), dcc.RangeSlider(id='date-slider',\n",
    "                                                                             min=df.index.min().day,\n",
    "                                                                             max=df.index.max().day,\n",
    "                                                                             step=1,\n",
    "                                                                             marks={date.day: date.strftime(\n",
    "                                                                                 '%m-%d') for date in df.index.unique()},\n",
    "                                                                             value=[df.index.min().day, df.index.max().day]),\n",
    "                                html.Div(id='hover-details', style={'text-align': 'center',\n",
    "                                                                    'margin-top': '20px',\n",
    "                                                                    'font-weight': 'bold'})], style={'width': '80%', 'margin': 'auto'})\n",
    "\n",
    "\n"
   ]
  },
  {
   "cell_type": "code",
   "execution_count": null,
   "id": "58ae61e5",
   "metadata": {},
   "outputs": [],
   "source": [
    "@app.callback(Output('wro-weather', 'figure'),\n",
    "              [Input('date-slider', 'value')])\n",
    "def update_heatmap(x_range):\n",
    "\n",
    "    wro_temp = df.truncate(before=dt.datetime(2020, 6, x_range[0]),\n",
    "                           after=dt.datetime(2020, 6, x_range[1])+pd.Timedelta(hours=23))\n",
    "\n",
    "    fig = tools.make_subplots(rows=1, cols=2, subplot_titles=[\n",
    "                              'Temperatura', 'Opady'], shared_yaxes=True)\n",
    "\n",
    "    fig.append_trace(go.Heatmap(x=wro_temp.index.hour,\n",
    "                                y=wro_temp.index.weekday.map({0: 'Poniedziałek',\n",
    "                                                              1: 'Wtorek',\n",
    "                                                              2: 'Środa',\n",
    "                                                              3: 'Czwartek',\n",
    "                                                              4: 'Piątek',\n",
    "                                                              5: 'Sobota',\n",
    "                                                              6: 'Niedziela'}),\n",
    "                                z=wro_temp['Wrocław Temperature [2 m elevation corrected]'].tolist(\n",
    "                                ),\n",
    "                                colorscale='Jet',\n",
    "                                showscale=False), 1, 1)\n",
    "\n",
    "    fig.append_trace(go.Heatmap(x=wro_temp.index.hour,\n",
    "                                y=wro_temp.index.weekday.map({0: 'Poniedziałek',\n",
    "                                                              1: 'Wtorek',\n",
    "                                                              2: 'Środa',\n",
    "                                                              3: 'Czwartek',\n",
    "                                                              4: 'Piątek',\n",
    "                                                              5: 'Sobota',\n",
    "                                                              6: 'Niedziela'}),\n",
    "                                z=wro_temp['Wrocław Precipitation Total'].tolist(),\n",
    "                                colorscale='Cividis',\n",
    "                                showscale=False), 1, 2)\n",
    "\n",
    "    return fig"
   ]
  },
  {
   "cell_type": "code",
   "execution_count": null,
   "id": "75fecf1a",
   "metadata": {},
   "outputs": [],
   "source": [
    "@app.callback(Output('hover-details', 'children'),\n",
    "              [Input('wro-weather', 'hoverData')])\n",
    "def update_hover_details(hoverData):\n",
    "    dpoint = hoverData['points'][0]\n",
    "\n",
    "    if dpoint['curveNumber'] == 0:\n",
    "        return f\"{dpoint['y']}: temperatura powietrza o godzinie {dpoint['x']} wynosiła {round(dpoint['z'],2)}\"\n",
    "    elif dpoint['curveNumber'] == 1:\n",
    "        return f\"{dpoint['y']}: opady o godzinie {dpoint['x']} wynosiły {round(dpoint['z'],2)}\"\n"
   ]
  },
  {
   "cell_type": "code",
   "execution_count": null,
   "id": "3bcfb6f8",
   "metadata": {},
   "outputs": [],
   "source": [
    "if __name__ == '__main__':\n",
    "    app.run_server()"
   ]
  },
  {
   "cell_type": "code",
   "execution_count": null,
   "id": "1df2d541",
   "metadata": {},
   "outputs": [],
   "source": []
  }
 ],
 "metadata": {
  "kernelspec": {
   "display_name": "Python 3 (ipykernel)",
   "language": "python",
   "name": "python3"
  },
  "language_info": {
   "codemirror_mode": {
    "name": "ipython",
    "version": 3
   },
   "file_extension": ".py",
   "mimetype": "text/x-python",
   "name": "python",
   "nbconvert_exporter": "python",
   "pygments_lexer": "ipython3",
   "version": "3.11.0"
  }
 },
 "nbformat": 4,
 "nbformat_minor": 5
}
