{
 "cells": [
  {
   "cell_type": "code",
   "execution_count": 1,
   "id": "c51e9327",
   "metadata": {},
   "outputs": [],
   "source": [
    "import dash\n",
    "from dash import dcc\n",
    "from dash import html\n",
    "from dash.dependencies import Input, Output\n",
    "import plotly.graph_objs as go"
   ]
  },
  {
   "cell_type": "markdown",
   "id": "359aaa8f",
   "metadata": {},
   "source": [
    "###### Uzupełniamy Dashboard o prosty wykres liniowy"
   ]
  },
  {
   "cell_type": "code",
   "execution_count": 2,
   "id": "fd650505",
   "metadata": {},
   "outputs": [],
   "source": [
    "app = dash.Dash()\n",
    "\n",
    "app.layout = html.Div(children=[\n",
    "            html.H1('Mój dashboard',style={'margin':'auto'}),\n",
    "            html.Div('Tu pojawi się content',style={'color':'red'}),\n",
    "            dcc.Graph(id='first-graph'),\n",
    "            html.Label('Slider'),\n",
    "            html.Div([dcc.Slider(id='my-slider',min=1,max=4,step=1,value=1)],\n",
    "            style={'width':'400px'})\n",
    "])"
   ]
  },
  {
   "cell_type": "code",
   "execution_count": 3,
   "id": "3e73711b",
   "metadata": {},
   "outputs": [],
   "source": [
    "@app.callback(Output(component_id='first-graph',component_property='figure'),\n",
    "            [Input('my-slider','value')])\n",
    "def update_figure(max_range):\n",
    "\n",
    "    data = [go.Scatter(x=[1,2,3,4],y=[10,20,30,40])]\n",
    "    layout = go.Layout(title='Pierwszy wykres',width=600,height=300,\n",
    "    xaxis=dict(range=[1,max_range]))\n",
    "    fig = go.Figure(data=data,layout=layout)\n",
    "\n",
    "    return fig"
   ]
  },
  {
   "cell_type": "code",
   "execution_count": null,
   "id": "d333d277",
   "metadata": {},
   "outputs": [
    {
     "name": "stdout",
     "output_type": "stream",
     "text": [
      "Dash is running on http://127.0.0.1:8050/\n",
      "\n",
      " * Serving Flask app '__main__'\n",
      " * Debug mode: off\n"
     ]
    },
    {
     "name": "stderr",
     "output_type": "stream",
     "text": [
      "WARNING: This is a development server. Do not use it in a production deployment. Use a production WSGI server instead.\n",
      " * Running on http://127.0.0.1:8050\n",
      "Press CTRL+C to quit\n",
      "127.0.0.1 - - [19/Jun/2023 11:51:27] \"GET / HTTP/1.1\" 200 -\n",
      "127.0.0.1 - - [19/Jun/2023 11:51:27] \"GET /_dash-layout HTTP/1.1\" 200 -\n",
      "127.0.0.1 - - [19/Jun/2023 11:51:27] \"GET /_dash-dependencies HTTP/1.1\" 200 -\n",
      "127.0.0.1 - - [19/Jun/2023 11:51:27] \"GET /_dash-component-suites/dash/dcc/async-graph.js HTTP/1.1\" 304 -\n",
      "127.0.0.1 - - [19/Jun/2023 11:51:27] \"GET /_dash-component-suites/dash/dcc/async-slider.js HTTP/1.1\" 304 -\n",
      "127.0.0.1 - - [19/Jun/2023 11:51:27] \"GET /_dash-component-suites/dash/dcc/async-plotlyjs.js HTTP/1.1\" 304 -\n",
      "127.0.0.1 - - [19/Jun/2023 11:51:28] \"POST /_dash-update-component HTTP/1.1\" 200 -\n",
      "127.0.0.1 - - [19/Jun/2023 11:51:30] \"POST /_dash-update-component HTTP/1.1\" 200 -\n",
      "127.0.0.1 - - [19/Jun/2023 11:51:30] \"POST /_dash-update-component HTTP/1.1\" 200 -\n",
      "127.0.0.1 - - [19/Jun/2023 11:51:31] \"POST /_dash-update-component HTTP/1.1\" 200 -\n"
     ]
    }
   ],
   "source": [
    "if __name__ == '__main__':\n",
    "    app.run_server()"
   ]
  },
  {
   "cell_type": "code",
   "execution_count": null,
   "id": "ce08c38d",
   "metadata": {},
   "outputs": [],
   "source": []
  }
 ],
 "metadata": {
  "kernelspec": {
   "display_name": "Python 3 (ipykernel)",
   "language": "python",
   "name": "python3"
  },
  "language_info": {
   "codemirror_mode": {
    "name": "ipython",
    "version": 3
   },
   "file_extension": ".py",
   "mimetype": "text/x-python",
   "name": "python",
   "nbconvert_exporter": "python",
   "pygments_lexer": "ipython3",
   "version": "3.11.0"
  }
 },
 "nbformat": 4,
 "nbformat_minor": 5
}
