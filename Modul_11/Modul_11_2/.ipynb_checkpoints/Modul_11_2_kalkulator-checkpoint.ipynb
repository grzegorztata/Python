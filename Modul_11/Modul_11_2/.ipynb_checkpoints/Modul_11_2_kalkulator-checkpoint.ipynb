{
 "cells": [
  {
   "cell_type": "code",
   "execution_count": 1,
   "id": "3c22b8a5",
   "metadata": {},
   "outputs": [],
   "source": [
    "import dash\n",
    "from dash import dcc\n",
    "from dash import html\n",
    "from dash.dependencies import Input, Output, State"
   ]
  },
  {
   "cell_type": "code",
   "execution_count": 2,
   "id": "40ea1d9d",
   "metadata": {},
   "outputs": [],
   "source": [
    "app = dash.Dash()\n",
    "app.layout = html.Div([html.H1('Kalkulator'),\n",
    "                       html.Label('Czynnik #1'),\n",
    "                       dcc.Input(id='product-1', placeholder='5',\n",
    "                                 type='number', value=''),\n",
    "                       html.Br(),\n",
    "                       html.Label('Czynnik #2'),\n",
    "                       dcc.Input(id='product-2', placeholder='2',\n",
    "                                 type='number', value=''),\n",
    "                       html.Button('Oblicz!',id='submit-btn'),\n",
    "                       html.Div(id='output', style={'font-size': '30px', 'margin': '10px 10px'})])"
   ]
  },
  {
   "cell_type": "code",
   "execution_count": 3,
   "id": "728726c7",
   "metadata": {},
   "outputs": [],
   "source": [
    "@app.callback(Output('output', 'children'),\n",
    "              [Input('submit-btn', 'n_clicks')],\n",
    "              [State('product-1', 'value'), State('product-2', 'value')])\n",
    "def multiply(n_clicks, prod_1, prod_2):\n",
    "    return prod_1 * prod_2"
   ]
  },
  {
   "cell_type": "code",
   "execution_count": null,
   "id": "71e48315",
   "metadata": {},
   "outputs": [
    {
     "name": "stdout",
     "output_type": "stream",
     "text": [
      "Dash is running on http://127.0.0.1:8050/\n",
      "\n",
      " * Serving Flask app '__main__'\n",
      " * Debug mode: off\n"
     ]
    },
    {
     "name": "stderr",
     "output_type": "stream",
     "text": [
      "WARNING: This is a development server. Do not use it in a production deployment. Use a production WSGI server instead.\n",
      " * Running on http://127.0.0.1:8050\n",
      "Press CTRL+C to quit\n",
      "127.0.0.1 - - [19/Jun/2023 21:58:48] \"GET / HTTP/1.1\" 200 -\n",
      "127.0.0.1 - - [19/Jun/2023 21:58:48] \"GET /_dash-layout HTTP/1.1\" 200 -\n",
      "127.0.0.1 - - [19/Jun/2023 21:58:48] \"GET /_dash-dependencies HTTP/1.1\" 200 -\n",
      "127.0.0.1 - - [19/Jun/2023 21:58:48] \"GET /_favicon.ico?v=2.10.2 HTTP/1.1\" 200 -\n",
      "[2023-06-19 21:58:48,707] ERROR in app: Exception on /_dash-update-component [POST]\n",
      "Traceback (most recent call last):\n",
      "  File \"C:\\Users\\GTata\\AppData\\Local\\Programs\\Python\\Python311\\Lib\\site-packages\\flask\\app.py\", line 2529, in wsgi_app\n",
      "    response = self.full_dispatch_request()\n",
      "               ^^^^^^^^^^^^^^^^^^^^^^^^^^^^\n",
      "  File \"C:\\Users\\GTata\\AppData\\Local\\Programs\\Python\\Python311\\Lib\\site-packages\\flask\\app.py\", line 1825, in full_dispatch_request\n",
      "    rv = self.handle_user_exception(e)\n",
      "         ^^^^^^^^^^^^^^^^^^^^^^^^^^^^^\n",
      "  File \"C:\\Users\\GTata\\AppData\\Local\\Programs\\Python\\Python311\\Lib\\site-packages\\flask\\app.py\", line 1823, in full_dispatch_request\n",
      "    rv = self.dispatch_request()\n",
      "         ^^^^^^^^^^^^^^^^^^^^^^^\n",
      "  File \"C:\\Users\\GTata\\AppData\\Local\\Programs\\Python\\Python311\\Lib\\site-packages\\flask\\app.py\", line 1799, in dispatch_request\n",
      "    return self.ensure_sync(self.view_functions[rule.endpoint])(**view_args)\n",
      "           ^^^^^^^^^^^^^^^^^^^^^^^^^^^^^^^^^^^^^^^^^^^^^^^^^^^^^^^^^^^^^^^^^\n",
      "  File \"C:\\Users\\GTata\\AppData\\Local\\Programs\\Python\\Python311\\Lib\\site-packages\\dash\\dash.py\", line 1249, in dispatch\n",
      "    ctx.run(\n",
      "  File \"C:\\Users\\GTata\\AppData\\Local\\Programs\\Python\\Python311\\Lib\\site-packages\\dash\\_callback.py\", line 450, in add_context\n",
      "    output_value = func(*func_args, **func_kwargs)  # %% callback invoked %%\n",
      "                   ^^^^^^^^^^^^^^^^^^^^^^^^^^^^^^^\n",
      "  File \"C:\\Users\\GTata\\AppData\\Local\\Temp\\ipykernel_20832\\3764883297.py\", line 5, in multiply\n",
      "    return prod_1 * prod_2\n",
      "           ~~~~~~~^~~~~~~~\n",
      "TypeError: can't multiply sequence by non-int of type 'str'\n",
      "127.0.0.1 - - [19/Jun/2023 21:58:48] \"POST /_dash-update-component HTTP/1.1\" 500 -\n",
      "127.0.0.1 - - [19/Jun/2023 21:58:51] \"POST /_dash-update-component HTTP/1.1\" 200 -\n",
      "127.0.0.1 - - [19/Jun/2023 21:58:53] \"POST /_dash-update-component HTTP/1.1\" 200 -\n",
      "127.0.0.1 - - [19/Jun/2023 21:58:55] \"POST /_dash-update-component HTTP/1.1\" 200 -\n",
      "127.0.0.1 - - [19/Jun/2023 21:59:00] \"POST /_dash-update-component HTTP/1.1\" 200 -\n"
     ]
    }
   ],
   "source": [
    "if __name__ == '__main__':\n",
    "    app.run_server()"
   ]
  },
  {
   "cell_type": "code",
   "execution_count": null,
   "id": "8f881d31",
   "metadata": {},
   "outputs": [],
   "source": []
  }
 ],
 "metadata": {
  "kernelspec": {
   "display_name": "Python 3 (ipykernel)",
   "language": "python",
   "name": "python3"
  },
  "language_info": {
   "codemirror_mode": {
    "name": "ipython",
    "version": 3
   },
   "file_extension": ".py",
   "mimetype": "text/x-python",
   "name": "python",
   "nbconvert_exporter": "python",
   "pygments_lexer": "ipython3",
   "version": "3.11.0"
  }
 },
 "nbformat": 4,
 "nbformat_minor": 5
}
