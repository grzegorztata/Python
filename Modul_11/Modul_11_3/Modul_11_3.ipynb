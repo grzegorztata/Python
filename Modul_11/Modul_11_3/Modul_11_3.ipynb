{
 "cells": [
  {
   "cell_type": "code",
   "execution_count": 11,
   "id": "8a825f6e",
   "metadata": {},
   "outputs": [
    {
     "ename": "ModuleNotFoundError",
     "evalue": "No module named 'tab1'",
     "output_type": "error",
     "traceback": [
      "\u001b[1;31m---------------------------------------------------------------------------\u001b[0m",
      "\u001b[1;31mModuleNotFoundError\u001b[0m                       Traceback (most recent call last)",
      "Cell \u001b[1;32mIn[11], line 10\u001b[0m\n\u001b[0;32m      8\u001b[0m \u001b[38;5;28;01mimport\u001b[39;00m \u001b[38;5;21;01mdash_auth\u001b[39;00m\n\u001b[0;32m      9\u001b[0m \u001b[38;5;28;01mimport\u001b[39;00m \u001b[38;5;21;01mplotly\u001b[39;00m\u001b[38;5;21;01m.\u001b[39;00m\u001b[38;5;21;01mgraph_objects\u001b[39;00m \u001b[38;5;28;01mas\u001b[39;00m \u001b[38;5;21;01mgo\u001b[39;00m\n\u001b[1;32m---> 10\u001b[0m \u001b[38;5;28;01mimport\u001b[39;00m \u001b[38;5;21;01mtab1\u001b[39;00m\n\u001b[0;32m     11\u001b[0m \u001b[38;5;28;01mimport\u001b[39;00m \u001b[38;5;21;01mtab2\u001b[39;00m\n",
      "\u001b[1;31mModuleNotFoundError\u001b[0m: No module named 'tab1'"
     ]
    }
   ],
   "source": [
    "import pandas as pd\n",
    "import datetime as dt\n",
    "import os\n",
    "import dash\n",
    "from dash import dcc\n",
    "from dash import html\n",
    "from dash.dependencies import Input, Output\n",
    "import dash_auth\n",
    "import plotly.graph_objects as go\n",
    "import tab1\n",
    "import tab2"
   ]
  },
  {
   "cell_type": "markdown",
   "id": "d4d60489",
   "metadata": {},
   "source": [
    "# Wczytywanie danych"
   ]
  },
  {
   "cell_type": "markdown",
   "id": "51eda14c",
   "metadata": {},
   "source": [
    "###### Stworzymy osobną klasę db, w której będą znajdować się podstawowe operacje na plikach źródłowych."
   ]
  },
  {
   "cell_type": "code",
   "execution_count": 2,
   "id": "6a36668e",
   "metadata": {},
   "outputs": [],
   "source": [
    "class db:\n",
    "    def __init__(self):\n",
    "        self.transactions = db.transaction_init()\n",
    "        self.cc = pd.read_csv(r'db\\country_codes.csv',index_col=0)\n",
    "        self.customers = pd.read_csv(r'db\\customers.csv',index_col=0)\n",
    "        self.prod_info = pd.read_csv(r'db\\prod_cat_info.csv')"
   ]
  },
  {
   "cell_type": "markdown",
   "id": "83c8d679",
   "metadata": {},
   "source": [
    "###### Korzystając z biblioteki os, wczytujemy wszystkie pliki z folderu db\\transactions do Pandas i łączymy je ze sobą dzięki funkcji append"
   ]
  },
  {
   "cell_type": "code",
   "execution_count": 3,
   "id": "80198330",
   "metadata": {},
   "outputs": [],
   "source": [
    "@staticmethod\n",
    "def transaction_init():\n",
    "    transactions = pd.DataFrame()\n",
    "    src = r'db\\transactions'\n",
    "    for filename in os.listdir(src):\n",
    "        transactions = transactions.append(pd.read_csv(os.path.join(src,filename),index_col=0))\n",
    "\n",
    "    def convert_dates(x):\n",
    "        try:\n",
    "            return dt.datetime.strptime(x,'%d-%m-%Y')\n",
    "        except:\n",
    "            return dt.datetime.strptime(x,'%d/%m/%Y')\n",
    "\n",
    "    transactions['tran_date'] = transactions['tran_date'].apply(lambda x: convert_dates(x))\n",
    "\n",
    "    return transactions"
   ]
  },
  {
   "cell_type": "markdown",
   "id": "1663d43e",
   "metadata": {},
   "source": [
    "###### Chcemy również połączyć bazę z transakcjami z odpowiednimi kategoriami produktów, płcią klienta oraz krajem sprzedaży."
   ]
  },
  {
   "cell_type": "code",
   "execution_count": 4,
   "id": "862da046",
   "metadata": {},
   "outputs": [],
   "source": [
    "def merge(self):\n",
    "    df = self.transactions.join(self.prod_info.drop_duplicates(subset=['prod_cat_code'])\n",
    "    .set_index('prod_cat_code')['prod_cat'],on='prod_cat_code',how='left')\n",
    "\n",
    "    df = df.join(self.prod_info.drop_duplicates(subset=['prod_subcat_code'])\n",
    "    .set_index('prod_subcat_code')['prod_subcat'],on='prod_subcat_code',how='left')\n",
    "\n",
    "    df = df.join(self.customers.join(self.cc,on='country_code')\n",
    "    .set_index('customer_Id'),on='cust_id')\n",
    "\n",
    "    self.merged = df\n",
    "    \n",
    "    df = db()\n",
    "    df.merge()"
   ]
  },
  {
   "cell_type": "markdown",
   "id": "ad6f3e02",
   "metadata": {},
   "source": [
    "# Budowa podstawowego layoutu"
   ]
  },
  {
   "cell_type": "markdown",
   "id": "acd6abdc",
   "metadata": {},
   "source": [
    "###### Inicjujemy aplikację, wykorzystując dodatkowo zewnętrzny arkusz stylów."
   ]
  },
  {
   "cell_type": "code",
   "execution_count": 5,
   "id": "8cba828d",
   "metadata": {},
   "outputs": [],
   "source": [
    "external_stylesheets = ['https://codepen.io/chriddyp/pen/bWLwgP.css']\n",
    "\n",
    "app = dash.Dash(__name__, external_stylesheets=external_stylesheets)"
   ]
  },
  {
   "cell_type": "markdown",
   "id": "d91e4c7d",
   "metadata": {},
   "source": [
    "###### Widget umożliwiający wykorzystywanie kolejnych zakładek, tj. tabów. Będziemy go przechowywać wewnątrz divów, tak aby w dość prosty sposób kontrolować jego wysokość i szerokość."
   ]
  },
  {
   "cell_type": "code",
   "execution_count": 6,
   "id": "a70932a2",
   "metadata": {},
   "outputs": [],
   "source": [
    "app.layout = html.Div([html.Div([dcc.Tabs(id='tabs',value='tab-1',children=[\n",
    "                            dcc.Tab(label='Sprzedaż globalna',value='tab-1'),\n",
    "                            dcc.Tab(label='Produkty',value='tab-2')\n",
    "                            ]),\n",
    "                            html.Div(id='tabs-content')\n",
    "                    ],style={'width':'80%','margin':'auto'})],\n",
    "                    style={'height':'100%'})"
   ]
  },
  {
   "cell_type": "markdown",
   "id": "4715ca90",
   "metadata": {},
   "source": [
    "# Sprzedaż globalna"
   ]
  },
  {
   "cell_type": "code",
   "execution_count": 7,
   "id": "ad3d9302",
   "metadata": {},
   "outputs": [],
   "source": [
    "def render_tab(df):\n",
    "\n",
    "    layout = html.Div([html.H1('Sprzedaż globalna',style={'text-align':'center'}),\n",
    "                        html.Div([dcc.DatePickerRange(id='sales-range',\n",
    "                        start_date=df['tran_date'].min(),\n",
    "                        end_date=df['tran_date'].max(),\n",
    "                        display_format='YYYY-MM-DD')],style={'width':'100%','text-align':'center'}),\n",
    "                        html.Div([html.Div([dcc.Graph(id='bar-sales')],style={'width':'50%'}),\n",
    "                        html.Div([dcc.Graph(id='choropleth-sales')],style={'width':'50%'})],style={'display':'flex'})\n",
    "                        ])\n",
    "\n",
    "    return layout"
   ]
  },
  {
   "cell_type": "markdown",
   "id": "a24bdd44",
   "metadata": {},
   "source": [
    "# Produkty"
   ]
  },
  {
   "cell_type": "code",
   "execution_count": 8,
   "id": "3bb20c30",
   "metadata": {},
   "outputs": [],
   "source": [
    "def render_tab(df):\n",
    "\n",
    "    grouped = df[df['total_amt']>0].groupby('prod_cat')['total_amt'].sum()\n",
    "    fig = go.Figure(data=[go.Pie(labels=grouped.index,values=grouped.values)],layout=go.Layout(title='Udział grup produktów w sprzedaży'))\n",
    "\n",
    "    layout = html.Div([html.H1('Produkty',style={'text-align':'center'}),\n",
    "\n",
    "                        html.Div([html.Div([dcc.Graph(id='pie-prod-cat',figure=fig)],style={'width':'50%'}),\n",
    "                        html.Div([dcc.Dropdown(id='prod_dropdown',\n",
    "                                    options=[{'label':prod_cat,'value':prod_cat} for prod_cat in df['prod_cat'].unique()],\n",
    "                                    value=df['prod_cat'].unique()[0]),\n",
    "                                    dcc.Graph(id='barh-prod-subcat')],style={'width':'50%'})],style={'display':'flex'}),\n",
    "                                    html.Div(id='temp-out')\n",
    "                        ])\n",
    "\n",
    "    return layout"
   ]
  },
  {
   "cell_type": "markdown",
   "id": "5037e1a8",
   "metadata": {},
   "source": [
    "# Callbacks"
   ]
  },
  {
   "cell_type": "code",
   "execution_count": 9,
   "id": "f63e6d24",
   "metadata": {},
   "outputs": [],
   "source": [
    "@app.callback(Output('tabs-content','children'),[Input('tabs','value')])\n",
    "def render_content(tab):\n",
    "\n",
    "    if tab == 'tab-1':\n",
    "        return tab1.render_tab(df.merged)\n",
    "    elif tab == 'tab-2':\n",
    "        return tab2.render_tab(df.merged)"
   ]
  },
  {
   "cell_type": "code",
   "execution_count": 10,
   "id": "ca41a7cc",
   "metadata": {},
   "outputs": [
    {
     "ename": "SyntaxError",
     "evalue": "incomplete input (3720463816.py, line 2)",
     "output_type": "error",
     "traceback": [
      "\u001b[1;36m  Cell \u001b[1;32mIn[10], line 2\u001b[1;36m\u001b[0m\n\u001b[1;33m    @app.callback(Output('bar-sales', 'figure'), [Input('sales-range', 'start_date'), Input('sales-range', 'end_date')])\u001b[0m\n\u001b[1;37m                                                                                                                        ^\u001b[0m\n\u001b[1;31mSyntaxError\u001b[0m\u001b[1;31m:\u001b[0m incomplete input\n"
     ]
    }
   ],
   "source": [
    "## tab1 callbacks\n",
    "@app.callback(Output('bar-sales', 'figure'), [Input('sales-range', 'start_date'), Input('sales-range', 'end_date')])"
   ]
  },
  {
   "cell_type": "code",
   "execution_count": null,
   "id": "fb8bfcb9",
   "metadata": {},
   "outputs": [],
   "source": [
    "def tab1_bar_sales(start_date,end_date):\n",
    "\n",
    "    truncated = df.merged[(df.merged['tran_date']>=start_date)&(df.merged['tran_date']<=end_date)]\n",
    "    grouped = truncated[truncated['total_amt']>0].groupby([pd.Grouper(key='tran_date',freq='M'),'Store_type'])['total_amt'].sum().round(2).unstack()\n",
    "\n",
    "    traces = []\n",
    "    for col in grouped.columns:\n",
    "        traces.append(go.Bar(x=grouped.index,y=grouped[col],name=col,hoverinfo='text',\n",
    "        hovertext=[f'{y/1e3:.2f}k' for y in grouped[col].values]))\n",
    "\n",
    "    data = traces\n",
    "    fig = go.Figure(data=data,layout=go.Layout(title='Przychody',barmode='stack',legend=dict(x=0,y=-0.5)))\n",
    "\n",
    "    return fig"
   ]
  },
  {
   "cell_type": "code",
   "execution_count": null,
   "id": "f4b3ccaf",
   "metadata": {},
   "outputs": [],
   "source": [
    "@app.callback(Output('choropleth-sales','figure'),\n",
    "            [Input('sales-range','start_date'),Input('sales-range','end_date')])\n",
    "def tab1_choropleth_sales(start_date,end_date):\n",
    "\n",
    "    truncated = df.merged[(df.merged['tran_date']>=start_date)&(df.merged['tran_date']<=end_date)]\n",
    "    grouped = truncated[truncated['total_amt']>0].groupby('country')['total_amt'].sum().round(2)\n",
    "\n",
    "    trace0 = go.Choropleth(colorscale='Viridis',reversescale=True,\n",
    "                            locations=grouped.index,locationmode='country names',\n",
    "                            z = grouped.values, colorbar=dict(title='Sales'))\n",
    "    data = [trace0]\n",
    "    fig = go.Figure(data=data,layout=go.Layout(title='Mapa',geo=dict(showframe=False,projection={'type':'natural earth'})))\n",
    "\n",
    "    return fig"
   ]
  },
  {
   "cell_type": "code",
   "execution_count": null,
   "id": "d64e563e",
   "metadata": {},
   "outputs": [],
   "source": [
    "## tab2 callbacks\n",
    "@app.callback(Output('barh-prod-subcat','figure'),\n",
    "            [Input('prod_dropdown','value')])\n",
    "def tab2_barh_prod_subcat(chosen_cat):\n",
    "\n",
    "    grouped = df.merged[(df.merged['total_amt']>0)&(df.merged['prod_cat']==chosen_cat)].pivot_table(index='prod_subcat',columns='Gender',values='total_amt',aggfunc='sum').assign(_sum=lambda x: x['F']+x['M']).sort_values(by='_sum').round(2)\n",
    "\n",
    "    traces = []\n",
    "    for col in ['F','M']:\n",
    "        traces.append(go.Bar(x=grouped[col],y=grouped.index,orientation='h',name=col))\n",
    "\n",
    "    data = traces\n",
    "    fig = go.Figure(data=data,layout=go.Layout(barmode='stack',margin={'t':20,}))\n",
    "    return fig"
   ]
  },
  {
   "cell_type": "markdown",
   "id": "4b42c23d",
   "metadata": {},
   "source": [
    "# Uruchamianie"
   ]
  },
  {
   "cell_type": "code",
   "execution_count": null,
   "id": "290796e1",
   "metadata": {},
   "outputs": [],
   "source": [
    "if __name__ == '__main__':\n",
    "    app.run_server(debug=False, port=8051)"
   ]
  },
  {
   "cell_type": "code",
   "execution_count": null,
   "id": "c6209eb0",
   "metadata": {},
   "outputs": [],
   "source": []
  }
 ],
 "metadata": {
  "kernelspec": {
   "display_name": "Python 3 (ipykernel)",
   "language": "python",
   "name": "python3"
  },
  "language_info": {
   "codemirror_mode": {
    "name": "ipython",
    "version": 3
   },
   "file_extension": ".py",
   "mimetype": "text/x-python",
   "name": "python",
   "nbconvert_exporter": "python",
   "pygments_lexer": "ipython3",
   "version": "3.11.0"
  }
 },
 "nbformat": 4,
 "nbformat_minor": 5
}
