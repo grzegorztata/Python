{
 "cells": [
  {
   "cell_type": "code",
   "execution_count": null,
   "id": "2d7843c0",
   "metadata": {},
   "outputs": [],
   "source": [
    "import numpy as np\n",
    "import pandas as pd\n",
    "import seaborn as sns\n",
    "import string\n",
    "import nltk\n",
    "import itertools\n",
    "from wordcloud import WordCloud\n",
    "import matplotlib.pyplot as plt\n",
    "from sklearn.feature_extraction.text import TfidfVectorizer\n",
    "\n",
    "from sklearn.ensemble import RandomForestClassifier\n",
    "from sklearn.preprocessing import StandardScaler\n",
    "from sklearn.model_selection import train_test_split, GridSearchCV\n",
    "from sklearn.pipeline import Pipeline\n",
    "from sklearn.metrics import classification_report, confusion_matrix, roc_curve, f1_score, roc_auc_score"
   ]
  },
  {
   "cell_type": "code",
   "execution_count": null,
   "id": "bb3a4a49",
   "metadata": {},
   "outputs": [],
   "source": [
    "spam_dataset = pd.read_csv('../Files/spam.csv', encoding = \"ISO-8859-1\", usecols=[0, 1], names=['Spam', 'Text'],\n",
    "                           skiprows=1)\n",
    "spam_dataset['Spam'] = spam_dataset['Spam'].replace(['ham', 'spam'], [0, 1])\n",
    "spam_dataset"
   ]
  },
  {
   "cell_type": "markdown",
   "id": "798a44fc",
   "metadata": {},
   "source": [
    "##### Sprawdzamy czy nasze klasy s zbalansowane"
   ]
  },
  {
   "cell_type": "code",
   "execution_count": null,
   "id": "268e1c3c",
   "metadata": {},
   "outputs": [],
   "source": [
    "print(spam_dataset['Spam'].value_counts(normalize=True))"
   ]
  },
  {
   "cell_type": "markdown",
   "id": "6c666c9e",
   "metadata": {},
   "source": [
    "#### Usuwanie znaków interpunkcyjnych"
   ]
  },
  {
   "cell_type": "code",
   "execution_count": null,
   "id": "5bf6f264",
   "metadata": {},
   "outputs": [],
   "source": [
    "def remove_puncation(text):\n",
    "    cleaned = ''.join([word for word in text if word not in string.punctuation])\n",
    "    return cleaned\n",
    "spam_dataset['Cleaned_Text'] = spam_dataset['Text'].apply(lambda x: remove_puncation(x))\n",
    "spam_dataset"
   ]
  },
  {
   "cell_type": "markdown",
   "id": "8b496f7d",
   "metadata": {},
   "source": [
    "##### Zamieniamy wielkie litery na małe"
   ]
  },
  {
   "cell_type": "code",
   "execution_count": null,
   "id": "b494bc26",
   "metadata": {},
   "outputs": [],
   "source": [
    "def tokenize(text):\n",
    "\n",
    "    # Usunięcie wielkich liter\n",
    "    clean_text = text.lower()\n",
    "\n",
    "    # Tokenizacja\n",
    "    tokenized_text = nltk.word_tokenize(clean_text)\n",
    "    return tokenized_text\n",
    "\n",
    "spam_dataset['Tokenized_Text'] = spam_dataset['Cleaned_Text'].apply(lambda x: tokenize(x))\n",
    "spam_dataset"
   ]
  },
  {
   "cell_type": "markdown",
   "id": "1ef112ce",
   "metadata": {},
   "source": [
    "##### Usuwanie stopwords"
   ]
  },
  {
   "cell_type": "code",
   "execution_count": null,
   "id": "47388030",
   "metadata": {},
   "outputs": [],
   "source": [
    "stopwords = nltk.corpus.stopwords.words('english')"
   ]
  },
  {
   "cell_type": "code",
   "execution_count": null,
   "id": "edf3eaa6",
   "metadata": {},
   "outputs": [],
   "source": [
    "def remove_stopwords(text):\n",
    "    without_stopwords = [word for word in text if word not in stopwords]\n",
    "    return without_stopwords\n",
    "spam_dataset['WithoutStop_Text'] = spam_dataset['Tokenized_Text'].apply(lambda x: remove_stopwords(x))\n",
    "spam_dataset"
   ]
  },
  {
   "cell_type": "markdown",
   "id": "4bad9a72",
   "metadata": {},
   "source": [
    "##### Stemming - usuwanie części wyrazu lub sprowadzenia wyrazu do jego rdzenia lub korzenia"
   ]
  },
  {
   "cell_type": "code",
   "execution_count": null,
   "id": "402308b8",
   "metadata": {},
   "outputs": [],
   "source": [
    "stemmer = nltk.PorterStemmer()\n",
    "def stemming(text):\n",
    "    stemmed_words = [stemmer.stem(word) for word in text]\n",
    "    return stemmed_words\n",
    "spam_dataset['Stemmed_Text'] = spam_dataset['WithoutStop_Text'].apply(lambda x: stemming(x))\n",
    "spam_dataset"
   ]
  },
  {
   "cell_type": "markdown",
   "id": "ecbdc9bc",
   "metadata": {},
   "source": [
    "##### Lematyzacja - np. 'better' zostanie przekształcone na 'good'"
   ]
  },
  {
   "cell_type": "code",
   "execution_count": null,
   "id": "f0e24880",
   "metadata": {},
   "outputs": [],
   "source": [
    "lemmater = nltk.WordNetLemmatizer()\n",
    "def lemmatizing(text):\n",
    "    lemmatized_words = [lemmater.lemmatize(word) for word in text]\n",
    "    return lemmatized_words\n",
    "spam_dataset['Lemmatized_Text'] = spam_dataset['WithoutStop_Text'].apply(lambda x: lemmatizing(x))\n",
    "spam_dataset"
   ]
  },
  {
   "cell_type": "markdown",
   "id": "c6e92d1b",
   "metadata": {},
   "source": [
    "##### Na podstawie zlematyzowanych maili stwórzmy stringa, który jest połączeniem wszystkich słów dla maili, które są spamem oraz dla maili, które nie są spamem."
   ]
  },
  {
   "cell_type": "code",
   "execution_count": null,
   "id": "383d8cdb",
   "metadata": {},
   "outputs": [],
   "source": [
    "words_spam = list(spam_dataset.loc[spam_dataset['Spam']==1, 'Lemmatized_Text'].values)\n",
    "words_spam = list(itertools.chain.from_iterable(words_spam))\n",
    "words_spam = ' '.join(words_spam)\n",
    "\n",
    "words_notspam = list(spam_dataset.loc[spam_dataset['Spam']==0, 'Lemmatized_Text'].values)\n",
    "words_notspam = list(itertools.chain.from_iterable(words_notspam))\n",
    "words_notspam = ' '.join(words_notspam)"
   ]
  },
  {
   "cell_type": "markdown",
   "id": "4e9565fa",
   "metadata": {},
   "source": [
    "##### Tworzymy chmurę słów dla spamów"
   ]
  },
  {
   "cell_type": "code",
   "execution_count": null,
   "id": "113de56e",
   "metadata": {},
   "outputs": [],
   "source": [
    "wordcloud = WordCloud().generate(words_spam)\n",
    "plt.figure(figsize = (12, 8))\n",
    "plt.imshow(wordcloud)\n",
    "plt.axis('off')\n",
    "plt.title('Spam')\n",
    "plt.show()"
   ]
  },
  {
   "cell_type": "markdown",
   "id": "72f5b9bd",
   "metadata": {},
   "source": [
    "##### Tworzymy chmurę dla nie-spamów"
   ]
  },
  {
   "cell_type": "code",
   "execution_count": null,
   "id": "8938bde0",
   "metadata": {},
   "outputs": [],
   "source": [
    "wordcloud = WordCloud().generate(words_notspam)\n",
    "plt.figure(figsize = (12, 8))\n",
    "plt.imshow(wordcloud)\n",
    "plt.axis('off')\n",
    "plt.title('Nie Spam')\n",
    "plt.show()"
   ]
  },
  {
   "cell_type": "markdown",
   "id": "343f25c2",
   "metadata": {},
   "source": [
    "### Wektoryzacja TF (Częstotliwość terminów) - IDF (Odwrotność częstotliwości terminów)"
   ]
  },
  {
   "cell_type": "code",
   "execution_count": null,
   "id": "a9a61ff0",
   "metadata": {},
   "outputs": [],
   "source": [
    "tfidf = TfidfVectorizer()\n",
    "X = tfidf.fit_transform(spam_dataset['Lemmatized_Text'].apply(lambda x: ' '.join(x)))\n",
    "print(X.shape)\n",
    "y = spam_dataset['Spam']\n",
    "print(y.shape)"
   ]
  },
  {
   "cell_type": "code",
   "execution_count": null,
   "id": "7c9f657f",
   "metadata": {},
   "outputs": [],
   "source": [
    "from sklearn.ensemble import RandomForestClassifier\n",
    "clf = RandomForestClassifier(max_depth=2, random_state=0)\n",
    "clf.fit(X, y)\n",
    "clf.score(X, y)"
   ]
  },
  {
   "cell_type": "markdown",
   "id": "4962768b",
   "metadata": {},
   "source": [
    "##### Inne metody wektoryzacji tekstu - wyliczanie liczby wystąpień w poszczególnych mailach"
   ]
  },
  {
   "cell_type": "code",
   "execution_count": null,
   "id": "3f80a834",
   "metadata": {},
   "outputs": [],
   "source": [
    "from sklearn.feature_extraction.text import CountVectorizer\n",
    "count = CountVectorizer(min_df=0.01, max_df=0.5)  # słowa, które pojawiają się rzadziej niż w 1% maila lub częściej niż w 50% maili są ignorowane\n",
    "X_count = count.fit_transform(spam_dataset['Lemmatized_Text'].apply(lambda x: ' '.join(x)))\n",
    "X_count"
   ]
  },
  {
   "cell_type": "code",
   "execution_count": null,
   "id": "31371f32",
   "metadata": {},
   "outputs": [],
   "source": [
    "clf_v2 = RandomForestClassifier(max_depth=2, random_state=0)\n",
    "clf_v2.fit(X_count, y)\n",
    "clf_v2.score(X_count, y)"
   ]
  },
  {
   "cell_type": "code",
   "execution_count": null,
   "id": "f0a956ed",
   "metadata": {
    "scrolled": true
   },
   "outputs": [],
   "source": [
    "vocabulary = count.vocabulary_\n",
    "word_frequencies = X_count.sum(axis=0)\n",
    "# Tworzenie listy wybranych słów wraz z ich liczbami wystąpień\n",
    "selected_words_with_frequencies = [(word, word_frequencies[0, idx]) for word, idx in vocabulary.items()]\n",
    "# Sortowanie listy po liczbie wystąpień\n",
    "selected_words_with_frequencies.sort(key=lambda x: x[1], reverse=True)\n",
    "# Wyświetlenie wybranych słów wraz z ich liczbami wystąpień\n",
    "for word, frequency in selected_words_with_frequencies:\n",
    "    print(f\"Word: {word}, Frequency: {frequency}\")"
   ]
  },
  {
   "cell_type": "markdown",
   "id": "dcc8e529",
   "metadata": {},
   "source": [
    "##### Teraz sprawdźmy jak wygląda X, na podstawie którego model się uczy, jak i wykonuje prognozę. Przekształćmy go do Numpy array. Pokażmy 5 pierwszych obserwacji."
   ]
  },
  {
   "cell_type": "code",
   "execution_count": null,
   "id": "300c90c1",
   "metadata": {},
   "outputs": [],
   "source": [
    "print(X_count.toarray()[:5])  ## model 1-gramowy"
   ]
  },
  {
   "cell_type": "markdown",
   "id": "948ed38e",
   "metadata": {},
   "source": [
    "# Zadanie 17_2"
   ]
  },
  {
   "cell_type": "markdown",
   "id": "a4e802fd",
   "metadata": {},
   "source": [
    "##### Podział danych i nauka modelu"
   ]
  },
  {
   "cell_type": "code",
   "execution_count": null,
   "id": "5165cfab",
   "metadata": {},
   "outputs": [],
   "source": [
    "X_train, X_test, y_train, y_test = train_test_split(X, y, random_state = 42, test_size=0.2, stratify=y)"
   ]
  },
  {
   "cell_type": "code",
   "execution_count": null,
   "id": "c679e03f",
   "metadata": {},
   "outputs": [],
   "source": [
    "clf = RandomForestClassifier(max_depth=2, random_state=0)\n",
    "clf.fit(X_train, y_train)\n",
    "clf.score(X_test, y_test)"
   ]
  },
  {
   "cell_type": "code",
   "execution_count": null,
   "id": "ea76133a",
   "metadata": {},
   "outputs": [],
   "source": [
    "f_imp = clf.feature_importances_\n",
    "important = []\n",
    "\n",
    "for x in f_imp:\n",
    "    if x > 0.001:\n",
    "        important.append(x)"
   ]
  },
  {
   "cell_type": "code",
   "execution_count": null,
   "id": "ee5dda4c",
   "metadata": {},
   "outputs": [],
   "source": [
    "metrics_dataframe = pd.DataFrame(columns = ['Model', 'F1_score', 'AUC'])\n",
    "metrics_dataframe\n",
    "models = []\n",
    "models_names = []\n",
    "predictions_proba_list = []\n",
    "def calculate_metrics(model, name, X_checked, y_checked):\n",
    "    models.append(model)\n",
    "    models_names.append(name)\n",
    "    global metrics_dataframe\n",
    "    predictions = model.predict(X_checked)\n",
    "    predictions_proba = model.predict_proba(X_checked)\n",
    "    predictions_proba_list.append(predictions_proba[:,1])\n",
    "\n",
    "    ############## metryki dla sprawdzanego modelu ################\n",
    "    # Precision, Recall, F1, Accuracy\n",
    "    print(classification_report(y_checked, predictions))\n",
    "\n",
    "    # Confusion matrix\n",
    "    plt.figure()\n",
    "    cm = confusion_matrix(y_checked, predictions)\n",
    "    ax = sns.heatmap(cm, annot=True, cmap='Blues', fmt='.0f')\n",
    "    ax.set_title('Confusion Matrix\\n\\n')\n",
    "    ax.set_xlabel('\\nPredicted Values')\n",
    "    ax.set_ylabel('Actual Values ')\n",
    "    plt.show()\n",
    "\n",
    "    f1_metric = f1_score(y_checked, predictions, average='macro')\n",
    "    #auc_metric = roc_auc_score(y_checked, predictions_proba, average='macro', multi_class='ovo')\n",
    "    metrics_dataframe = pd.concat([metrics_dataframe, pd.DataFrame({'Model': [name], 'F1_score': [f1_metric]})], ignore_index=True)\n",
    "\n",
    "    return metrics_dataframe"
   ]
  },
  {
   "cell_type": "code",
   "execution_count": null,
   "id": "bdd75290",
   "metadata": {},
   "outputs": [],
   "source": [
    "X = spam_dataset['Lemmatized_Text'].apply(lambda x: ' '.join(x))\n",
    "y = spam_dataset['Spam']"
   ]
  },
  {
   "cell_type": "code",
   "execution_count": null,
   "id": "0fa2b0a5",
   "metadata": {},
   "outputs": [],
   "source": [
    "X_train, X_test, y_train, y_test = train_test_split(X, y, random_state = 42, test_size=0.2, stratify=y)"
   ]
  },
  {
   "cell_type": "code",
   "execution_count": null,
   "id": "c4707801",
   "metadata": {},
   "outputs": [],
   "source": [
    "forest_v1= Pipeline(steps=[('TF-IDF', TfidfVectorizer(analyzer='word', lowercase=False)),\n",
    "                           ('MODEL', RandomForestClassifier())])"
   ]
  },
  {
   "cell_type": "code",
   "execution_count": null,
   "id": "b6499c43",
   "metadata": {
    "scrolled": true
   },
   "outputs": [],
   "source": [
    "list(forest_v1.get_params().keys())"
   ]
  },
  {
   "cell_type": "code",
   "execution_count": null,
   "id": "e60479cc",
   "metadata": {},
   "outputs": [],
   "source": [
    "import warnings\n",
    "warnings.filterwarnings('ignore')\n",
    "\n",
    "params = {\n",
    "    'TF-IDF__max_df': [0.5, 0.7, 0.9],\n",
    "    'TF-IDF__min_df': [0.0001, 0.001, 0.002],\n",
    "    'TF-IDF__ngram_range': [(1,1), (2,2)],\n",
    "    'MODEL__max_depth': [3, 5, 7],\n",
    "    'MODEL__n_jobs': [-1, 200, 500, 1000],\n",
    "    'MODEL__min_samples_leaf': [0.1, 1.0, 10],\n",
    "    'MODEL__random_state': [0, 42]\n",
    "}\n",
    "\n",
    "grid_search = GridSearchCV(forest_v1, params, cv=5, n_jobs=-1, verbose=10, scoring='f1_macro')\n",
    "# dodałem wyjątek aby zlikwidować warning\n",
    "try:\n",
    "    grid_search.fit(X_train, y_train)\n",
    "except Exception as e:\n",
    "    print(\"Błąd podczas grid search:\", e)\n",
    "print('Wybrane hiperparametry: ', grid_search.best_params_)\n",
    "model_v1 = grid_search.best_estimator_"
   ]
  },
  {
   "cell_type": "code",
   "execution_count": null,
   "id": "88307af1",
   "metadata": {},
   "outputs": [],
   "source": [
    "calculate_metrics(model_v1, 'Random Forest', X_test, y_test)"
   ]
  },
  {
   "cell_type": "code",
   "execution_count": null,
   "id": "335548bc",
   "metadata": {},
   "outputs": [],
   "source": []
  }
 ],
 "metadata": {
  "kernelspec": {
   "display_name": "Python 3 (ipykernel)",
   "language": "python",
   "name": "python3"
  },
  "language_info": {
   "codemirror_mode": {
    "name": "ipython",
    "version": 3
   },
   "file_extension": ".py",
   "mimetype": "text/x-python",
   "name": "python",
   "nbconvert_exporter": "python",
   "pygments_lexer": "ipython3",
   "version": "3.11.0"
  }
 },
 "nbformat": 4,
 "nbformat_minor": 5
}
