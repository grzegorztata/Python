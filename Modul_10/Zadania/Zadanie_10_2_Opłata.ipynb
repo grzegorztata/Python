{
 "cells": [
  {
   "cell_type": "code",
   "execution_count": 1,
   "id": "6d81a34b",
   "metadata": {},
   "outputs": [],
   "source": [
    "import numpy as np\n",
    "import pandas as pd\n",
    "import matplotlib.pyplot as plt\n",
    "import seaborn as sns\n",
    "from scipy import stats"
   ]
  },
  {
   "cell_type": "code",
   "execution_count": 16,
   "id": "c68b8f97",
   "metadata": {},
   "outputs": [
    {
     "data": {
      "text/html": [
       "<div>\n",
       "<style scoped>\n",
       "    .dataframe tbody tr th:only-of-type {\n",
       "        vertical-align: middle;\n",
       "    }\n",
       "\n",
       "    .dataframe tbody tr th {\n",
       "        vertical-align: top;\n",
       "    }\n",
       "\n",
       "    .dataframe thead th {\n",
       "        text-align: right;\n",
       "    }\n",
       "</style>\n",
       "<table border=\"1\" class=\"dataframe\">\n",
       "  <thead>\n",
       "    <tr style=\"text-align: right;\">\n",
       "      <th></th>\n",
       "      <th>PassengerId</th>\n",
       "      <th>Survived</th>\n",
       "      <th>Pclass</th>\n",
       "      <th>Name</th>\n",
       "      <th>Sex</th>\n",
       "      <th>Age</th>\n",
       "      <th>SibSp</th>\n",
       "      <th>Parch</th>\n",
       "      <th>Ticket</th>\n",
       "      <th>Fare</th>\n",
       "      <th>Cabin</th>\n",
       "      <th>Embarked</th>\n",
       "    </tr>\n",
       "  </thead>\n",
       "  <tbody>\n",
       "    <tr>\n",
       "      <th>0</th>\n",
       "      <td>1</td>\n",
       "      <td>0</td>\n",
       "      <td>3</td>\n",
       "      <td>Braund, Mr. Owen Harris</td>\n",
       "      <td>male</td>\n",
       "      <td>22.0</td>\n",
       "      <td>1</td>\n",
       "      <td>0</td>\n",
       "      <td>A/5 21171</td>\n",
       "      <td>7.2500</td>\n",
       "      <td>NaN</td>\n",
       "      <td>S</td>\n",
       "    </tr>\n",
       "    <tr>\n",
       "      <th>1</th>\n",
       "      <td>2</td>\n",
       "      <td>1</td>\n",
       "      <td>1</td>\n",
       "      <td>Cumings, Mrs. John Bradley (Florence Briggs Th...</td>\n",
       "      <td>female</td>\n",
       "      <td>38.0</td>\n",
       "      <td>1</td>\n",
       "      <td>0</td>\n",
       "      <td>PC 17599</td>\n",
       "      <td>71.2833</td>\n",
       "      <td>C85</td>\n",
       "      <td>C</td>\n",
       "    </tr>\n",
       "    <tr>\n",
       "      <th>2</th>\n",
       "      <td>3</td>\n",
       "      <td>1</td>\n",
       "      <td>3</td>\n",
       "      <td>Heikkinen, Miss. Laina</td>\n",
       "      <td>female</td>\n",
       "      <td>26.0</td>\n",
       "      <td>0</td>\n",
       "      <td>0</td>\n",
       "      <td>STON/O2. 3101282</td>\n",
       "      <td>7.9250</td>\n",
       "      <td>NaN</td>\n",
       "      <td>S</td>\n",
       "    </tr>\n",
       "    <tr>\n",
       "      <th>3</th>\n",
       "      <td>4</td>\n",
       "      <td>1</td>\n",
       "      <td>1</td>\n",
       "      <td>Futrelle, Mrs. Jacques Heath (Lily May Peel)</td>\n",
       "      <td>female</td>\n",
       "      <td>35.0</td>\n",
       "      <td>1</td>\n",
       "      <td>0</td>\n",
       "      <td>113803</td>\n",
       "      <td>53.1000</td>\n",
       "      <td>C123</td>\n",
       "      <td>S</td>\n",
       "    </tr>\n",
       "    <tr>\n",
       "      <th>4</th>\n",
       "      <td>5</td>\n",
       "      <td>0</td>\n",
       "      <td>3</td>\n",
       "      <td>Allen, Mr. William Henry</td>\n",
       "      <td>male</td>\n",
       "      <td>35.0</td>\n",
       "      <td>0</td>\n",
       "      <td>0</td>\n",
       "      <td>373450</td>\n",
       "      <td>8.0500</td>\n",
       "      <td>NaN</td>\n",
       "      <td>S</td>\n",
       "    </tr>\n",
       "  </tbody>\n",
       "</table>\n",
       "</div>"
      ],
      "text/plain": [
       "   PassengerId  Survived  Pclass  \\\n",
       "0            1         0       3   \n",
       "1            2         1       1   \n",
       "2            3         1       3   \n",
       "3            4         1       1   \n",
       "4            5         0       3   \n",
       "\n",
       "                                                Name     Sex   Age  SibSp  \\\n",
       "0                            Braund, Mr. Owen Harris    male  22.0      1   \n",
       "1  Cumings, Mrs. John Bradley (Florence Briggs Th...  female  38.0      1   \n",
       "2                             Heikkinen, Miss. Laina  female  26.0      0   \n",
       "3       Futrelle, Mrs. Jacques Heath (Lily May Peel)  female  35.0      1   \n",
       "4                           Allen, Mr. William Henry    male  35.0      0   \n",
       "\n",
       "   Parch            Ticket     Fare Cabin Embarked  \n",
       "0      0         A/5 21171   7.2500   NaN        S  \n",
       "1      0          PC 17599  71.2833   C85        C  \n",
       "2      0  STON/O2. 3101282   7.9250   NaN        S  \n",
       "3      0            113803  53.1000  C123        S  \n",
       "4      0            373450   8.0500   NaN        S  "
      ]
     },
     "execution_count": 16,
     "metadata": {},
     "output_type": "execute_result"
    }
   ],
   "source": [
    "from sklearn.preprocessing import StandardScaler, MinMaxScaler\n",
    "dataset = pd.read_csv('../Files/titanic.csv')\n",
    "dataset.head()"
   ]
  },
  {
   "cell_type": "markdown",
   "id": "7b16ac3e",
   "metadata": {},
   "source": [
    "# Histogram"
   ]
  },
  {
   "cell_type": "code",
   "execution_count": 38,
   "id": "38d7d98f",
   "metadata": {},
   "outputs": [
    {
     "data": {
      "text/plain": [
       "(876,)"
      ]
     },
     "execution_count": 38,
     "metadata": {},
     "output_type": "execute_result"
    }
   ],
   "source": [
    "fare_values = dataset.loc[(dataset['Fare'].notnull()) & (dataset['Fare'] != 0.0), 'Fare'].values  # Usuwam również wartość 0.0. Mogła to być np. załoga statku\n",
    "fare_values.shape"
   ]
  },
  {
   "cell_type": "code",
   "execution_count": 31,
   "id": "c7459c54",
   "metadata": {},
   "outputs": [
    {
     "data": {
      "image/png": "[encoded data removed]",
      "text/plain": [
       "<Figure size 640x480 with 1 Axes>"
      ]
     },
     "metadata": {},
     "output_type": "display_data"
    }
   ],
   "source": [
    "plt.hist(fare_values, bins=20)\n",
    "plt.show()"
   ]
  },
  {
   "cell_type": "markdown",
   "id": "1cf380b5",
   "metadata": {},
   "source": [
    "###### Zdecydowana większość osób miała wykupione bilety w najniższej cenie. Tylko kilka osób zdecydowało się na bilet w cenie ok. 500"
   ]
  },
  {
   "cell_type": "markdown",
   "id": "b1009d1a",
   "metadata": {},
   "source": [
    "# Średnia"
   ]
  },
  {
   "cell_type": "code",
   "execution_count": 32,
   "id": "9a745a2f",
   "metadata": {},
   "outputs": [
    {
     "data": {
      "text/plain": [
       "33.0"
      ]
     },
     "execution_count": 32,
     "metadata": {},
     "output_type": "execute_result"
    }
   ],
   "source": [
    "mean_fare = np.round(np.mean(fare_values))\n",
    "mean_fare"
   ]
  },
  {
   "cell_type": "code",
   "execution_count": 33,
   "id": "4df4bc7d",
   "metadata": {},
   "outputs": [
    {
     "data": {
      "image/png": "[encoded data removed]",
      "text/plain": [
       "<Figure size 640x480 with 1 Axes>"
      ]
     },
     "metadata": {},
     "output_type": "display_data"
    }
   ],
   "source": [
    "plt.hist(fare_values, bins=20)\n",
    "plt.axvline(x=mean_fare,color='red',label='Średnia')\n",
    "plt.legend(loc='upper right')\n",
    "plt.show()"
   ]
  },
  {
   "cell_type": "markdown",
   "id": "465edf6f",
   "metadata": {},
   "source": [
    "### Średnia cena biletu wynosiła 33"
   ]
  },
  {
   "cell_type": "markdown",
   "id": "9bc5ee83",
   "metadata": {},
   "source": [
    "# Mediana"
   ]
  },
  {
   "cell_type": "code",
   "execution_count": 34,
   "id": "102cd418",
   "metadata": {},
   "outputs": [
    {
     "data": {
      "text/plain": [
       "14.5"
      ]
     },
     "execution_count": 34,
     "metadata": {},
     "output_type": "execute_result"
    }
   ],
   "source": [
    "median_fare = np.median(fare_values).round(2)\n",
    "median_fare"
   ]
  },
  {
   "cell_type": "code",
   "execution_count": 26,
   "id": "61607c9e",
   "metadata": {},
   "outputs": [
    {
     "data": {
      "image/png": "[encoded data removed]",
      "text/plain": [
       "<Figure size 640x480 with 1 Axes>"
      ]
     },
     "metadata": {},
     "output_type": "display_data"
    }
   ],
   "source": [
    "plt.hist(fare_values, bins=20)\n",
    "plt.axvline(x=mean_fare,color='red',label='Średnia')\n",
    "plt.axvline(x=median_fare,color='green',label='Mediana')\n",
    "plt.legend(loc='upper right')\n",
    "plt.show()"
   ]
  },
  {
   "cell_type": "markdown",
   "id": "3f08ec29",
   "metadata": {},
   "source": [
    "###### Mediana dla kolumny 'Fare' wynosi 14.50, czyli połowa pasażerów zapłaciła mniej a druga więcej niż 14.50 opłaty za bilet"
   ]
  },
  {
   "cell_type": "markdown",
   "id": "4c0489f0",
   "metadata": {},
   "source": [
    "# Moda"
   ]
  },
  {
   "cell_type": "code",
   "execution_count": 35,
   "id": "935d8fa5",
   "metadata": {},
   "outputs": [
    {
     "data": {
      "text/plain": [
       "ModeResult(mode=array([8.05]), count=array([43]))"
      ]
     },
     "execution_count": 35,
     "metadata": {},
     "output_type": "execute_result"
    }
   ],
   "source": [
    "moda_fare = stats.mode(fare_values, keepdims=True)\n",
    "moda_fare"
   ]
  },
  {
   "cell_type": "code",
   "execution_count": 36,
   "id": "30c0258d",
   "metadata": {},
   "outputs": [
    {
     "data": {
      "image/png": "[encoded data removed]",
      "text/plain": [
       "<Figure size 640x480 with 1 Axes>"
      ]
     },
     "metadata": {},
     "output_type": "display_data"
    }
   ],
   "source": [
    "plt.hist(fare_values, bins=20)\n",
    "plt.axvline(x=mean_fare,color='red',label='Średnia')\n",
    "plt.axvline(x=median_fare,color='green',label='Mediana')\n",
    "plt.axvline(x=moda_fare[0],color='orange',label='Moda')\n",
    "plt.legend(loc='upper right')\n",
    "plt.show()"
   ]
  },
  {
   "cell_type": "markdown",
   "id": "325ed0cd",
   "metadata": {},
   "source": [
    "###### Najwięcej biletów zostało sprzedanych w cenie 8.05 i były 43 takie bilety"
   ]
  },
  {
   "cell_type": "code",
   "execution_count": 37,
   "id": "16695c23",
   "metadata": {},
   "outputs": [
    {
     "name": "stdout",
     "output_type": "stream",
     "text": [
      "Q0: 4.01\n",
      "Q1: 7.92\n",
      "Q2: 14.5\n",
      "Q3: 31.28\n",
      "Q4: 512.33\n"
     ]
    }
   ],
   "source": [
    "q0 = np.quantile(fare_values, 0.0).round(2)\n",
    "q1 = np.quantile(fare_values, 0.25).round(2)\n",
    "q3 = np.quantile(fare_values, 0.75).round(2)\n",
    "q4 = np.quantile(fare_values, 1.0).round(2)\n",
    "print(f'Q0: {q0}')\n",
    "print(f'Q1: {q1}')\n",
    "print(f'Q2: {median_fare}')\n",
    "print(f'Q3: {q3}')\n",
    "print(f'Q4: {q4}')"
   ]
  },
  {
   "cell_type": "code",
   "execution_count": 12,
   "id": "7f50a982",
   "metadata": {},
   "outputs": [
    {
     "data": {
      "image/png": "[encoded data removed]",
      "text/plain": [
       "<Figure size 640x480 with 1 Axes>"
      ]
     },
     "metadata": {},
     "output_type": "display_data"
    }
   ],
   "source": [
    "plt.hist(fare_values, bins=20)\n",
    "plt.axvline(x=mean_fare,color='red',label='Średnia')\n",
    "plt.axvline(x=median_fare,color='green',label='Mediana')\n",
    "plt.axvline(x=moda_fare[0],color='orange',label='Moda')\n",
    "plt.axvline(x = q0, color='black', label = 'Min')\n",
    "plt.axvline(x = q1, color='black', label = 'Q1')\n",
    "plt.axvline(x = q3, color='black', label = 'Q3')\n",
    "plt.axvline(x = q4, color='black', label = 'Max')\n",
    "plt.legend(loc='upper right')\n",
    "plt.show()"
   ]
  },
  {
   "cell_type": "markdown",
   "id": "b5d2ae16",
   "metadata": {},
   "source": [
    "###### Najtańszym biletem był bilet za 4.01, najdroższym natomiast bilet za 512.33. 25% pasażerów zakupiło bilety w cenie do 7.92. 25% pasażerów zapłaciło więcej niż 31.28"
   ]
  },
  {
   "cell_type": "markdown",
   "id": "8e97c5f0",
   "metadata": {},
   "source": [
    "# Zakres"
   ]
  },
  {
   "cell_type": "code",
   "execution_count": 40,
   "id": "54d82eea",
   "metadata": {},
   "outputs": [
    {
     "data": {
      "text/plain": [
       "508.32"
      ]
     },
     "execution_count": 40,
     "metadata": {},
     "output_type": "execute_result"
    }
   ],
   "source": [
    "range_fare = max(fare_values) - min(fare_values)\n",
    "range_fare.round(2)"
   ]
  },
  {
   "cell_type": "markdown",
   "id": "86c240e2",
   "metadata": {},
   "source": [
    "###### Różnica w cenie najdroższego i najtańszego biletu wynosi 508.32"
   ]
  },
  {
   "cell_type": "markdown",
   "id": "396b7c2c",
   "metadata": {},
   "source": [
    "# Rozstęp międzykwartylowy - IQR"
   ]
  },
  {
   "cell_type": "code",
   "execution_count": 42,
   "id": "3c3d3191",
   "metadata": {},
   "outputs": [
    {
     "data": {
      "text/plain": [
       "23.36"
      ]
     },
     "execution_count": 42,
     "metadata": {},
     "output_type": "execute_result"
    }
   ],
   "source": [
    "iqr = q3 - q1\n",
    "iqr"
   ]
  },
  {
   "cell_type": "code",
   "execution_count": 44,
   "id": "4cb3155e",
   "metadata": {},
   "outputs": [
    {
     "data": {
      "image/png": "[encoded data removed]",
      "text/plain": [
       "<Figure size 640x480 with 1 Axes>"
      ]
     },
     "metadata": {},
     "output_type": "display_data"
    }
   ],
   "source": [
    "plt.boxplot(fare_values)\n",
    "plt.show()"
   ]
  },
  {
   "cell_type": "markdown",
   "id": "032b5ee7",
   "metadata": {},
   "source": [
    "###### Różnica w cenie między kwartylem 3 i kwartylem 1 wynosi 23.36"
   ]
  },
  {
   "cell_type": "markdown",
   "id": "82a0b73c",
   "metadata": {},
   "source": [
    "# Wariancja"
   ]
  },
  {
   "cell_type": "code",
   "execution_count": 46,
   "id": "38ad88b0",
   "metadata": {},
   "outputs": [
    {
     "data": {
      "text/plain": [
       "2493.69"
      ]
     },
     "execution_count": 46,
     "metadata": {},
     "output_type": "execute_result"
    }
   ],
   "source": [
    "variance_fare = np.var(fare_values, ddof=1).round(2)\n",
    "variance_fare"
   ]
  },
  {
   "cell_type": "markdown",
   "id": "79010762",
   "metadata": {},
   "source": [
    "###### Wariancja wynosi 2493.69, czyli suma każdej liczby w zbiorze oddalonej od średniej wynosi 2496.69"
   ]
  },
  {
   "cell_type": "markdown",
   "id": "658d14f5",
   "metadata": {},
   "source": [
    "# Odchylenie Standardowe"
   ]
  },
  {
   "cell_type": "code",
   "execution_count": 48,
   "id": "c46bfae9",
   "metadata": {},
   "outputs": [
    {
     "name": "stdout",
     "output_type": "stream",
     "text": [
      "49.93686013357268\n"
     ]
    }
   ],
   "source": [
    "print(variance_fare**(1/2)) # 1 sposób"
   ]
  },
  {
   "cell_type": "code",
   "execution_count": 49,
   "id": "9c8ed2da",
   "metadata": {},
   "outputs": [
    {
     "data": {
      "text/plain": [
       "49.93682576210329"
      ]
     },
     "execution_count": 49,
     "metadata": {},
     "output_type": "execute_result"
    }
   ],
   "source": [
    "standard_deviation_fare = np.std(fare_values, ddof=1)  # 2 sposób\n",
    "standard_deviation_fare"
   ]
  },
  {
   "cell_type": "markdown",
   "id": "960bc3b4",
   "metadata": {},
   "source": [
    "###### Odchylenie standardowe wynosi 49.94. Wartość ta pokazuje jak bardzo wartości w próbce różnią się od średniej"
   ]
  },
  {
   "cell_type": "markdown",
   "id": "8262948a",
   "metadata": {},
   "source": [
    "# Skalowanie Zmiennej - StandardScaller"
   ]
  },
  {
   "cell_type": "code",
   "execution_count": 50,
   "id": "4a3a8377",
   "metadata": {},
   "outputs": [
    {
     "data": {
      "image/png": "[encoded data removed]",
      "text/plain": [
       "<Figure size 640x480 with 1 Axes>"
      ]
     },
     "metadata": {},
     "output_type": "display_data"
    },
    {
     "name": "stdout",
     "output_type": "stream",
     "text": [
      "Średnia: 4.461170144612501e-17\n",
      "Odchylenie standardowe: 1.0005712653993504\n"
     ]
    }
   ],
   "source": [
    "scaler_standardized = StandardScaler()\n",
    "standardized_fare_values = scaler_standardized.fit_transform(fare_values.reshape(-1, 1))\n",
    "plt.hist(standardized_fare_values, bins=20)\n",
    "plt.axvline(x = standardized_fare_values.mean(), color='red', label = 'Średnia')\n",
    "plt.show()\n",
    "print(f'Średnia: {standardized_fare_values.mean()}')\n",
    "print(f'Odchylenie standardowe: {np.std(standardized_fare_values, ddof=1)}')"
   ]
  },
  {
   "cell_type": "markdown",
   "id": "10e4deb0",
   "metadata": {},
   "source": [
    "# Skalowanie zmiennej - MinMax Scaller"
   ]
  },
  {
   "cell_type": "code",
   "execution_count": 51,
   "id": "b80c7dce",
   "metadata": {},
   "outputs": [
    {
     "data": {
      "image/png": "[encoded data removed]",
      "text/plain": [
       "<Figure size 640x480 with 1 Axes>"
      ]
     },
     "metadata": {},
     "output_type": "display_data"
    },
    {
     "name": "stdout",
     "output_type": "stream",
     "text": [
      "Średnia: 0.05654575166592943\n",
      "Odchylenie standardowe: 0.09823959307672421\n"
     ]
    }
   ],
   "source": [
    "scaler_MinMax = MinMaxScaler()\n",
    "normalized_fare_values = scaler_MinMax.fit_transform(fare_values.reshape(-1, 1))\n",
    "plt.hist(normalized_fare_values, bins=20)\n",
    "plt.axvline(x = normalized_fare_values.mean(), color='red', label = 'Średnia')\n",
    "plt.show()\n",
    "print(f'Średnia: {normalized_fare_values.mean()}')\n",
    "print(f'Odchylenie standardowe: {np.std(normalized_fare_values, ddof=1)}')"
   ]
  }
 ],
 "metadata": {
  "kernelspec": {
   "display_name": "Python 3 (ipykernel)",
   "language": "python",
   "name": "python3"
  },
  "language_info": {
   "codemirror_mode": {
    "name": "ipython",
    "version": 3
   },
   "file_extension": ".py",
   "mimetype": "text/x-python",
   "name": "python",
   "nbconvert_exporter": "python",
   "pygments_lexer": "ipython3",
   "version": "3.11.0"
  }
 },
 "nbformat": 4,
 "nbformat_minor": 5
}
