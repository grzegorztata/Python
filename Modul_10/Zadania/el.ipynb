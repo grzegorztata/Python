{
 "cells": [
  {
   "cell_type": "code",
   "execution_count": 2,
   "id": "bdf5849e",
   "metadata": {},
   "outputs": [],
   "source": [
    "import numpy as np\n",
    "import pandas as pd\n",
    "import matplotlib.pyplot as plt\n",
    "import seaborn as sns\n",
    "from scipy import stats\n",
    "from sklearn.preprocessing import StandardScaler, MinMaxScaler\n",
    "from collections import Counter"
   ]
  },
  {
   "cell_type": "code",
   "execution_count": 3,
   "id": "1ab3ce33",
   "metadata": {},
   "outputs": [
    {
     "data": {
      "text/html": [
       "<div>\n",
       "<style scoped>\n",
       "    .dataframe tbody tr th:only-of-type {\n",
       "        vertical-align: middle;\n",
       "    }\n",
       "\n",
       "    .dataframe tbody tr th {\n",
       "        vertical-align: top;\n",
       "    }\n",
       "\n",
       "    .dataframe thead th {\n",
       "        text-align: right;\n",
       "    }\n",
       "</style>\n",
       "<table border=\"1\" class=\"dataframe\">\n",
       "  <thead>\n",
       "    <tr style=\"text-align: right;\">\n",
       "      <th></th>\n",
       "      <th>lp</th>\n",
       "      <th>data</th>\n",
       "      <th>n1</th>\n",
       "      <th>n2</th>\n",
       "      <th>n3</th>\n",
       "      <th>n4</th>\n",
       "      <th>n5</th>\n",
       "    </tr>\n",
       "  </thead>\n",
       "  <tbody>\n",
       "    <tr>\n",
       "      <th>0</th>\n",
       "      <td>6107.0</td>\n",
       "      <td>26.05.2023</td>\n",
       "      <td>7</td>\n",
       "      <td>16</td>\n",
       "      <td>34</td>\n",
       "      <td>38</td>\n",
       "      <td>40</td>\n",
       "    </tr>\n",
       "    <tr>\n",
       "      <th>1</th>\n",
       "      <td>6108.0</td>\n",
       "      <td>27.05.2023</td>\n",
       "      <td>4</td>\n",
       "      <td>17</td>\n",
       "      <td>19</td>\n",
       "      <td>21</td>\n",
       "      <td>25</td>\n",
       "    </tr>\n",
       "    <tr>\n",
       "      <th>2</th>\n",
       "      <td>6109.0</td>\n",
       "      <td>28.05.2023</td>\n",
       "      <td>18</td>\n",
       "      <td>26</td>\n",
       "      <td>33</td>\n",
       "      <td>34</td>\n",
       "      <td>40</td>\n",
       "    </tr>\n",
       "    <tr>\n",
       "      <th>3</th>\n",
       "      <td>6110.0</td>\n",
       "      <td>29.05.2023</td>\n",
       "      <td>11</td>\n",
       "      <td>13</td>\n",
       "      <td>36</td>\n",
       "      <td>37</td>\n",
       "      <td>40</td>\n",
       "    </tr>\n",
       "    <tr>\n",
       "      <th>4</th>\n",
       "      <td>6111.0</td>\n",
       "      <td>30.05.2023</td>\n",
       "      <td>1</td>\n",
       "      <td>6</td>\n",
       "      <td>17</td>\n",
       "      <td>18</td>\n",
       "      <td>29</td>\n",
       "    </tr>\n",
       "  </tbody>\n",
       "</table>\n",
       "</div>"
      ],
      "text/plain": [
       "       lp        data  n1  n2  n3  n4  n5\n",
       "0  6107.0  26.05.2023   7  16  34  38  40\n",
       "1  6108.0  27.05.2023   4  17  19  21  25\n",
       "2  6109.0  28.05.2023  18  26  33  34  40\n",
       "3  6110.0  29.05.2023  11  13  36  37  40\n",
       "4  6111.0  30.05.2023   1   6  17  18  29"
      ]
     },
     "execution_count": 3,
     "metadata": {},
     "output_type": "execute_result"
    }
   ],
   "source": [
    "dataset = pd.read_csv('../Files/el.csv', sep=';') # Zamienić separator na średnik\n",
    "dataset.head()"
   ]
  },
  {
   "cell_type": "code",
   "execution_count": 4,
   "id": "f93cd4ef",
   "metadata": {},
   "outputs": [],
   "source": [
    "# Utwórz listę z danymi kolumn n1, n2, n3, n4, n5 i n6\n",
    "dane = dataset[['n1', 'n2', 'n3', 'n4', 'n5']].values.tolist()"
   ]
  },
  {
   "cell_type": "code",
   "execution_count": 5,
   "id": "78d6e076",
   "metadata": {},
   "outputs": [],
   "source": [
    "wyniki = []\n",
    "for sublist in dane:\n",
    "    wyniki.extend(sublist)"
   ]
  },
  {
   "cell_type": "code",
   "execution_count": 6,
   "id": "8034c618",
   "metadata": {},
   "outputs": [],
   "source": [
    "liczby_wystapienia = dict(Counter(wyniki))"
   ]
  },
  {
   "cell_type": "markdown",
   "id": "7fe7bd73",
   "metadata": {},
   "source": [
    "# Wyliczenia"
   ]
  },
  {
   "cell_type": "code",
   "execution_count": 1,
   "id": "5c8650bc",
   "metadata": {},
   "outputs": [
    {
     "ename": "NameError",
     "evalue": "name 'liczby_wystapienia' is not defined",
     "output_type": "error",
     "traceback": [
      "\u001b[1;31m---------------------------------------------------------------------------\u001b[0m",
      "\u001b[1;31mNameError\u001b[0m                                 Traceback (most recent call last)",
      "Cell \u001b[1;32mIn[1], line 12\u001b[0m\n\u001b[0;32m      2\u001b[0m przedzialy \u001b[38;5;241m=\u001b[39m {\n\u001b[0;32m      3\u001b[0m     \u001b[38;5;124m'\u001b[39m\u001b[38;5;124m1-7\u001b[39m\u001b[38;5;124m'\u001b[39m: \u001b[38;5;241m0\u001b[39m,\n\u001b[0;32m      4\u001b[0m     \u001b[38;5;124m'\u001b[39m\u001b[38;5;124m8-14\u001b[39m\u001b[38;5;124m'\u001b[39m: \u001b[38;5;241m0\u001b[39m,\n\u001b[1;32m   (...)\u001b[0m\n\u001b[0;32m      8\u001b[0m     \u001b[38;5;124m'\u001b[39m\u001b[38;5;124m37-42\u001b[39m\u001b[38;5;124m'\u001b[39m: \u001b[38;5;241m0\u001b[39m\n\u001b[0;32m      9\u001b[0m }\n\u001b[0;32m     11\u001b[0m \u001b[38;5;66;03m# Przypisywanie wartości wystąpień do odpowiednich przedziałów\u001b[39;00m\n\u001b[1;32m---> 12\u001b[0m \u001b[38;5;28;01mfor\u001b[39;00m liczba, wystapienia \u001b[38;5;129;01min\u001b[39;00m \u001b[43mliczby_wystapienia\u001b[49m\u001b[38;5;241m.\u001b[39mitems():\n\u001b[0;32m     13\u001b[0m     \u001b[38;5;28;01mif\u001b[39;00m \u001b[38;5;241m1\u001b[39m \u001b[38;5;241m<\u001b[39m\u001b[38;5;241m=\u001b[39m liczba \u001b[38;5;241m<\u001b[39m\u001b[38;5;241m=\u001b[39m \u001b[38;5;241m7\u001b[39m:\n\u001b[0;32m     14\u001b[0m         przedzialy[\u001b[38;5;124m'\u001b[39m\u001b[38;5;124m1-7\u001b[39m\u001b[38;5;124m'\u001b[39m] \u001b[38;5;241m+\u001b[39m\u001b[38;5;241m=\u001b[39m wystapienia\n",
      "\u001b[1;31mNameError\u001b[0m: name 'liczby_wystapienia' is not defined"
     ]
    }
   ],
   "source": [
    "# Definiowanie przedziałów\n",
    "przedzialy = {\n",
    "    '1-7': 0,\n",
    "    '8-14': 0,\n",
    "    '15-21': 0,\n",
    "    '22-28': 0,\n",
    "    '29-36': 0,\n",
    "    '37-42': 0\n",
    "}\n",
    "\n",
    "# Przypisywanie wartości wystąpień do odpowiednich przedziałów\n",
    "for liczba, wystapienia in liczby_wystapienia.items():\n",
    "    if 1 <= liczba <= 7:\n",
    "        przedzialy['1-7'] += wystapienia\n",
    "    elif 8 <= liczba <= 14:\n",
    "        przedzialy['8-14'] += wystapienia\n",
    "    elif 15 <= liczba <= 21:\n",
    "        przedzialy['15-21'] += wystapienia\n",
    "    elif 22 <= liczba <= 28:\n",
    "        przedzialy['22-28'] += wystapienia\n",
    "    elif 29 <= liczba <= 36:\n",
    "        przedzialy['29-36'] += wystapienia\n",
    "    elif 37 <= liczba <= 42:\n",
    "        przedzialy['37-42'] += wystapienia\n",
    "\n",
    "# Wypisz wyniki\n",
    "for przedzial, liczba_wystapien in przedzialy.items():\n",
    "    print(f\"Przedział {przedzial}: {liczba_wystapien} wystąpień.\")"
   ]
  },
  {
   "cell_type": "code",
   "execution_count": 2,
   "id": "a3bd5fd1",
   "metadata": {},
   "outputs": [
    {
     "name": "stdout",
     "output_type": "stream",
     "text": [
      "Przedział 1-7: 0 wystąpień.\n"
     ]
    },
    {
     "ename": "NameError",
     "evalue": "name 'dane' is not defined",
     "output_type": "error",
     "traceback": [
      "\u001b[1;31m---------------------------------------------------------------------------\u001b[0m",
      "\u001b[1;31mNameError\u001b[0m                                 Traceback (most recent call last)",
      "Cell \u001b[1;32mIn[2], line 10\u001b[0m\n\u001b[0;32m      8\u001b[0m \u001b[38;5;66;03m# Tworzenie słownika wartości wystąpień dla danego przedziału\u001b[39;00m\n\u001b[0;32m      9\u001b[0m     wartosci_wystapien \u001b[38;5;241m=\u001b[39m {}\n\u001b[1;32m---> 10\u001b[0m     \u001b[38;5;28;01mfor\u001b[39;00m sublist \u001b[38;5;129;01min\u001b[39;00m \u001b[43mdane\u001b[49m:\n\u001b[0;32m     11\u001b[0m         \u001b[38;5;28;01mfor\u001b[39;00m liczba \u001b[38;5;129;01min\u001b[39;00m sublist:\n\u001b[0;32m     12\u001b[0m             \u001b[38;5;28;01mif\u001b[39;00m liczba \u001b[38;5;241m>\u001b[39m\u001b[38;5;241m=\u001b[39m \u001b[38;5;28mint\u001b[39m(przedzial\u001b[38;5;241m.\u001b[39msplit(\u001b[38;5;124m'\u001b[39m\u001b[38;5;124m-\u001b[39m\u001b[38;5;124m'\u001b[39m)[\u001b[38;5;241m0\u001b[39m]) \u001b[38;5;129;01mand\u001b[39;00m liczba \u001b[38;5;241m<\u001b[39m\u001b[38;5;241m=\u001b[39m \u001b[38;5;28mint\u001b[39m(przedzial\u001b[38;5;241m.\u001b[39msplit(\u001b[38;5;124m'\u001b[39m\u001b[38;5;124m-\u001b[39m\u001b[38;5;124m'\u001b[39m)[\u001b[38;5;241m1\u001b[39m]):\n",
      "\u001b[1;31mNameError\u001b[0m: name 'dane' is not defined"
     ]
    }
   ],
   "source": [
    "# Sortowanie przedziałów malejąco według liczby wystąpień\n",
    "posortowane_przedzialy = sorted(przedzialy.items(), key=lambda x: x[1], reverse=True)\n",
    "\n",
    "# Wyświetlanie 2 wartości, które wystąpiły najczęściej w każdym przedziale\n",
    "for przedzial, liczba_wystapien in posortowane_przedzialy:\n",
    "    print(f\"Przedział {przedzial}: {liczba_wystapien} wystąpień.\")\n",
    "    \n",
    "# Tworzenie słownika wartości wystąpień dla danego przedziału\n",
    "    wartosci_wystapien = {}\n",
    "    for sublist in dane:\n",
    "        for liczba in sublist:\n",
    "            if liczba >= int(przedzial.split('-')[0]) and liczba <= int(przedzial.split('-')[1]):\n",
    "                if liczba in wartosci_wystapien:\n",
    "                    wartosci_wystapien[liczba] += 1\n",
    "                else:\n",
    "                    wartosci_wystapien[liczba] = 1\n",
    "    \n",
    "# Sortowanie wartości wystąpień malejąco\n",
    "    posortowane_wartosci = sorted(wartosci_wystapien.items(), key=lambda x: x[1], reverse=True)\n",
    "    \n",
    "# Wyświetlanie dwóch wartości wystąpień najczęściej występujących\n",
    "    for wartosc, wystapienia in posortowane_wartosci[:2]:\n",
    "        print(f\" - Wartość: {wartosc}, wystąpienia: {wystapienia}\")"
   ]
  },
  {
   "cell_type": "code",
   "execution_count": null,
   "id": "eb2483f2",
   "metadata": {},
   "outputs": [],
   "source": []
  }
 ],
 "metadata": {
  "kernelspec": {
   "display_name": "Python 3 (ipykernel)",
   "language": "python",
   "name": "python3"
  },
  "language_info": {
   "codemirror_mode": {
    "name": "ipython",
    "version": 3
   },
   "file_extension": ".py",
   "mimetype": "text/x-python",
   "name": "python",
   "nbconvert_exporter": "python",
   "pygments_lexer": "ipython3",
   "version": "3.11.5"
  }
 },
 "nbformat": 4,
 "nbformat_minor": 5
}
