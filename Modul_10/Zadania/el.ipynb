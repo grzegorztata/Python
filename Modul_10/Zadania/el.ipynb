{
 "cells": [
  {
   "cell_type": "code",
   "execution_count": 2,
   "id": "bdf5849e",
   "metadata": {},
   "outputs": [],
   "source": [
    "import numpy as np\n",
    "import pandas as pd\n",
    "import matplotlib.pyplot as plt\n",
    "import seaborn as sns\n",
    "from scipy import stats\n",
    "from sklearn.preprocessing import StandardScaler, MinMaxScaler\n",
    "from collections import Counter"
   ]
  },
  {
   "cell_type": "code",
   "execution_count": 3,
   "id": "1ab3ce33",
   "metadata": {},
   "outputs": [
    {
     "data": {
      "text/html": [
       "<div>\n",
       "<style scoped>\n",
       "    .dataframe tbody tr th:only-of-type {\n",
       "        vertical-align: middle;\n",
       "    }\n",
       "\n",
       "    .dataframe tbody tr th {\n",
       "        vertical-align: top;\n",
       "    }\n",
       "\n",
       "    .dataframe thead th {\n",
       "        text-align: right;\n",
       "    }\n",
       "</style>\n",
       "<table border=\"1\" class=\"dataframe\">\n",
       "  <thead>\n",
       "    <tr style=\"text-align: right;\">\n",
       "      <th></th>\n",
       "      <th>lp</th>\n",
       "      <th>data</th>\n",
       "      <th>n1</th>\n",
       "      <th>n2</th>\n",
       "      <th>n3</th>\n",
       "      <th>n4</th>\n",
       "      <th>n5</th>\n",
       "    </tr>\n",
       "  </thead>\n",
       "  <tbody>\n",
       "    <tr>\n",
       "      <th>0</th>\n",
       "      <td>6107.0</td>\n",
       "      <td>26.05.2023</td>\n",
       "      <td>7</td>\n",
       "      <td>16</td>\n",
       "      <td>34</td>\n",
       "      <td>38</td>\n",
       "      <td>40</td>\n",
       "    </tr>\n",
       "    <tr>\n",
       "      <th>1</th>\n",
       "      <td>6108.0</td>\n",
       "      <td>27.05.2023</td>\n",
       "      <td>4</td>\n",
       "      <td>17</td>\n",
       "      <td>19</td>\n",
       "      <td>21</td>\n",
       "      <td>25</td>\n",
       "    </tr>\n",
       "    <tr>\n",
       "      <th>2</th>\n",
       "      <td>6109.0</td>\n",
       "      <td>28.05.2023</td>\n",
       "      <td>18</td>\n",
       "      <td>26</td>\n",
       "      <td>33</td>\n",
       "      <td>34</td>\n",
       "      <td>40</td>\n",
       "    </tr>\n",
       "    <tr>\n",
       "      <th>3</th>\n",
       "      <td>6110.0</td>\n",
       "      <td>29.05.2023</td>\n",
       "      <td>11</td>\n",
       "      <td>13</td>\n",
       "      <td>36</td>\n",
       "      <td>37</td>\n",
       "      <td>40</td>\n",
       "    </tr>\n",
       "    <tr>\n",
       "      <th>4</th>\n",
       "      <td>6111.0</td>\n",
       "      <td>30.05.2023</td>\n",
       "      <td>1</td>\n",
       "      <td>6</td>\n",
       "      <td>17</td>\n",
       "      <td>18</td>\n",
       "      <td>29</td>\n",
       "    </tr>\n",
       "  </tbody>\n",
       "</table>\n",
       "</div>"
      ],
      "text/plain": [
       "       lp        data  n1  n2  n3  n4  n5\n",
       "0  6107.0  26.05.2023   7  16  34  38  40\n",
       "1  6108.0  27.05.2023   4  17  19  21  25\n",
       "2  6109.0  28.05.2023  18  26  33  34  40\n",
       "3  6110.0  29.05.2023  11  13  36  37  40\n",
       "4  6111.0  30.05.2023   1   6  17  18  29"
      ]
     },
     "execution_count": 3,
     "metadata": {},
     "output_type": "execute_result"
    }
   ],
   "source": [
    "dataset = pd.read_csv('../Files/el.csv', sep=';') # Zamienić separator na średnik\n",
    "dataset.head()"
   ]
  },
  {
   "cell_type": "code",
   "execution_count": 4,
   "id": "f93cd4ef",
   "metadata": {},
   "outputs": [],
   "source": [
    "# Utwórz listę z danymi kolumn n1, n2, n3, n4, n5 i n6\n",
    "dane = dataset[['n1', 'n2', 'n3', 'n4', 'n5']].values.tolist()"
   ]
  },
  {
   "cell_type": "code",
   "execution_count": 5,
   "id": "78d6e076",
   "metadata": {},
   "outputs": [],
   "source": [
    "wyniki = []\n",
    "for sublist in dane:\n",
    "    wyniki.extend(sublist)"
   ]
  },
  {
   "cell_type": "code",
   "execution_count": 6,
   "id": "8034c618",
   "metadata": {},
   "outputs": [],
   "source": [
    "liczby_wystapienia = dict(Counter(wyniki))"
   ]
  },
  {
   "cell_type": "markdown",
   "id": "7fe7bd73",
   "metadata": {},
   "source": [
    "# Wyliczenia"
   ]
  },
  {
   "cell_type": "code",
   "execution_count": 7,
   "id": "5c8650bc",
   "metadata": {},
   "outputs": [
    {
     "name": "stdout",
     "output_type": "stream",
     "text": [
      "Przedział 1-7: 24 wystąpień.\n",
      "Przedział 8-14: 14 wystąpień.\n",
      "Przedział 15-21: 17 wystąpień.\n",
      "Przedział 22-28: 15 wystąpień.\n",
      "Przedział 29-36: 16 wystąpień.\n",
      "Przedział 37-42: 14 wystąpień.\n"
     ]
    }
   ],
   "source": [
    "# Definiowanie przedziałów\n",
    "przedzialy = {\n",
    "    '1-7': 0,\n",
    "    '8-14': 0,\n",
    "    '15-21': 0,\n",
    "    '22-28': 0,\n",
    "    '29-36': 0,\n",
    "    '37-42': 0\n",
    "}\n",
    "\n",
    "# Przypisywanie wartości wystąpień do odpowiednich przedziałów\n",
    "for liczba, wystapienia in liczby_wystapienia.items():\n",
    "    if 1 <= liczba <= 7:\n",
    "        przedzialy['1-7'] += wystapienia\n",
    "    elif 8 <= liczba <= 14:\n",
    "        przedzialy['8-14'] += wystapienia\n",
    "    elif 15 <= liczba <= 21:\n",
    "        przedzialy['15-21'] += wystapienia\n",
    "    elif 22 <= liczba <= 28:\n",
    "        przedzialy['22-28'] += wystapienia\n",
    "    elif 29 <= liczba <= 36:\n",
    "        przedzialy['29-36'] += wystapienia\n",
    "    elif 37 <= liczba <= 42:\n",
    "        przedzialy['37-42'] += wystapienia\n",
    "\n",
    "# Wypisz wyniki\n",
    "for przedzial, liczba_wystapien in przedzialy.items():\n",
    "    print(f\"Przedział {przedzial}: {liczba_wystapien} wystąpień.\")"
   ]
  },
  {
   "cell_type": "code",
   "execution_count": 8,
   "id": "a3bd5fd1",
   "metadata": {},
   "outputs": [
    {
     "name": "stdout",
     "output_type": "stream",
     "text": [
      "Przedział 1-7: 24 wystąpień.\n",
      " - Wartość: 7, wystąpienia: 7\n",
      " - Wartość: 1, wystąpienia: 4\n",
      "Przedział 15-21: 17 wystąpień.\n",
      " - Wartość: 16, wystąpienia: 3\n",
      " - Wartość: 17, wystąpienia: 3\n",
      "Przedział 29-36: 16 wystąpień.\n",
      " - Wartość: 34, wystąpienia: 3\n",
      " - Wartość: 29, wystąpienia: 3\n",
      "Przedział 22-28: 15 wystąpień.\n",
      " - Wartość: 26, wystąpienia: 5\n",
      " - Wartość: 25, wystąpienia: 2\n",
      "Przedział 8-14: 14 wystąpień.\n",
      " - Wartość: 11, wystąpienia: 4\n",
      " - Wartość: 10, wystąpienia: 4\n",
      "Przedział 37-42: 14 wystąpień.\n",
      " - Wartość: 40, wystąpienia: 3\n",
      " - Wartość: 42, wystąpienia: 3\n"
     ]
    }
   ],
   "source": [
    "# Sortowanie przedziałów malejąco według liczby wystąpień\n",
    "posortowane_przedzialy = sorted(przedzialy.items(), key=lambda x: x[1], reverse=True)\n",
    "\n",
    "# Wyświetlanie 2 wartości, które wystąpiły najczęściej w każdym przedziale\n",
    "for przedzial, liczba_wystapien in posortowane_przedzialy:\n",
    "    print(f\"Przedział {przedzial}: {liczba_wystapien} wystąpień.\")\n",
    "    \n",
    "# Tworzenie słownika wartości wystąpień dla danego przedziału\n",
    "    wartosci_wystapien = {}\n",
    "    for sublist in dane:\n",
    "        for liczba in sublist:\n",
    "            if liczba >= int(przedzial.split('-')[0]) and liczba <= int(przedzial.split('-')[1]):\n",
    "                if liczba in wartosci_wystapien:\n",
    "                    wartosci_wystapien[liczba] += 1\n",
    "                else:\n",
    "                    wartosci_wystapien[liczba] = 1\n",
    "    \n",
    "# Sortowanie wartości wystąpień malejąco\n",
    "    posortowane_wartosci = sorted(wartosci_wystapien.items(), key=lambda x: x[1], reverse=True)\n",
    "    \n",
    "# Wyświetlanie dwóch wartości wystąpień najczęściej występujących\n",
    "    for wartosc, wystapienia in posortowane_wartosci[:2]:\n",
    "        print(f\" - Wartość: {wartosc}, wystąpienia: {wystapienia}\")"
   ]
  },
  {
   "cell_type": "code",
   "execution_count": null,
   "id": "eb2483f2",
   "metadata": {},
   "outputs": [],
   "source": []
  }
 ],
 "metadata": {
  "kernelspec": {
   "display_name": "Python 3 (ipykernel)",
   "language": "python",
   "name": "python3"
  },
  "language_info": {
   "codemirror_mode": {
    "name": "ipython",
    "version": 3
   },
   "file_extension": ".py",
   "mimetype": "text/x-python",
   "name": "python",
   "nbconvert_exporter": "python",
   "pygments_lexer": "ipython3",
   "version": "3.11.0"
  }
 },
 "nbformat": 4,
 "nbformat_minor": 5
}
