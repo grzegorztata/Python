{
 "cells": [
  {
   "cell_type": "code",
   "execution_count": 1,
   "id": "7734e1eb",
   "metadata": {},
   "outputs": [],
   "source": [
    "import numpy as np\n",
    "import pandas as pd\n",
    "\n",
    "import matplotlib.pyplot as plt\n",
    "import seaborn as sns\n",
    "\n",
    "from sklearn.model_selection import train_test_split, GridSearchCV\n",
    "\n",
    "from sklearn.pipeline import FeatureUnion, Pipeline\n",
    "from sklearn.base import BaseEstimator, TransformerMixin\n",
    "from sklearn.compose import ColumnTransformer\n",
    "\n",
    "from sklearn.impute import SimpleImputer\n",
    "from sklearn.preprocessing import OneHotEncoder, StandardScaler, PolynomialFeatures, PowerTransformer\n",
    "\n",
    "from sklearn.decomposition import PCA\n",
    "\n",
    "from sklearn.linear_model import LogisticRegression\n",
    "\n",
    "from sklearn.metrics import classification_report, confusion_matrix, roc_curve, f1_score, roc_auc_score"
   ]
  },
  {
   "cell_type": "code",
   "execution_count": 58,
   "id": "8e63a65c",
   "metadata": {},
   "outputs": [
    {
     "data": {
      "text/html": [
       "<div>\n",
       "<style scoped>\n",
       "    .dataframe tbody tr th:only-of-type {\n",
       "        vertical-align: middle;\n",
       "    }\n",
       "\n",
       "    .dataframe tbody tr th {\n",
       "        vertical-align: top;\n",
       "    }\n",
       "\n",
       "    .dataframe thead th {\n",
       "        text-align: right;\n",
       "    }\n",
       "</style>\n",
       "<table border=\"1\" class=\"dataframe\">\n",
       "  <thead>\n",
       "    <tr style=\"text-align: right;\">\n",
       "      <th></th>\n",
       "      <th>PatientID</th>\n",
       "      <th>Pregnancies</th>\n",
       "      <th>PlasmaGlucose</th>\n",
       "      <th>DiastolicBloodPressure</th>\n",
       "      <th>TricepsThickness</th>\n",
       "      <th>SerumInsulin</th>\n",
       "      <th>BMI</th>\n",
       "      <th>DiabetesPedigree</th>\n",
       "      <th>Age</th>\n",
       "      <th>Diabetic</th>\n",
       "    </tr>\n",
       "  </thead>\n",
       "  <tbody>\n",
       "    <tr>\n",
       "      <th>0</th>\n",
       "      <td>1354778</td>\n",
       "      <td>0</td>\n",
       "      <td>171</td>\n",
       "      <td>80</td>\n",
       "      <td>34</td>\n",
       "      <td>23</td>\n",
       "      <td>43.509726</td>\n",
       "      <td>1.213191</td>\n",
       "      <td>21</td>\n",
       "      <td>0</td>\n",
       "    </tr>\n",
       "    <tr>\n",
       "      <th>1</th>\n",
       "      <td>1147438</td>\n",
       "      <td>8</td>\n",
       "      <td>92</td>\n",
       "      <td>93</td>\n",
       "      <td>47</td>\n",
       "      <td>36</td>\n",
       "      <td>21.240576</td>\n",
       "      <td>0.158365</td>\n",
       "      <td>23</td>\n",
       "      <td>0</td>\n",
       "    </tr>\n",
       "    <tr>\n",
       "      <th>2</th>\n",
       "      <td>1640031</td>\n",
       "      <td>7</td>\n",
       "      <td>115</td>\n",
       "      <td>47</td>\n",
       "      <td>52</td>\n",
       "      <td>35</td>\n",
       "      <td>41.511523</td>\n",
       "      <td>0.079019</td>\n",
       "      <td>23</td>\n",
       "      <td>0</td>\n",
       "    </tr>\n",
       "    <tr>\n",
       "      <th>3</th>\n",
       "      <td>1883350</td>\n",
       "      <td>9</td>\n",
       "      <td>103</td>\n",
       "      <td>78</td>\n",
       "      <td>25</td>\n",
       "      <td>304</td>\n",
       "      <td>29.582192</td>\n",
       "      <td>1.282870</td>\n",
       "      <td>43</td>\n",
       "      <td>1</td>\n",
       "    </tr>\n",
       "    <tr>\n",
       "      <th>4</th>\n",
       "      <td>1424119</td>\n",
       "      <td>1</td>\n",
       "      <td>85</td>\n",
       "      <td>59</td>\n",
       "      <td>27</td>\n",
       "      <td>35</td>\n",
       "      <td>42.604536</td>\n",
       "      <td>0.549542</td>\n",
       "      <td>22</td>\n",
       "      <td>0</td>\n",
       "    </tr>\n",
       "    <tr>\n",
       "      <th>...</th>\n",
       "      <td>...</td>\n",
       "      <td>...</td>\n",
       "      <td>...</td>\n",
       "      <td>...</td>\n",
       "      <td>...</td>\n",
       "      <td>...</td>\n",
       "      <td>...</td>\n",
       "      <td>...</td>\n",
       "      <td>...</td>\n",
       "      <td>...</td>\n",
       "    </tr>\n",
       "    <tr>\n",
       "      <th>14995</th>\n",
       "      <td>1490300</td>\n",
       "      <td>10</td>\n",
       "      <td>65</td>\n",
       "      <td>60</td>\n",
       "      <td>46</td>\n",
       "      <td>177</td>\n",
       "      <td>33.512468</td>\n",
       "      <td>0.148327</td>\n",
       "      <td>41</td>\n",
       "      <td>1</td>\n",
       "    </tr>\n",
       "    <tr>\n",
       "      <th>14996</th>\n",
       "      <td>1744410</td>\n",
       "      <td>2</td>\n",
       "      <td>73</td>\n",
       "      <td>66</td>\n",
       "      <td>27</td>\n",
       "      <td>168</td>\n",
       "      <td>30.132636</td>\n",
       "      <td>0.862252</td>\n",
       "      <td>38</td>\n",
       "      <td>1</td>\n",
       "    </tr>\n",
       "    <tr>\n",
       "      <th>14997</th>\n",
       "      <td>1742742</td>\n",
       "      <td>0</td>\n",
       "      <td>93</td>\n",
       "      <td>89</td>\n",
       "      <td>43</td>\n",
       "      <td>57</td>\n",
       "      <td>18.690683</td>\n",
       "      <td>0.427049</td>\n",
       "      <td>24</td>\n",
       "      <td>0</td>\n",
       "    </tr>\n",
       "    <tr>\n",
       "      <th>14998</th>\n",
       "      <td>1099353</td>\n",
       "      <td>0</td>\n",
       "      <td>132</td>\n",
       "      <td>98</td>\n",
       "      <td>18</td>\n",
       "      <td>161</td>\n",
       "      <td>19.791645</td>\n",
       "      <td>0.302257</td>\n",
       "      <td>23</td>\n",
       "      <td>0</td>\n",
       "    </tr>\n",
       "    <tr>\n",
       "      <th>14999</th>\n",
       "      <td>1386396</td>\n",
       "      <td>3</td>\n",
       "      <td>114</td>\n",
       "      <td>65</td>\n",
       "      <td>47</td>\n",
       "      <td>512</td>\n",
       "      <td>36.215437</td>\n",
       "      <td>0.147363</td>\n",
       "      <td>34</td>\n",
       "      <td>1</td>\n",
       "    </tr>\n",
       "  </tbody>\n",
       "</table>\n",
       "<p>15000 rows × 10 columns</p>\n",
       "</div>"
      ],
      "text/plain": [
       "       PatientID  Pregnancies  PlasmaGlucose  DiastolicBloodPressure  \\\n",
       "0        1354778            0            171                      80   \n",
       "1        1147438            8             92                      93   \n",
       "2        1640031            7            115                      47   \n",
       "3        1883350            9            103                      78   \n",
       "4        1424119            1             85                      59   \n",
       "...          ...          ...            ...                     ...   \n",
       "14995    1490300           10             65                      60   \n",
       "14996    1744410            2             73                      66   \n",
       "14997    1742742            0             93                      89   \n",
       "14998    1099353            0            132                      98   \n",
       "14999    1386396            3            114                      65   \n",
       "\n",
       "       TricepsThickness  SerumInsulin        BMI  DiabetesPedigree  Age  \\\n",
       "0                    34            23  43.509726          1.213191   21   \n",
       "1                    47            36  21.240576          0.158365   23   \n",
       "2                    52            35  41.511523          0.079019   23   \n",
       "3                    25           304  29.582192          1.282870   43   \n",
       "4                    27            35  42.604536          0.549542   22   \n",
       "...                 ...           ...        ...               ...  ...   \n",
       "14995                46           177  33.512468          0.148327   41   \n",
       "14996                27           168  30.132636          0.862252   38   \n",
       "14997                43            57  18.690683          0.427049   24   \n",
       "14998                18           161  19.791645          0.302257   23   \n",
       "14999                47           512  36.215437          0.147363   34   \n",
       "\n",
       "       Diabetic  \n",
       "0             0  \n",
       "1             0  \n",
       "2             0  \n",
       "3             1  \n",
       "4             0  \n",
       "...         ...  \n",
       "14995         1  \n",
       "14996         1  \n",
       "14997         0  \n",
       "14998         0  \n",
       "14999         1  \n",
       "\n",
       "[15000 rows x 10 columns]"
      ]
     },
     "execution_count": 58,
     "metadata": {},
     "output_type": "execute_result"
    }
   ],
   "source": [
    "dataset = pd.read_csv('../Files/diabetes.csv')\n",
    "dataset"
   ]
  },
  {
   "cell_type": "code",
   "execution_count": 59,
   "id": "fdf33576",
   "metadata": {},
   "outputs": [],
   "source": [
    "X = dataset.drop(['Diabetic'], axis=1).copy()\n",
    "y = dataset['Diabetic'].copy()\n",
    "X_train, X_test, y_train, y_test = train_test_split(X, y, test_size=0.25, random_state=42, stratify=y)"
   ]
  },
  {
   "cell_type": "markdown",
   "id": "48176a23",
   "metadata": {},
   "source": [
    "##### Rozdzielenie operacji w zależności od kolumn"
   ]
  },
  {
   "cell_type": "code",
   "execution_count": 60,
   "id": "57b3be84",
   "metadata": {},
   "outputs": [],
   "source": [
    "num_features = ['Pregnancies', 'PlasmaGlucose', 'DiastolicBloodPressure', 'TricepsThickness', 'SerumInsulin', 'BMI', 'DiabetesPedigree', 'Age']"
   ]
  },
  {
   "cell_type": "markdown",
   "id": "8651e7e5",
   "metadata": {},
   "source": [
    "##### Przygotowanie wartości numerycznych dla braków"
   ]
  },
  {
   "cell_type": "code",
   "execution_count": 70,
   "id": "b05f893a",
   "metadata": {},
   "outputs": [],
   "source": [
    "# przygotowanie wartości numerycznych\n",
    "num_preparation = Pipeline(steps=[\n",
    "    ('fill_missings', SimpleImputer(strategy='mean'))\n",
    "])"
   ]
  },
  {
   "cell_type": "code",
   "execution_count": 71,
   "id": "1066af81",
   "metadata": {},
   "outputs": [
    {
     "name": "stdout",
     "output_type": "stream",
     "text": [
      "Surowy zbiór danych - zbiór treningowy:\n",
      "Pregnancies               0.0\n",
      "PlasmaGlucose             0.0\n",
      "DiastolicBloodPressure    0.0\n",
      "TricepsThickness          0.0\n",
      "SerumInsulin              0.0\n",
      "BMI                       0.0\n",
      "DiabetesPedigree          0.0\n",
      "Age                       0.0\n",
      "dtype: float64\n",
      "\n",
      "Wyjście Pipeline - zbiór treningowy\n",
      "Pregnancies               0.0\n",
      "PlasmaGlucose             0.0\n",
      "DiastolicBloodPressure    0.0\n",
      "TricepsThickness          0.0\n",
      "SerumInsulin              0.0\n",
      "BMI                       0.0\n",
      "DiabetesPedigree          0.0\n",
      "Age                       0.0\n",
      "dtype: float64\n"
     ]
    }
   ],
   "source": [
    "print('Surowy zbiór danych - zbiór treningowy:')\n",
    "print(X_train[num_features].isnull().mean())\n",
    "X_train_trasnformed = num_preparation.fit_transform(X_train[num_features])\n",
    "X_train_trasnformed = pd.DataFrame(X_train_trasnformed, columns=num_features)\n",
    "print('\\nWyjście Pipeline - zbiór treningowy')\n",
    "print(X_train_trasnformed[num_features].isnull().mean())"
   ]
  },
  {
   "cell_type": "code",
   "execution_count": 72,
   "id": "69752c5b",
   "metadata": {},
   "outputs": [
    {
     "name": "stdout",
     "output_type": "stream",
     "text": [
      "Surowy zbiór danych - zbiór testowy:\n",
      "Pregnancies               0.0\n",
      "PlasmaGlucose             0.0\n",
      "DiastolicBloodPressure    0.0\n",
      "TricepsThickness          0.0\n",
      "SerumInsulin              0.0\n",
      "BMI                       0.0\n",
      "DiabetesPedigree          0.0\n",
      "Age                       0.0\n",
      "dtype: float64\n",
      "\n",
      "Wyjście Pipeline - zbiór testowy\n",
      "Pregnancies               0.0\n",
      "PlasmaGlucose             0.0\n",
      "DiastolicBloodPressure    0.0\n",
      "TricepsThickness          0.0\n",
      "SerumInsulin              0.0\n",
      "BMI                       0.0\n",
      "DiabetesPedigree          0.0\n",
      "Age                       0.0\n",
      "dtype: float64\n"
     ]
    }
   ],
   "source": [
    "print('Surowy zbiór danych - zbiór testowy:')\n",
    "print(X_test[num_features].isnull().mean())\n",
    "X_test_trasnformed = num_preparation.transform(X_test[num_features])\n",
    "X_test_trasnformed = pd.DataFrame(X_test_trasnformed, columns=num_features)\n",
    "print('\\nWyjście Pipeline - zbiór testowy')\n",
    "print(X_test_trasnformed[num_features].isnull().mean())"
   ]
  },
  {
   "cell_type": "markdown",
   "id": "790979e7",
   "metadata": {},
   "source": [
    "### Column Transformer"
   ]
  },
  {
   "cell_type": "markdown",
   "id": "fb4860f3",
   "metadata": {},
   "source": [
    "##### transformer - wartości numeryczne i kategoryczne"
   ]
  },
  {
   "cell_type": "code",
   "execution_count": 75,
   "id": "12d15abb",
   "metadata": {},
   "outputs": [],
   "source": [
    "num_features = ['Pregnancies', 'PlasmaGlucose', 'DiastolicBloodPressure', 'TricepsThickness', 'SerumInsulin', 'BMI', 'DiabetesPedigree', 'Age']\n",
    "\n",
    "# przygotowanie wartości numerycznych\n",
    "num_preparation = Pipeline(steps=[\n",
    "    ('fill_missings', SimpleImputer(strategy='mean'))\n",
    "])"
   ]
  },
  {
   "cell_type": "code",
   "execution_count": 76,
   "id": "3103ca39",
   "metadata": {},
   "outputs": [
    {
     "data": {
      "text/plain": [
       "array([[1.82873200e+06, 1.00000000e+01, 1.01000000e+02, ...,\n",
       "        2.36255546e+01, 1.79500972e-01, 2.10000000e+01],\n",
       "       [1.37673700e+06, 8.00000000e+00, 1.16000000e+02, ...,\n",
       "        3.57983250e+01, 2.03872183e-01, 2.10000000e+01],\n",
       "       [1.03784600e+06, 1.00000000e+00, 1.17000000e+02, ...,\n",
       "        1.86664339e+01, 1.59149374e-01, 2.20000000e+01],\n",
       "       ...,\n",
       "       [1.17041600e+06, 0.00000000e+00, 1.01000000e+02, ...,\n",
       "        3.86410823e+01, 2.40418134e-01, 2.30000000e+01],\n",
       "       [1.59443400e+06, 1.00000000e+00, 1.70000000e+02, ...,\n",
       "        3.63841863e+01, 7.02568660e-01, 2.30000000e+01],\n",
       "       [1.34470700e+06, 1.00000000e+00, 5.40000000e+01, ...,\n",
       "        2.10853008e+01, 1.70777940e-01, 2.20000000e+01]])"
      ]
     },
     "execution_count": 76,
     "metadata": {},
     "output_type": "execute_result"
    }
   ],
   "source": [
    "num_preparation.fit_transform(X_train)"
   ]
  },
  {
   "cell_type": "markdown",
   "id": "0cab1c4e",
   "metadata": {},
   "source": [
    "### Połączenie Pipeline z modelem"
   ]
  },
  {
   "cell_type": "code",
   "execution_count": 85,
   "id": "c12b96d4",
   "metadata": {},
   "outputs": [],
   "source": [
    "num_features = ['Pregnancies', 'PlasmaGlucose', 'DiastolicBloodPressure', 'TricepsThickness', 'SerumInsulin', 'BMI', 'DiabetesPedigree', 'Age']\n",
    "\n",
    "# przygotowanie wartości numerycznych\n",
    "num_preparation = Pipeline(steps=[\n",
    "    ('fill_missings', SimpleImputer(strategy='mean'))\n",
    "])\n",
    "\n",
    "data_preparation = ColumnTransformer(transformers=[\n",
    "    ('numeric_preprocessing', num_preparation, num_features),\n",
    "])\n",
    "\n",
    "model_pipeline_v1 = Pipeline(steps=[('preprocessor', data_preparation),\n",
    "                                    ('model', LogisticRegression(max_iter=10000))])"
   ]
  },
  {
   "cell_type": "code",
   "execution_count": 86,
   "id": "d270b0d9",
   "metadata": {},
   "outputs": [
    {
     "data": {
      "text/html": [
       "<style>#sk-container-id-9 {color: black;background-color: white;}#sk-container-id-9 pre{padding: 0;}#sk-container-id-9 div.sk-toggleable {background-color: white;}#sk-container-id-9 label.sk-toggleable__label {cursor: pointer;display: block;width: 100%;margin-bottom: 0;padding: 0.3em;box-sizing: border-box;text-align: center;}#sk-container-id-9 label.sk-toggleable__label-arrow:before {content: \"▸\";float: left;margin-right: 0.25em;color: #696969;}#sk-container-id-9 label.sk-toggleable__label-arrow:hover:before {color: black;}#sk-container-id-9 div.sk-estimator:hover label.sk-toggleable__label-arrow:before {color: black;}#sk-container-id-9 div.sk-toggleable__content {max-height: 0;max-width: 0;overflow: hidden;text-align: left;background-color: #f0f8ff;}#sk-container-id-9 div.sk-toggleable__content pre {margin: 0.2em;color: black;border-radius: 0.25em;background-color: #f0f8ff;}#sk-container-id-9 input.sk-toggleable__control:checked~div.sk-toggleable__content {max-height: 200px;max-width: 100%;overflow: auto;}#sk-container-id-9 input.sk-toggleable__control:checked~label.sk-toggleable__label-arrow:before {content: \"▾\";}#sk-container-id-9 div.sk-estimator input.sk-toggleable__control:checked~label.sk-toggleable__label {background-color: #d4ebff;}#sk-container-id-9 div.sk-label input.sk-toggleable__control:checked~label.sk-toggleable__label {background-color: #d4ebff;}#sk-container-id-9 input.sk-hidden--visually {border: 0;clip: rect(1px 1px 1px 1px);clip: rect(1px, 1px, 1px, 1px);height: 1px;margin: -1px;overflow: hidden;padding: 0;position: absolute;width: 1px;}#sk-container-id-9 div.sk-estimator {font-family: monospace;background-color: #f0f8ff;border: 1px dotted black;border-radius: 0.25em;box-sizing: border-box;margin-bottom: 0.5em;}#sk-container-id-9 div.sk-estimator:hover {background-color: #d4ebff;}#sk-container-id-9 div.sk-parallel-item::after {content: \"\";width: 100%;border-bottom: 1px solid gray;flex-grow: 1;}#sk-container-id-9 div.sk-label:hover label.sk-toggleable__label {background-color: #d4ebff;}#sk-container-id-9 div.sk-serial::before {content: \"\";position: absolute;border-left: 1px solid gray;box-sizing: border-box;top: 0;bottom: 0;left: 50%;z-index: 0;}#sk-container-id-9 div.sk-serial {display: flex;flex-direction: column;align-items: center;background-color: white;padding-right: 0.2em;padding-left: 0.2em;position: relative;}#sk-container-id-9 div.sk-item {position: relative;z-index: 1;}#sk-container-id-9 div.sk-parallel {display: flex;align-items: stretch;justify-content: center;background-color: white;position: relative;}#sk-container-id-9 div.sk-item::before, #sk-container-id-9 div.sk-parallel-item::before {content: \"\";position: absolute;border-left: 1px solid gray;box-sizing: border-box;top: 0;bottom: 0;left: 50%;z-index: -1;}#sk-container-id-9 div.sk-parallel-item {display: flex;flex-direction: column;z-index: 1;position: relative;background-color: white;}#sk-container-id-9 div.sk-parallel-item:first-child::after {align-self: flex-end;width: 50%;}#sk-container-id-9 div.sk-parallel-item:last-child::after {align-self: flex-start;width: 50%;}#sk-container-id-9 div.sk-parallel-item:only-child::after {width: 0;}#sk-container-id-9 div.sk-dashed-wrapped {border: 1px dashed gray;margin: 0 0.4em 0.5em 0.4em;box-sizing: border-box;padding-bottom: 0.4em;background-color: white;}#sk-container-id-9 div.sk-label label {font-family: monospace;font-weight: bold;display: inline-block;line-height: 1.2em;}#sk-container-id-9 div.sk-label-container {text-align: center;}#sk-container-id-9 div.sk-container {/* jupyter's `normalize.less` sets `[hidden] { display: none; }` but bootstrap.min.css set `[hidden] { display: none !important; }` so we also need the `!important` here to be able to override the default hidden behavior on the sphinx rendered scikit-learn.org. See: https://github.com/scikit-learn/scikit-learn/issues/21755 */display: inline-block !important;position: relative;}#sk-container-id-9 div.sk-text-repr-fallback {display: none;}</style><div id=\"sk-container-id-9\" class=\"sk-top-container\"><div class=\"sk-text-repr-fallback\"><pre>Pipeline(steps=[(&#x27;preprocessor&#x27;,\n",
       "                 ColumnTransformer(transformers=[(&#x27;numeric_preprocessing&#x27;,\n",
       "                                                  Pipeline(steps=[(&#x27;fill_missings&#x27;,\n",
       "                                                                   SimpleImputer())]),\n",
       "                                                  [&#x27;Pregnancies&#x27;,\n",
       "                                                   &#x27;PlasmaGlucose&#x27;,\n",
       "                                                   &#x27;DiastolicBloodPressure&#x27;,\n",
       "                                                   &#x27;TricepsThickness&#x27;,\n",
       "                                                   &#x27;SerumInsulin&#x27;, &#x27;BMI&#x27;,\n",
       "                                                   &#x27;DiabetesPedigree&#x27;,\n",
       "                                                   &#x27;Age&#x27;])])),\n",
       "                (&#x27;model&#x27;, LogisticRegression(max_iter=10000))])</pre><b>In a Jupyter environment, please rerun this cell to show the HTML representation or trust the notebook. <br />On GitHub, the HTML representation is unable to render, please try loading this page with nbviewer.org.</b></div><div class=\"sk-container\" hidden><div class=\"sk-item sk-dashed-wrapped\"><div class=\"sk-label-container\"><div class=\"sk-label sk-toggleable\"><input class=\"sk-toggleable__control sk-hidden--visually\" id=\"sk-estimator-id-44\" type=\"checkbox\" ><label for=\"sk-estimator-id-44\" class=\"sk-toggleable__label sk-toggleable__label-arrow\">Pipeline</label><div class=\"sk-toggleable__content\"><pre>Pipeline(steps=[(&#x27;preprocessor&#x27;,\n",
       "                 ColumnTransformer(transformers=[(&#x27;numeric_preprocessing&#x27;,\n",
       "                                                  Pipeline(steps=[(&#x27;fill_missings&#x27;,\n",
       "                                                                   SimpleImputer())]),\n",
       "                                                  [&#x27;Pregnancies&#x27;,\n",
       "                                                   &#x27;PlasmaGlucose&#x27;,\n",
       "                                                   &#x27;DiastolicBloodPressure&#x27;,\n",
       "                                                   &#x27;TricepsThickness&#x27;,\n",
       "                                                   &#x27;SerumInsulin&#x27;, &#x27;BMI&#x27;,\n",
       "                                                   &#x27;DiabetesPedigree&#x27;,\n",
       "                                                   &#x27;Age&#x27;])])),\n",
       "                (&#x27;model&#x27;, LogisticRegression(max_iter=10000))])</pre></div></div></div><div class=\"sk-serial\"><div class=\"sk-item sk-dashed-wrapped\"><div class=\"sk-label-container\"><div class=\"sk-label sk-toggleable\"><input class=\"sk-toggleable__control sk-hidden--visually\" id=\"sk-estimator-id-45\" type=\"checkbox\" ><label for=\"sk-estimator-id-45\" class=\"sk-toggleable__label sk-toggleable__label-arrow\">preprocessor: ColumnTransformer</label><div class=\"sk-toggleable__content\"><pre>ColumnTransformer(transformers=[(&#x27;numeric_preprocessing&#x27;,\n",
       "                                 Pipeline(steps=[(&#x27;fill_missings&#x27;,\n",
       "                                                  SimpleImputer())]),\n",
       "                                 [&#x27;Pregnancies&#x27;, &#x27;PlasmaGlucose&#x27;,\n",
       "                                  &#x27;DiastolicBloodPressure&#x27;, &#x27;TricepsThickness&#x27;,\n",
       "                                  &#x27;SerumInsulin&#x27;, &#x27;BMI&#x27;, &#x27;DiabetesPedigree&#x27;,\n",
       "                                  &#x27;Age&#x27;])])</pre></div></div></div><div class=\"sk-parallel\"><div class=\"sk-parallel-item\"><div class=\"sk-item\"><div class=\"sk-label-container\"><div class=\"sk-label sk-toggleable\"><input class=\"sk-toggleable__control sk-hidden--visually\" id=\"sk-estimator-id-46\" type=\"checkbox\" ><label for=\"sk-estimator-id-46\" class=\"sk-toggleable__label sk-toggleable__label-arrow\">numeric_preprocessing</label><div class=\"sk-toggleable__content\"><pre>[&#x27;Pregnancies&#x27;, &#x27;PlasmaGlucose&#x27;, &#x27;DiastolicBloodPressure&#x27;, &#x27;TricepsThickness&#x27;, &#x27;SerumInsulin&#x27;, &#x27;BMI&#x27;, &#x27;DiabetesPedigree&#x27;, &#x27;Age&#x27;]</pre></div></div></div><div class=\"sk-serial\"><div class=\"sk-item\"><div class=\"sk-serial\"><div class=\"sk-item\"><div class=\"sk-estimator sk-toggleable\"><input class=\"sk-toggleable__control sk-hidden--visually\" id=\"sk-estimator-id-47\" type=\"checkbox\" ><label for=\"sk-estimator-id-47\" class=\"sk-toggleable__label sk-toggleable__label-arrow\">SimpleImputer</label><div class=\"sk-toggleable__content\"><pre>SimpleImputer()</pre></div></div></div></div></div></div></div></div></div></div><div class=\"sk-item\"><div class=\"sk-estimator sk-toggleable\"><input class=\"sk-toggleable__control sk-hidden--visually\" id=\"sk-estimator-id-48\" type=\"checkbox\" ><label for=\"sk-estimator-id-48\" class=\"sk-toggleable__label sk-toggleable__label-arrow\">LogisticRegression</label><div class=\"sk-toggleable__content\"><pre>LogisticRegression(max_iter=10000)</pre></div></div></div></div></div></div></div>"
      ],
      "text/plain": [
       "Pipeline(steps=[('preprocessor',\n",
       "                 ColumnTransformer(transformers=[('numeric_preprocessing',\n",
       "                                                  Pipeline(steps=[('fill_missings',\n",
       "                                                                   SimpleImputer())]),\n",
       "                                                  ['Pregnancies',\n",
       "                                                   'PlasmaGlucose',\n",
       "                                                   'DiastolicBloodPressure',\n",
       "                                                   'TricepsThickness',\n",
       "                                                   'SerumInsulin', 'BMI',\n",
       "                                                   'DiabetesPedigree',\n",
       "                                                   'Age'])])),\n",
       "                ('model', LogisticRegression(max_iter=10000))])"
      ]
     },
     "execution_count": 86,
     "metadata": {},
     "output_type": "execute_result"
    }
   ],
   "source": [
    "model_pipeline_v1.fit(X_train, y_train)"
   ]
  },
  {
   "cell_type": "code",
   "execution_count": 87,
   "id": "5600e464",
   "metadata": {
    "scrolled": false
   },
   "outputs": [
    {
     "name": "stdout",
     "output_type": "stream",
     "text": [
      "              precision    recall  f1-score   support\n",
      "\n",
      "           0       0.82      0.88      0.85      2500\n",
      "           1       0.72      0.60      0.65      1250\n",
      "\n",
      "    accuracy                           0.79      3750\n",
      "   macro avg       0.77      0.74      0.75      3750\n",
      "weighted avg       0.78      0.79      0.78      3750\n",
      "\n"
     ]
    },
    {
     "data": {
      "image/png": "[encoded data removed]",
      "text/plain": [
       "<Figure size 640x480 with 2 Axes>"
      ]
     },
     "metadata": {},
     "output_type": "display_data"
    },
    {
     "data": {
      "image/png": "[encoded data removed]",
      "text/plain": [
       "<Figure size 600x600 with 1 Axes>"
      ]
     },
     "metadata": {},
     "output_type": "display_data"
    },
    {
     "data": {
      "text/html": [
       "<div>\n",
       "<style scoped>\n",
       "    .dataframe tbody tr th:only-of-type {\n",
       "        vertical-align: middle;\n",
       "    }\n",
       "\n",
       "    .dataframe tbody tr th {\n",
       "        vertical-align: top;\n",
       "    }\n",
       "\n",
       "    .dataframe thead th {\n",
       "        text-align: right;\n",
       "    }\n",
       "</style>\n",
       "<table border=\"1\" class=\"dataframe\">\n",
       "  <thead>\n",
       "    <tr style=\"text-align: right;\">\n",
       "      <th></th>\n",
       "      <th>Model</th>\n",
       "      <th>F1_score</th>\n",
       "      <th>AUC</th>\n",
       "    </tr>\n",
       "  </thead>\n",
       "  <tbody>\n",
       "    <tr>\n",
       "      <th>0</th>\n",
       "      <td>Logistic Regression</td>\n",
       "      <td>0.654181</td>\n",
       "      <td>0.85949</td>\n",
       "    </tr>\n",
       "  </tbody>\n",
       "</table>\n",
       "</div>"
      ],
      "text/plain": [
       "                 Model  F1_score      AUC\n",
       "0  Logistic Regression  0.654181  0.85949"
      ]
     },
     "execution_count": 87,
     "metadata": {},
     "output_type": "execute_result"
    }
   ],
   "source": [
    "metrics_dataframe = pd.DataFrame(columns = ['Model', 'F1_score', 'AUC'])\n",
    "metrics_dataframe\n",
    "models = []\n",
    "models_names = []\n",
    "predictions_proba_list = []\n",
    "\n",
    "def calculate_metrics(model, name, X_checked, y_checked):\n",
    "    models.append(model)\n",
    "    models_names.append(name)\n",
    "    global metrics_dataframe\n",
    "    predictions = model.predict(X_checked)\n",
    "    predictions_proba = model.predict_proba(X_checked)\n",
    "    predictions_proba_list.append(predictions_proba[:,1])\n",
    "\n",
    "    ############## metryki dla sprawdzanego modelu ################\n",
    "\n",
    "    # Precision, Recall, F1, Accuracy\n",
    "    print(classification_report(y_checked, predictions))\n",
    "\n",
    "    # Confusion matrix\n",
    "    plt.figure()\n",
    "    cm = confusion_matrix(y_checked, predictions)\n",
    "    ax = sns.heatmap(cm, annot=True, cmap='Blues', fmt='.0f')\n",
    "    ax.set_title('Confusion Matrix\\n\\n')\n",
    "    ax.set_xlabel('\\nPredicted Values')\n",
    "    ax.set_ylabel('Actual Values ')\n",
    "    plt.show()\n",
    "\n",
    "    # plot ROC curve\n",
    "    fig = plt.figure(figsize=(6, 6))\n",
    "    plt.plot([0, 1], [0, 1], 'k--')\n",
    "    for model_selected, name_selected, pred_proba in zip(models, models_names, predictions_proba_list):\n",
    "        fpr, tpr, thresholds = roc_curve(y_checked, pred_proba)\n",
    "        plt.plot(fpr, tpr, label=name_selected)\n",
    "    plt.xlabel('False Positive Rate')\n",
    "    plt.ylabel('True Positive Rate')\n",
    "    plt.title('ROC Curve')\n",
    "    plt.legend(loc='lower right')\n",
    "    plt.show()\n",
    "\n",
    "    f1_metric = f1_score(y_checked, predictions)\n",
    "    auc_metric = roc_auc_score(y_checked, predictions_proba[:,1])\n",
    "    metrics_dataframe = pd.concat([metrics_dataframe, pd.DataFrame({'Model': [name], 'F1_score': [f1_metric], 'AUC': [auc_metric]})], ignore_index=True)\n",
    "    return metrics_dataframe\n",
    "\n",
    "calculate_metrics(model_pipeline_v1, 'Logistic Regression', X_test, y_test)"
   ]
  },
  {
   "cell_type": "code",
   "execution_count": 98,
   "id": "fbb04b87",
   "metadata": {},
   "outputs": [
    {
     "data": {
      "text/html": [
       "<style>#sk-container-id-12 {color: black;background-color: white;}#sk-container-id-12 pre{padding: 0;}#sk-container-id-12 div.sk-toggleable {background-color: white;}#sk-container-id-12 label.sk-toggleable__label {cursor: pointer;display: block;width: 100%;margin-bottom: 0;padding: 0.3em;box-sizing: border-box;text-align: center;}#sk-container-id-12 label.sk-toggleable__label-arrow:before {content: \"▸\";float: left;margin-right: 0.25em;color: #696969;}#sk-container-id-12 label.sk-toggleable__label-arrow:hover:before {color: black;}#sk-container-id-12 div.sk-estimator:hover label.sk-toggleable__label-arrow:before {color: black;}#sk-container-id-12 div.sk-toggleable__content {max-height: 0;max-width: 0;overflow: hidden;text-align: left;background-color: #f0f8ff;}#sk-container-id-12 div.sk-toggleable__content pre {margin: 0.2em;color: black;border-radius: 0.25em;background-color: #f0f8ff;}#sk-container-id-12 input.sk-toggleable__control:checked~div.sk-toggleable__content {max-height: 200px;max-width: 100%;overflow: auto;}#sk-container-id-12 input.sk-toggleable__control:checked~label.sk-toggleable__label-arrow:before {content: \"▾\";}#sk-container-id-12 div.sk-estimator input.sk-toggleable__control:checked~label.sk-toggleable__label {background-color: #d4ebff;}#sk-container-id-12 div.sk-label input.sk-toggleable__control:checked~label.sk-toggleable__label {background-color: #d4ebff;}#sk-container-id-12 input.sk-hidden--visually {border: 0;clip: rect(1px 1px 1px 1px);clip: rect(1px, 1px, 1px, 1px);height: 1px;margin: -1px;overflow: hidden;padding: 0;position: absolute;width: 1px;}#sk-container-id-12 div.sk-estimator {font-family: monospace;background-color: #f0f8ff;border: 1px dotted black;border-radius: 0.25em;box-sizing: border-box;margin-bottom: 0.5em;}#sk-container-id-12 div.sk-estimator:hover {background-color: #d4ebff;}#sk-container-id-12 div.sk-parallel-item::after {content: \"\";width: 100%;border-bottom: 1px solid gray;flex-grow: 1;}#sk-container-id-12 div.sk-label:hover label.sk-toggleable__label {background-color: #d4ebff;}#sk-container-id-12 div.sk-serial::before {content: \"\";position: absolute;border-left: 1px solid gray;box-sizing: border-box;top: 0;bottom: 0;left: 50%;z-index: 0;}#sk-container-id-12 div.sk-serial {display: flex;flex-direction: column;align-items: center;background-color: white;padding-right: 0.2em;padding-left: 0.2em;position: relative;}#sk-container-id-12 div.sk-item {position: relative;z-index: 1;}#sk-container-id-12 div.sk-parallel {display: flex;align-items: stretch;justify-content: center;background-color: white;position: relative;}#sk-container-id-12 div.sk-item::before, #sk-container-id-12 div.sk-parallel-item::before {content: \"\";position: absolute;border-left: 1px solid gray;box-sizing: border-box;top: 0;bottom: 0;left: 50%;z-index: -1;}#sk-container-id-12 div.sk-parallel-item {display: flex;flex-direction: column;z-index: 1;position: relative;background-color: white;}#sk-container-id-12 div.sk-parallel-item:first-child::after {align-self: flex-end;width: 50%;}#sk-container-id-12 div.sk-parallel-item:last-child::after {align-self: flex-start;width: 50%;}#sk-container-id-12 div.sk-parallel-item:only-child::after {width: 0;}#sk-container-id-12 div.sk-dashed-wrapped {border: 1px dashed gray;margin: 0 0.4em 0.5em 0.4em;box-sizing: border-box;padding-bottom: 0.4em;background-color: white;}#sk-container-id-12 div.sk-label label {font-family: monospace;font-weight: bold;display: inline-block;line-height: 1.2em;}#sk-container-id-12 div.sk-label-container {text-align: center;}#sk-container-id-12 div.sk-container {/* jupyter's `normalize.less` sets `[hidden] { display: none; }` but bootstrap.min.css set `[hidden] { display: none !important; }` so we also need the `!important` here to be able to override the default hidden behavior on the sphinx rendered scikit-learn.org. See: https://github.com/scikit-learn/scikit-learn/issues/21755 */display: inline-block !important;position: relative;}#sk-container-id-12 div.sk-text-repr-fallback {display: none;}</style><div id=\"sk-container-id-12\" class=\"sk-top-container\"><div class=\"sk-text-repr-fallback\"><pre>Pipeline(steps=[(&#x27;preprocessor&#x27;,\n",
       "                 ColumnTransformer(transformers=[(&#x27;numeric_processing&#x27;,\n",
       "                                                  Pipeline(steps=[(&#x27;fill_missings&#x27;,\n",
       "                                                                   SimpleImputer()),\n",
       "                                                                  (&#x27;polynomial_features&#x27;,\n",
       "                                                                   PolynomialFeatures(degree=3)),\n",
       "                                                                  (&#x27;scaler_1&#x27;,\n",
       "                                                                   StandardScaler()),\n",
       "                                                                  (&#x27;pca&#x27;,\n",
       "                                                                   PCA(n_components=0.95)),\n",
       "                                                                  (&#x27;scaler_2&#x27;,\n",
       "                                                                   StandardScaler())]),\n",
       "                                                  [&#x27;Pregnancies&#x27;,\n",
       "                                                   &#x27;PlasmaGlucose&#x27;,\n",
       "                                                   &#x27;DiastolicBloodPressure&#x27;,\n",
       "                                                   &#x27;TricepsThickness&#x27;,\n",
       "                                                   &#x27;SerumInsulin&#x27;, &#x27;BMI&#x27;,\n",
       "                                                   &#x27;DiabetesPedigree&#x27;,\n",
       "                                                   &#x27;Age&#x27;])])),\n",
       "                (&#x27;model&#x27;, LogisticRegression(max_iter=10000))])</pre><b>In a Jupyter environment, please rerun this cell to show the HTML representation or trust the notebook. <br />On GitHub, the HTML representation is unable to render, please try loading this page with nbviewer.org.</b></div><div class=\"sk-container\" hidden><div class=\"sk-item sk-dashed-wrapped\"><div class=\"sk-label-container\"><div class=\"sk-label sk-toggleable\"><input class=\"sk-toggleable__control sk-hidden--visually\" id=\"sk-estimator-id-66\" type=\"checkbox\" ><label for=\"sk-estimator-id-66\" class=\"sk-toggleable__label sk-toggleable__label-arrow\">Pipeline</label><div class=\"sk-toggleable__content\"><pre>Pipeline(steps=[(&#x27;preprocessor&#x27;,\n",
       "                 ColumnTransformer(transformers=[(&#x27;numeric_processing&#x27;,\n",
       "                                                  Pipeline(steps=[(&#x27;fill_missings&#x27;,\n",
       "                                                                   SimpleImputer()),\n",
       "                                                                  (&#x27;polynomial_features&#x27;,\n",
       "                                                                   PolynomialFeatures(degree=3)),\n",
       "                                                                  (&#x27;scaler_1&#x27;,\n",
       "                                                                   StandardScaler()),\n",
       "                                                                  (&#x27;pca&#x27;,\n",
       "                                                                   PCA(n_components=0.95)),\n",
       "                                                                  (&#x27;scaler_2&#x27;,\n",
       "                                                                   StandardScaler())]),\n",
       "                                                  [&#x27;Pregnancies&#x27;,\n",
       "                                                   &#x27;PlasmaGlucose&#x27;,\n",
       "                                                   &#x27;DiastolicBloodPressure&#x27;,\n",
       "                                                   &#x27;TricepsThickness&#x27;,\n",
       "                                                   &#x27;SerumInsulin&#x27;, &#x27;BMI&#x27;,\n",
       "                                                   &#x27;DiabetesPedigree&#x27;,\n",
       "                                                   &#x27;Age&#x27;])])),\n",
       "                (&#x27;model&#x27;, LogisticRegression(max_iter=10000))])</pre></div></div></div><div class=\"sk-serial\"><div class=\"sk-item sk-dashed-wrapped\"><div class=\"sk-label-container\"><div class=\"sk-label sk-toggleable\"><input class=\"sk-toggleable__control sk-hidden--visually\" id=\"sk-estimator-id-67\" type=\"checkbox\" ><label for=\"sk-estimator-id-67\" class=\"sk-toggleable__label sk-toggleable__label-arrow\">preprocessor: ColumnTransformer</label><div class=\"sk-toggleable__content\"><pre>ColumnTransformer(transformers=[(&#x27;numeric_processing&#x27;,\n",
       "                                 Pipeline(steps=[(&#x27;fill_missings&#x27;,\n",
       "                                                  SimpleImputer()),\n",
       "                                                 (&#x27;polynomial_features&#x27;,\n",
       "                                                  PolynomialFeatures(degree=3)),\n",
       "                                                 (&#x27;scaler_1&#x27;, StandardScaler()),\n",
       "                                                 (&#x27;pca&#x27;,\n",
       "                                                  PCA(n_components=0.95)),\n",
       "                                                 (&#x27;scaler_2&#x27;,\n",
       "                                                  StandardScaler())]),\n",
       "                                 [&#x27;Pregnancies&#x27;, &#x27;PlasmaGlucose&#x27;,\n",
       "                                  &#x27;DiastolicBloodPressure&#x27;, &#x27;TricepsThickness&#x27;,\n",
       "                                  &#x27;SerumInsulin&#x27;, &#x27;BMI&#x27;, &#x27;DiabetesPedigree&#x27;,\n",
       "                                  &#x27;Age&#x27;])])</pre></div></div></div><div class=\"sk-parallel\"><div class=\"sk-parallel-item\"><div class=\"sk-item\"><div class=\"sk-label-container\"><div class=\"sk-label sk-toggleable\"><input class=\"sk-toggleable__control sk-hidden--visually\" id=\"sk-estimator-id-68\" type=\"checkbox\" ><label for=\"sk-estimator-id-68\" class=\"sk-toggleable__label sk-toggleable__label-arrow\">numeric_processing</label><div class=\"sk-toggleable__content\"><pre>[&#x27;Pregnancies&#x27;, &#x27;PlasmaGlucose&#x27;, &#x27;DiastolicBloodPressure&#x27;, &#x27;TricepsThickness&#x27;, &#x27;SerumInsulin&#x27;, &#x27;BMI&#x27;, &#x27;DiabetesPedigree&#x27;, &#x27;Age&#x27;]</pre></div></div></div><div class=\"sk-serial\"><div class=\"sk-item\"><div class=\"sk-serial\"><div class=\"sk-item\"><div class=\"sk-estimator sk-toggleable\"><input class=\"sk-toggleable__control sk-hidden--visually\" id=\"sk-estimator-id-69\" type=\"checkbox\" ><label for=\"sk-estimator-id-69\" class=\"sk-toggleable__label sk-toggleable__label-arrow\">SimpleImputer</label><div class=\"sk-toggleable__content\"><pre>SimpleImputer()</pre></div></div></div><div class=\"sk-item\"><div class=\"sk-estimator sk-toggleable\"><input class=\"sk-toggleable__control sk-hidden--visually\" id=\"sk-estimator-id-70\" type=\"checkbox\" ><label for=\"sk-estimator-id-70\" class=\"sk-toggleable__label sk-toggleable__label-arrow\">PolynomialFeatures</label><div class=\"sk-toggleable__content\"><pre>PolynomialFeatures(degree=3)</pre></div></div></div><div class=\"sk-item\"><div class=\"sk-estimator sk-toggleable\"><input class=\"sk-toggleable__control sk-hidden--visually\" id=\"sk-estimator-id-71\" type=\"checkbox\" ><label for=\"sk-estimator-id-71\" class=\"sk-toggleable__label sk-toggleable__label-arrow\">StandardScaler</label><div class=\"sk-toggleable__content\"><pre>StandardScaler()</pre></div></div></div><div class=\"sk-item\"><div class=\"sk-estimator sk-toggleable\"><input class=\"sk-toggleable__control sk-hidden--visually\" id=\"sk-estimator-id-72\" type=\"checkbox\" ><label for=\"sk-estimator-id-72\" class=\"sk-toggleable__label sk-toggleable__label-arrow\">PCA</label><div class=\"sk-toggleable__content\"><pre>PCA(n_components=0.95)</pre></div></div></div><div class=\"sk-item\"><div class=\"sk-estimator sk-toggleable\"><input class=\"sk-toggleable__control sk-hidden--visually\" id=\"sk-estimator-id-73\" type=\"checkbox\" ><label for=\"sk-estimator-id-73\" class=\"sk-toggleable__label sk-toggleable__label-arrow\">StandardScaler</label><div class=\"sk-toggleable__content\"><pre>StandardScaler()</pre></div></div></div></div></div></div></div></div></div></div><div class=\"sk-item\"><div class=\"sk-estimator sk-toggleable\"><input class=\"sk-toggleable__control sk-hidden--visually\" id=\"sk-estimator-id-74\" type=\"checkbox\" ><label for=\"sk-estimator-id-74\" class=\"sk-toggleable__label sk-toggleable__label-arrow\">LogisticRegression</label><div class=\"sk-toggleable__content\"><pre>LogisticRegression(max_iter=10000)</pre></div></div></div></div></div></div></div>"
      ],
      "text/plain": [
       "Pipeline(steps=[('preprocessor',\n",
       "                 ColumnTransformer(transformers=[('numeric_processing',\n",
       "                                                  Pipeline(steps=[('fill_missings',\n",
       "                                                                   SimpleImputer()),\n",
       "                                                                  ('polynomial_features',\n",
       "                                                                   PolynomialFeatures(degree=3)),\n",
       "                                                                  ('scaler_1',\n",
       "                                                                   StandardScaler()),\n",
       "                                                                  ('pca',\n",
       "                                                                   PCA(n_components=0.95)),\n",
       "                                                                  ('scaler_2',\n",
       "                                                                   StandardScaler())]),\n",
       "                                                  ['Pregnancies',\n",
       "                                                   'PlasmaGlucose',\n",
       "                                                   'DiastolicBloodPressure',\n",
       "                                                   'TricepsThickness',\n",
       "                                                   'SerumInsulin', 'BMI',\n",
       "                                                   'DiabetesPedigree',\n",
       "                                                   'Age'])])),\n",
       "                ('model', LogisticRegression(max_iter=10000))])"
      ]
     },
     "execution_count": 98,
     "metadata": {},
     "output_type": "execute_result"
    }
   ],
   "source": [
    "num_features = ['Pregnancies', 'PlasmaGlucose', 'DiastolicBloodPressure', 'TricepsThickness', 'SerumInsulin', 'BMI', 'DiabetesPedigree', 'Age']\n",
    "\n",
    "# przygotowanie wartości numerycznych\n",
    "num_preparation = Pipeline(steps=[\n",
    "    ('fill_missings', SimpleImputer(strategy='mean')),\n",
    "    ('polynomial_features', PolynomialFeatures(degree=3)),\n",
    "    ('scaler_1', StandardScaler()),\n",
    "    ('pca', PCA(n_components=0.95)), # pca musi być częścią data_preparation, nie num_preparation\n",
    "    ('scaler_2', StandardScaler())\n",
    "])\n",
    "\n",
    "data_preparation = ColumnTransformer(transformers=[\n",
    "    ('numeric_processing', num_preparation, num_features),\n",
    "])\n",
    "\n",
    "model_pipeline_v2 = Pipeline(steps=[('preprocessor', data_preparation),\n",
    "                                    ('model', LogisticRegression(max_iter=10000))])\n",
    "model_pipeline_v2.fit(X_train, y_train)"
   ]
  },
  {
   "cell_type": "code",
   "execution_count": 99,
   "id": "f73d5c72",
   "metadata": {},
   "outputs": [
    {
     "name": "stdout",
     "output_type": "stream",
     "text": [
      "              precision    recall  f1-score   support\n",
      "\n",
      "           0       0.81      0.90      0.85      2500\n",
      "           1       0.74      0.57      0.64      1250\n",
      "\n",
      "    accuracy                           0.79      3750\n",
      "   macro avg       0.77      0.73      0.75      3750\n",
      "weighted avg       0.78      0.79      0.78      3750\n",
      "\n"
     ]
    },
    {
     "data": {
      "image/png": "[encoded data removed]",
      "text/plain": [
       "<Figure size 640x480 with 2 Axes>"
      ]
     },
     "metadata": {},
     "output_type": "display_data"
    },
    {
     "data": {
      "image/png": "[encoded data removed]",
      "text/plain": [
       "<Figure size 600x600 with 1 Axes>"
      ]
     },
     "metadata": {},
     "output_type": "display_data"
    },
    {
     "data": {
      "text/html": [
       "<div>\n",
       "<style scoped>\n",
       "    .dataframe tbody tr th:only-of-type {\n",
       "        vertical-align: middle;\n",
       "    }\n",
       "\n",
       "    .dataframe tbody tr th {\n",
       "        vertical-align: top;\n",
       "    }\n",
       "\n",
       "    .dataframe thead th {\n",
       "        text-align: right;\n",
       "    }\n",
       "</style>\n",
       "<table border=\"1\" class=\"dataframe\">\n",
       "  <thead>\n",
       "    <tr style=\"text-align: right;\">\n",
       "      <th></th>\n",
       "      <th>Model</th>\n",
       "      <th>F1_score</th>\n",
       "      <th>AUC</th>\n",
       "    </tr>\n",
       "  </thead>\n",
       "  <tbody>\n",
       "    <tr>\n",
       "      <th>0</th>\n",
       "      <td>Logistic Regression</td>\n",
       "      <td>0.654181</td>\n",
       "      <td>0.859490</td>\n",
       "    </tr>\n",
       "    <tr>\n",
       "      <th>1</th>\n",
       "      <td>Standaryzacja i PCA</td>\n",
       "      <td>0.643885</td>\n",
       "      <td>0.864173</td>\n",
       "    </tr>\n",
       "    <tr>\n",
       "      <th>2</th>\n",
       "      <td>Standaryzacja i PCA</td>\n",
       "      <td>0.801964</td>\n",
       "      <td>0.940774</td>\n",
       "    </tr>\n",
       "    <tr>\n",
       "      <th>3</th>\n",
       "      <td>Standaryzacja i PCA</td>\n",
       "      <td>0.643885</td>\n",
       "      <td>0.864173</td>\n",
       "    </tr>\n",
       "  </tbody>\n",
       "</table>\n",
       "</div>"
      ],
      "text/plain": [
       "                 Model  F1_score       AUC\n",
       "0  Logistic Regression  0.654181  0.859490\n",
       "1  Standaryzacja i PCA  0.643885  0.864173\n",
       "2  Standaryzacja i PCA  0.801964  0.940774\n",
       "3  Standaryzacja i PCA  0.643885  0.864173"
      ]
     },
     "execution_count": 99,
     "metadata": {},
     "output_type": "execute_result"
    }
   ],
   "source": [
    "calculate_metrics(model_pipeline_v2, 'Standaryzacja i PCA', X_test, y_test)"
   ]
  },
  {
   "cell_type": "markdown",
   "id": "b64f4ad1",
   "metadata": {},
   "source": [
    "### Model z wyborem hiperparametrów"
   ]
  },
  {
   "cell_type": "code",
   "execution_count": 100,
   "id": "45873a37",
   "metadata": {},
   "outputs": [],
   "source": [
    "model_pipeline_v3 = Pipeline(steps=[('preprocessor', data_preparation),\n",
    "                                    ('model', LogisticRegression(max_iter=10000))])"
   ]
  },
  {
   "cell_type": "code",
   "execution_count": 101,
   "id": "02569386",
   "metadata": {},
   "outputs": [
    {
     "data": {
      "text/plain": [
       "['memory',\n",
       " 'steps',\n",
       " 'verbose',\n",
       " 'preprocessor',\n",
       " 'model',\n",
       " 'preprocessor__n_jobs',\n",
       " 'preprocessor__remainder',\n",
       " 'preprocessor__sparse_threshold',\n",
       " 'preprocessor__transformer_weights',\n",
       " 'preprocessor__transformers',\n",
       " 'preprocessor__verbose',\n",
       " 'preprocessor__verbose_feature_names_out',\n",
       " 'preprocessor__numeric_processing',\n",
       " 'preprocessor__numeric_processing__memory',\n",
       " 'preprocessor__numeric_processing__steps',\n",
       " 'preprocessor__numeric_processing__verbose',\n",
       " 'preprocessor__numeric_processing__fill_missings',\n",
       " 'preprocessor__numeric_processing__polynomial_features',\n",
       " 'preprocessor__numeric_processing__scaler_1',\n",
       " 'preprocessor__numeric_processing__pca',\n",
       " 'preprocessor__numeric_processing__scaler_2',\n",
       " 'preprocessor__numeric_processing__fill_missings__add_indicator',\n",
       " 'preprocessor__numeric_processing__fill_missings__copy',\n",
       " 'preprocessor__numeric_processing__fill_missings__fill_value',\n",
       " 'preprocessor__numeric_processing__fill_missings__keep_empty_features',\n",
       " 'preprocessor__numeric_processing__fill_missings__missing_values',\n",
       " 'preprocessor__numeric_processing__fill_missings__strategy',\n",
       " 'preprocessor__numeric_processing__fill_missings__verbose',\n",
       " 'preprocessor__numeric_processing__polynomial_features__degree',\n",
       " 'preprocessor__numeric_processing__polynomial_features__include_bias',\n",
       " 'preprocessor__numeric_processing__polynomial_features__interaction_only',\n",
       " 'preprocessor__numeric_processing__polynomial_features__order',\n",
       " 'preprocessor__numeric_processing__scaler_1__copy',\n",
       " 'preprocessor__numeric_processing__scaler_1__with_mean',\n",
       " 'preprocessor__numeric_processing__scaler_1__with_std',\n",
       " 'preprocessor__numeric_processing__pca__copy',\n",
       " 'preprocessor__numeric_processing__pca__iterated_power',\n",
       " 'preprocessor__numeric_processing__pca__n_components',\n",
       " 'preprocessor__numeric_processing__pca__n_oversamples',\n",
       " 'preprocessor__numeric_processing__pca__power_iteration_normalizer',\n",
       " 'preprocessor__numeric_processing__pca__random_state',\n",
       " 'preprocessor__numeric_processing__pca__svd_solver',\n",
       " 'preprocessor__numeric_processing__pca__tol',\n",
       " 'preprocessor__numeric_processing__pca__whiten',\n",
       " 'preprocessor__numeric_processing__scaler_2__copy',\n",
       " 'preprocessor__numeric_processing__scaler_2__with_mean',\n",
       " 'preprocessor__numeric_processing__scaler_2__with_std',\n",
       " 'model__C',\n",
       " 'model__class_weight',\n",
       " 'model__dual',\n",
       " 'model__fit_intercept',\n",
       " 'model__intercept_scaling',\n",
       " 'model__l1_ratio',\n",
       " 'model__max_iter',\n",
       " 'model__multi_class',\n",
       " 'model__n_jobs',\n",
       " 'model__penalty',\n",
       " 'model__random_state',\n",
       " 'model__solver',\n",
       " 'model__tol',\n",
       " 'model__verbose',\n",
       " 'model__warm_start']"
      ]
     },
     "execution_count": 101,
     "metadata": {},
     "output_type": "execute_result"
    }
   ],
   "source": [
    "list(model_pipeline_v3.get_params().keys())"
   ]
  },
  {
   "cell_type": "code",
   "execution_count": null,
   "id": "ed9b7fa4",
   "metadata": {},
   "outputs": [
    {
     "name": "stdout",
     "output_type": "stream",
     "text": [
      "Fitting 10 folds for each of 2000 candidates, totalling 20000 fits\n"
     ]
    }
   ],
   "source": [
    "params = {\n",
    "    'preprocessor__numeric_processing__fill_missings__strategy': ['mean', 'median'],\n",
    "    'preprocessor__numeric_processing__polynomial_features__degree': [1, 2, 3, 4],\n",
    "    'preprocessor__numeric_processing__pca__n_components': [0.85, 0.90, 0.95, 0.99, 0.99999],\n",
    "    'model__C': np.logspace(-4, 4, 50)\n",
    "}\n",
    "\n",
    "\n",
    "\n",
    "\n",
    "grid_search = GridSearchCV(model_pipeline_v3, params, cv=10, n_jobs=-1, verbose=10, scoring='f1_macro')\n",
    "grid_search.fit(X_train, y_train)\n",
    "print('Wybrane hiperparametry: ', grid_search.best_params_)\n",
    "model_v3 = grid_search.best_estimator_"
   ]
  },
  {
   "cell_type": "code",
   "execution_count": null,
   "id": "10a2f5ef",
   "metadata": {},
   "outputs": [],
   "source": [
    "calculate_metrics(model_v3, 'Logistic Regression - wybór hiperparametrów', X_test, y_test)"
   ]
  },
  {
   "cell_type": "code",
   "execution_count": null,
   "id": "97875dd3",
   "metadata": {},
   "outputs": [],
   "source": []
  }
 ],
 "metadata": {
  "kernelspec": {
   "display_name": "Python 3 (ipykernel)",
   "language": "python",
   "name": "python3"
  },
  "language_info": {
   "codemirror_mode": {
    "name": "ipython",
    "version": 3
   },
   "file_extension": ".py",
   "mimetype": "text/x-python",
   "name": "python",
   "nbconvert_exporter": "python",
   "pygments_lexer": "ipython3",
   "version": "3.11.0"
  }
 },
 "nbformat": 4,
 "nbformat_minor": 5
}
