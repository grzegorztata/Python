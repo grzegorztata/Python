{
 "cells": [
  {
   "cell_type": "code",
   "execution_count": 2,
   "id": "bfac9bb0",
   "metadata": {},
   "outputs": [],
   "source": [
    "import numpy as np\n",
    "import pandas as pd\n",
    "\n",
    "import matplotlib.pyplot as plt\n",
    "import seaborn as sns\n",
    "\n",
    "from sklearn.model_selection import train_test_split, GridSearchCV\n",
    "\n",
    "from sklearn.pipeline import FeatureUnion, Pipeline\n",
    "from sklearn.base import BaseEstimator, TransformerMixin\n",
    "from sklearn.compose import ColumnTransformer\n",
    "\n",
    "from sklearn.impute import SimpleImputer\n",
    "from sklearn.preprocessing import OneHotEncoder, StandardScaler, PolynomialFeatures, PowerTransformer\n",
    "\n",
    "from sklearn.decomposition import PCA\n",
    "\n",
    "from sklearn.linear_model import LogisticRegression\n",
    "\n",
    "from sklearn.metrics import classification_report, confusion_matrix, roc_curve, f1_score, roc_auc_score"
   ]
  },
  {
   "cell_type": "markdown",
   "id": "50f50ea3",
   "metadata": {},
   "source": [
    "### Importujemy pliki test i train"
   ]
  },
  {
   "cell_type": "code",
   "execution_count": 3,
   "id": "e3a164ef",
   "metadata": {},
   "outputs": [],
   "source": [
    "test_dataset = pd.read_csv('../Files/samsung_test.txt', sep=r\"\\s+\", header=None)\n",
    "test_dataset.head()"
   ]
  },
  {
   "cell_type": "code",
   "execution_count": 4,
   "id": "b2bfe853",
   "metadata": {},
   "outputs": [],
   "source": [
    "train_dataset = pd.read_csv('../Files/samsung_train.txt', sep=r\"\\s+\", header=None)\n",
    "train_dataset.head()"
   ]
  },
  {
   "cell_type": "code",
   "execution_count": 5,
   "id": "9f5ee28f",
   "metadata": {},
   "outputs": [],
   "source": [
    "train_dataset_labels = pd.read_csv('../Files/samsung_train_labels.txt', sep=r\"\\s+\", header=None)\n",
    "train_dataset_labels.head()"
   ]
  },
  {
   "cell_type": "code",
   "execution_count": 6,
   "id": "d85bca16",
   "metadata": {},
   "outputs": [],
   "source": [
    "test_dataset_labels = pd.read_csv('../Files/samsung_test_labels.txt', sep=r\"\\s+\", header=None)\n",
    "test_dataset_labels.head()"
   ]
  },
  {
   "cell_type": "markdown",
   "id": "da910c31",
   "metadata": {},
   "source": [
    "##### Nadawanie nagłówków do plików z labelkami"
   ]
  },
  {
   "cell_type": "code",
   "execution_count": 7,
   "id": "0e932b2c",
   "metadata": {},
   "outputs": [],
   "source": [
    "new_header = 'Activity'\n",
    "train_dataset_labels.rename(columns={0: new_header}, inplace=True)\n",
    "test_dataset_labels.rename(columns={0: new_header}, inplace=True)"
   ]
  },
  {
   "cell_type": "markdown",
   "id": "acdaed62",
   "metadata": {},
   "source": [
    "##### Łączenie tabel z danymi i labelkami"
   ]
  },
  {
   "cell_type": "code",
   "execution_count": 8,
   "id": "ccd3f44d",
   "metadata": {},
   "outputs": [],
   "source": [
    "full_train = train_dataset.join(train_dataset_labels)\n",
    "full_train.head()"
   ]
  },
  {
   "cell_type": "code",
   "execution_count": 9,
   "id": "6ab835e9",
   "metadata": {},
   "outputs": [],
   "source": [
    "full_test = test_dataset.join(test_dataset_labels)\n",
    "full_test.head()"
   ]
  },
  {
   "cell_type": "markdown",
   "id": "29f0333f",
   "metadata": {},
   "source": [
    "##### Łączenie danych testowych i treningowych"
   ]
  },
  {
   "cell_type": "code",
   "execution_count": 10,
   "id": "82c30bbc",
   "metadata": {},
   "outputs": [],
   "source": [
    "# W Unsupervised Learning algorytmy uczą się z danych, które nie mają przypisanych etykiet ani informacji\n",
    "# o poprawnych odpowiedziach. Celem tego typu uczenia jest wydobywanie ukrytych wzorców, struktur i zależności w danych\n",
    "# bez nadzoru ze strony etykiet."
   ]
  },
  {
   "cell_type": "code",
   "execution_count": 11,
   "id": "3e82825c",
   "metadata": {},
   "outputs": [],
   "source": [
    "data = pd.concat([full_test, full_train], ignore_index=True)\n",
    "data"
   ]
  },
  {
   "cell_type": "markdown",
   "id": "dcdf54fe",
   "metadata": {},
   "source": [
    "##### Dodajemy nazwy aktywności w kolumnie \"Activity_name\""
   ]
  },
  {
   "cell_type": "code",
   "execution_count": 12,
   "id": "b4b9c996",
   "metadata": {},
   "outputs": [],
   "source": [
    "activity_labels = {\n",
    "    1: 'marsz',\n",
    "    2: 'wchodzenie w górę po schodach',\n",
    "    3: 'schodzenie w dół ze schodów',\n",
    "    4: 'siedzenie',\n",
    "    5: 'stanie',\n",
    "    6: 'leżenie'\n",
    "}\n",
    "\n",
    "data['Activity_name'] = data['Activity'].map(activity_mapping)\n",
    "data"
   ]
  },
  {
   "cell_type": "code",
   "execution_count": null,
   "id": "20904052",
   "metadata": {},
   "outputs": [],
   "source": []
  },
  {
   "cell_type": "code",
   "execution_count": null,
   "id": "e679beb4",
   "metadata": {},
   "outputs": [],
   "source": []
  }
 ],
 "metadata": {
  "kernelspec": {
   "display_name": "Python 3 (ipykernel)",
   "language": "python",
   "name": "python3"
  },
  "language_info": {
   "codemirror_mode": {
    "name": "ipython",
    "version": 3
   },
   "file_extension": ".py",
   "mimetype": "text/x-python",
   "name": "python",
   "nbconvert_exporter": "python",
   "pygments_lexer": "ipython3",
   "version": "3.11.0"
  }
 },
 "nbformat": 4,
 "nbformat_minor": 5
}
