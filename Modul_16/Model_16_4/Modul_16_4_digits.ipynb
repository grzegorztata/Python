{
 "cells": [
  {
   "cell_type": "code",
   "execution_count": 1,
   "id": "b30808bc",
   "metadata": {},
   "outputs": [],
   "source": [
    "from sklearn.linear_model import LogisticRegression\n",
    "from sklearn.datasets import load_digits\n",
    "from sklearn.model_selection import train_test_split\n",
    "from sklearn.pipeline import Pipeline"
   ]
  },
  {
   "cell_type": "code",
   "execution_count": 2,
   "id": "b11bce1a",
   "metadata": {},
   "outputs": [
    {
     "name": "stdout",
     "output_type": "stream",
     "text": [
      "Bez KMeans:  0.9466666666666667\n"
     ]
    }
   ],
   "source": [
    "X_digits, y_digits = load_digits(return_X_y=True)\n",
    "X_train, X_test, y_train, y_test = train_test_split(X_digits, y_digits, random_state=2)\n",
    "\n",
    "log_reg = LogisticRegression(multi_class = 'ovr', max_iter=5000, random_state=2)\n",
    "log_reg.fit(X_train, y_train)\n",
    "\n",
    "print(\"Bez KMeans: \", log_reg.score(X_test, y_test))"
   ]
  },
  {
   "cell_type": "code",
   "execution_count": 3,
   "id": "b199d391",
   "metadata": {},
   "outputs": [
    {
     "name": "stdout",
     "output_type": "stream",
     "text": [
      "Z KMeans:  0.9622222222222222\n"
     ]
    }
   ],
   "source": [
    "from sklearn.cluster import KMeans\n",
    "\n",
    "pipeline = Pipeline([\n",
    "    (\"kmeans\", KMeans(\n",
    "        n_clusters=40,\n",
    "        random_state=2,\n",
    "        n_init='auto'\n",
    "    )),\n",
    "    (\"log_reg\", LogisticRegression(\n",
    "        multi_class=\"ovr\",\n",
    "        max_iter=5000,\n",
    "        random_state=2\n",
    "    )),\n",
    "])\n",
    "pipeline.fit(X_train, y_train)\n",
    "\n",
    "print(\"Z KMeans: \", pipeline.score(X_test, y_test))"
   ]
  },
  {
   "cell_type": "code",
   "execution_count": null,
   "id": "1d4a5e5c",
   "metadata": {},
   "outputs": [],
   "source": []
  }
 ],
 "metadata": {
  "kernelspec": {
   "display_name": "Python 3 (ipykernel)",
   "language": "python",
   "name": "python3"
  },
  "language_info": {
   "codemirror_mode": {
    "name": "ipython",
    "version": 3
   },
   "file_extension": ".py",
   "mimetype": "text/x-python",
   "name": "python",
   "nbconvert_exporter": "python",
   "pygments_lexer": "ipython3",
   "version": "3.11.0"
  }
 },
 "nbformat": 4,
 "nbformat_minor": 5
}
