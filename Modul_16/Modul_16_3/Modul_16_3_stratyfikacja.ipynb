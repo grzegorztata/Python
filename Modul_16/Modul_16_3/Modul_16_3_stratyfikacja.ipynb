{
 "cells": [
  {
   "cell_type": "code",
   "execution_count": 1,
   "id": "007c3738",
   "metadata": {},
   "outputs": [],
   "source": [
    "from sklearn.model_selection import train_test_split\n",
    "from sklearn.datasets import make_classification"
   ]
  },
  {
   "cell_type": "code",
   "execution_count": 2,
   "id": "ac88fff3",
   "metadata": {},
   "outputs": [
    {
     "name": "stdout",
     "output_type": "stream",
     "text": [
      ">Train: 0=790, 1=10, Test: 0=200, 1=0\n"
     ]
    }
   ],
   "source": [
    "X, y = make_classification(\n",
    "    n_samples=1000,\n",
    "    n_classes=2,\n",
    "    weights=[0.99, 0.01],\n",
    "    flip_y=0,\n",
    "    random_state=1\n",
    ")\n",
    "\n",
    "X_train, X_test, y_train, y_test = \\\n",
    "    train_test_split(X, y, test_size = 0.2, random_state=3)\n",
    "\n",
    "train_0, train_1 = len(y_train[y_train==0]), len(y_train[y_train==1])\n",
    "test_0, test_1 = len(y_test[y_test==0]), len(y_test[y_test==1])\n",
    "\n",
    "print('>Train: 0=%d, 1=%d, Test: 0=%d, 1=%d' % (train_0, train_1, test_0, test_1))"
   ]
  },
  {
   "cell_type": "markdown",
   "id": "9062120e",
   "metadata": {},
   "source": [
    "###### Widać więc, że w danych treningowych są wszystkie klasy typu 1, natomiast nie ma ich w danych testowych. W fazie testowania naszego modelu nie będziemy mieli więc informacji, jak nasz model będzie się sprawował dla takiego typu danych – jest to Złe"
   ]
  },
  {
   "cell_type": "code",
   "execution_count": 3,
   "id": "dd910775",
   "metadata": {},
   "outputs": [
    {
     "name": "stdout",
     "output_type": "stream",
     "text": [
      ">Train: 0=792, 1=8, Test: 0=198, 1=2\n"
     ]
    }
   ],
   "source": [
    "X_train, X_test, y_train, y_test = \\\n",
    "    train_test_split(X, y, test_size = 0.2, random_state=3, stratify=y)\n",
    "\n",
    "train_0, train_1 = len(y_train[y_train==0]), len(y_train[y_train==1])\n",
    "test_0, test_1 = len(y_test[y_test==0]), len(y_test[y_test==1])\n",
    "\n",
    "print('>Train: 0=%d, 1=%d, Test: 0=%d, 1=%d' % (train_0, train_1, test_0, test_1))"
   ]
  },
  {
   "cell_type": "markdown",
   "id": "88c924e1",
   "metadata": {},
   "source": [
    "###### Widzimy, że przy podziale 80%/20%, 80% obiektów klasy 1 znajduje się w zbiorze treningowym, natomiast 20% w zbiorze testowym i tak powinno być."
   ]
  },
  {
   "cell_type": "markdown",
   "id": "c37b6749",
   "metadata": {},
   "source": [
    "# StratifyKFold"
   ]
  },
  {
   "cell_type": "code",
   "execution_count": 14,
   "id": "a24ecce9",
   "metadata": {},
   "outputs": [],
   "source": [
    "from sklearn.model_selection import StratifiedKFold\n",
    "from sklearn.model_selection import KFold\n",
    "from sklearn.preprocessing import StandardScaler\n",
    "from sklearn.linear_model import SGDClassifier\n",
    "\n",
    "import numpy as np"
   ]
  },
  {
   "cell_type": "code",
   "execution_count": 15,
   "id": "115c6a81",
   "metadata": {},
   "outputs": [
    {
     "name": "stdout",
     "output_type": "stream",
     "text": [
      "Wyniki poszczególnych foldów:  [0.975, 0.98, 0.975, 0.975, 0.985]\n",
      "Średni wynik wszystkich foldów:  0.9780000000000001\n"
     ]
    }
   ],
   "source": [
    "kf = KFold(n_splits=5, shuffle=True, random_state=1)\n",
    "scaler = StandardScaler()\n",
    "\n",
    "models = []\n",
    "scores = []\n",
    "\n",
    "for fold_nr, (train_idx, test_idx) in enumerate(kf.split(X, y)):\n",
    "    X_train = X[train_idx]\n",
    "    X_test = X[test_idx]\n",
    "    \n",
    "    y_train = y[train_idx]\n",
    "    y_test = y[test_idx]\n",
    "    \n",
    "    # skalowanie danych wejściowych, aby model lepiej działał\n",
    "    X_train = scaler.fit_transform(X_train)\n",
    "    X_test = scaler.transform(X_test)\n",
    "\n",
    "    clf = SGDClassifier(random_state=1).fit(X_train, y_train)\n",
    "\n",
    "    models.append(clf)\n",
    "    scores.append(clf.score(X_test, y_test))\n",
    "    \n",
    "print(\"Wyniki poszczególnych foldów: \", scores)\n",
    "print(\"Średni wynik wszystkich foldów: \", np.array(scores).mean())"
   ]
  },
  {
   "cell_type": "code",
   "execution_count": null,
   "id": "e5e1359f",
   "metadata": {},
   "outputs": [],
   "source": []
  }
 ],
 "metadata": {
  "kernelspec": {
   "display_name": "Python 3 (ipykernel)",
   "language": "python",
   "name": "python3"
  },
  "language_info": {
   "codemirror_mode": {
    "name": "ipython",
    "version": 3
   },
   "file_extension": ".py",
   "mimetype": "text/x-python",
   "name": "python",
   "nbconvert_exporter": "python",
   "pygments_lexer": "ipython3",
   "version": "3.11.0"
  }
 },
 "nbformat": 4,
 "nbformat_minor": 5
}
