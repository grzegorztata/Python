{
 "cells": [
  {
   "cell_type": "code",
   "execution_count": 7,
   "id": "6d54a6bf",
   "metadata": {},
   "outputs": [],
   "source": [
    "import numpy as np\n",
    "\n",
    "from sklearn.datasets import load_iris\n",
    "from sklearn.model_selection import KFold\n",
    "from sklearn.preprocessing import StandardScaler\n",
    "from sklearn.linear_model import SGDClassifier\n",
    "from sklearn.model_selection import cross_val_score, cross_val_predict"
   ]
  },
  {
   "cell_type": "code",
   "execution_count": 8,
   "id": "02b1df89",
   "metadata": {},
   "outputs": [],
   "source": [
    "iris = load_iris()\n",
    "X, y, iris_classes = iris.data, iris.target, iris.target_names"
   ]
  },
  {
   "cell_type": "code",
   "execution_count": 9,
   "id": "cd81a613",
   "metadata": {},
   "outputs": [],
   "source": [
    "scaler = StandardScaler()"
   ]
  },
  {
   "cell_type": "code",
   "execution_count": 10,
   "id": "0cd3c0ec",
   "metadata": {},
   "outputs": [],
   "source": [
    "kf = KFold(n_splits=5, shuffle=True, random_state=1)"
   ]
  },
  {
   "cell_type": "code",
   "execution_count": 11,
   "id": "f55e7f4c",
   "metadata": {},
   "outputs": [],
   "source": [
    "models = []\n",
    "scores = []"
   ]
  },
  {
   "cell_type": "markdown",
   "id": "42b8a7e3",
   "metadata": {},
   "source": [
    "##### Iteracja przez wszystkie foldy i wyłuskanie danych treningowych i testowych"
   ]
  },
  {
   "cell_type": "code",
   "execution_count": 12,
   "id": "f9de0a90",
   "metadata": {},
   "outputs": [
    {
     "name": "stdout",
     "output_type": "stream",
     "text": [
      "Wyniki poszczególnych foldów:  [0.8666666666666667, 0.9333333333333333, 0.9666666666666667, 0.9, 0.9333333333333333]\n",
      "Średni wynik wszystkich foldów:  0.9199999999999999\n"
     ]
    }
   ],
   "source": [
    "for fold_nr, (train_idx, test_idx) in enumerate(kf.split(X)):\n",
    "    X_train = X[train_idx]\n",
    "    X_test = X[test_idx]\n",
    "    \n",
    "    y_train = y[train_idx]\n",
    "    y_test = y[test_idx]\n",
    "    \n",
    "    # skalowanie danych wejściowych, aby model lepiej działał\n",
    "    X_train = scaler.fit_transform(X_train)\n",
    "    X_test = scaler.transform(X_test)\n",
    "\n",
    "    clf = SGDClassifier(random_state=1).fit(X_train, y_train)\n",
    "\n",
    "    models.append(clf)\n",
    "    scores.append(clf.score(X_test, y_test))\n",
    "    \n",
    "print(\"Wyniki poszczególnych foldów: \", scores)\n",
    "print(\"Średni wynik wszystkich foldów: \", np.array(scores).mean())"
   ]
  },
  {
   "cell_type": "markdown",
   "id": "fff699de",
   "metadata": {},
   "source": [
    "# Wrapper"
   ]
  },
  {
   "cell_type": "code",
   "execution_count": 14,
   "id": "3c1bd9b4",
   "metadata": {},
   "outputs": [
    {
     "name": "stdout",
     "output_type": "stream",
     "text": [
      "Wynik kroswalidacji  [0.83333333 0.93333333 0.8        0.7        0.9       ]\n",
      "Średni wynik wszystkich foldów:  0.8333333333333334\n"
     ]
    }
   ],
   "source": [
    "# Stworzenie klasyfikatora\n",
    "clf = SGDClassifier(random_state=1)\n",
    "\n",
    "# użycie medoty cross_val_score do sprawdzenia\n",
    "# działania naszego modelu na różnych podziałach\n",
    "cv_score = cross_val_score(clf, X, y, cv=5)\n",
    "print(\"Wynik kroswalidacji \", cv_score)\n",
    "print(\"Średni wynik wszystkich foldów: \", cv_score.mean())"
   ]
  },
  {
   "cell_type": "code",
   "execution_count": null,
   "id": "e82c0377",
   "metadata": {},
   "outputs": [],
   "source": []
  }
 ],
 "metadata": {
  "kernelspec": {
   "display_name": "Python 3 (ipykernel)",
   "language": "python",
   "name": "python3"
  },
  "language_info": {
   "codemirror_mode": {
    "name": "ipython",
    "version": 3
   },
   "file_extension": ".py",
   "mimetype": "text/x-python",
   "name": "python",
   "nbconvert_exporter": "python",
   "pygments_lexer": "ipython3",
   "version": "3.11.0"
  }
 },
 "nbformat": 4,
 "nbformat_minor": 5
}
