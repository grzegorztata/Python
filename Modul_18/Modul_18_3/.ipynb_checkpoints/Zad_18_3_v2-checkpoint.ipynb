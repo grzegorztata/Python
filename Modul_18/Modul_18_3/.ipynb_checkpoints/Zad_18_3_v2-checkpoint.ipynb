{
 "cells": [
  {
   "cell_type": "code",
   "execution_count": 23,
   "id": "f0b2ea2d",
   "metadata": {},
   "outputs": [],
   "source": [
    "import pandas as pd\n",
    "import numpy as np\n",
    "import matplotlib.pyplot as plt\n",
    "import seaborn as sns\n",
    "\n",
    "from keras.datasets import fashion_mnist\n",
    "\n",
    "import tensorflow as tf\n",
    "from sklearn.model_selection import train_test_split\n",
    "import os\n",
    "from sklearn.metrics import f1_score, confusion_matrix\n",
    "import albumentations as A\n",
    "import cv2"
   ]
  },
  {
   "cell_type": "markdown",
   "id": "e5f04e56",
   "metadata": {},
   "source": [
    "##### Załadownie i normalizacja zbioru danych"
   ]
  },
  {
   "cell_type": "code",
   "execution_count": 24,
   "id": "eff3e7be",
   "metadata": {},
   "outputs": [],
   "source": [
    "train, test = tf.keras.datasets.fashion_mnist.load_data()\n",
    "\n",
    "# wydobycie obrazów oraz labelek\n",
    "images, labels = train\n",
    "\n",
    "# normalizacja wartości pikseli (maks. wartość\n",
    "# wynosi 255.0, czyli aby znormalizować nasze dane,\n",
    "# musimy podzielić każdy piksel przez maks. wartość)\n",
    "images = images/255.0\n",
    "\n",
    "# zapisujemy dane jako int\n",
    "labels = labels.astype(np.int32)"
   ]
  },
  {
   "cell_type": "code",
   "execution_count": 25,
   "id": "6f101c4f",
   "metadata": {},
   "outputs": [],
   "source": [
    "X_train, X_test, y_train, y_test = train_test_split(images, labels, test_size=0.1, random_state=10, stratify=labels)\n",
    "train_ds = tf.data.Dataset.from_tensor_slices((X_train, y_train))\n",
    "train_ds = train_ds.shuffle(1000).batch(32)"
   ]
  },
  {
   "cell_type": "code",
   "execution_count": 26,
   "id": "a6e1cdfe",
   "metadata": {},
   "outputs": [],
   "source": [
    "def create_model():\n",
    "    model = tf.keras.Sequential([\n",
    "        tf.keras.layers.Flatten(),\n",
    "        tf.keras.layers.Dense(256, activation='relu', name=\"input_layer\"),\n",
    "        tf.keras.layers.Dense(128, activation='relu', name=\"input_layer_1\"),\n",
    "        tf.keras.layers.Dense(64, activation='relu', name=\"hidden_layer_2\"),\n",
    "        tf.keras.layers.Dense(32, activation='relu', name=\"hidden_layer_3\"),\n",
    "        tf.keras.layers.Dense(16, activation='relu', name=\"hidden_layer_4\"),\n",
    "#         tf.keras.layers.Dense(4, activation='softmax', name=\"output_layer\")\n",
    "        tf.keras.layers.Dense(10, activation='softmax', name=\"output_layer\")  # Mamy tutaj 10 różnych klas ubrań\n",
    "    ])\n",
    "\n",
    "    model.compile(optimizer='adam',\n",
    "                  loss='sparse_categorical_crossentropy',\n",
    "                  metrics=['accuracy'])\n",
    "\n",
    "    return model"
   ]
  },
  {
   "cell_type": "markdown",
   "id": "0bd84b00",
   "metadata": {},
   "source": [
    "##### Zapisanie modelu (https://www.tensorflow.org/tutorials/keras/save_and_load?hl=pl)"
   ]
  },
  {
   "cell_type": "code",
   "execution_count": 27,
   "id": "c3e64412",
   "metadata": {},
   "outputs": [],
   "source": [
    "checkpoint_path = \"training_1/cp.ckpt\"\n",
    "checkpoint_dir = os.path.dirname(checkpoint_path)"
   ]
  },
  {
   "cell_type": "code",
   "execution_count": 28,
   "id": "5478cf05",
   "metadata": {},
   "outputs": [],
   "source": [
    "cp_callback = tf.keras.callbacks.ModelCheckpoint(filepath=checkpoint_path,\n",
    "                                                 save_weights_only=True,\n",
    "                                                 verbose=1,\n",
    "                                                 save_best_only=True,\n",
    "                                                 monitor='val_accuracy')"
   ]
  },
  {
   "cell_type": "code",
   "execution_count": 29,
   "id": "e791cb94",
   "metadata": {},
   "outputs": [
    {
     "name": "stdout",
     "output_type": "stream",
     "text": [
      "Epoch 1/25\n",
      "1663/1688 [============================>.] - ETA: 0s - loss: 0.5485 - accuracy: 0.8082WARNING:tensorflow:Can save best model only with val_accuracy available, skipping.\n"
     ]
    },
    {
     "name": "stderr",
     "output_type": "stream",
     "text": [
      "WARNING:tensorflow:Can save best model only with val_accuracy available, skipping.\n"
     ]
    },
    {
     "name": "stdout",
     "output_type": "stream",
     "text": [
      "1688/1688 [==============================] - 4s 2ms/step - loss: 0.5476 - accuracy: 0.8085\n",
      "Epoch 2/25\n",
      "1681/1688 [============================>.] - ETA: 0s - loss: 0.3830 - accuracy: 0.8626WARNING:tensorflow:Can save best model only with val_accuracy available, skipping.\n"
     ]
    },
    {
     "name": "stderr",
     "output_type": "stream",
     "text": [
      "WARNING:tensorflow:Can save best model only with val_accuracy available, skipping.\n"
     ]
    },
    {
     "name": "stdout",
     "output_type": "stream",
     "text": [
      "1688/1688 [==============================] - 4s 2ms/step - loss: 0.3829 - accuracy: 0.8625\n",
      "Epoch 3/25\n",
      "1675/1688 [============================>.] - ETA: 0s - loss: 0.3446 - accuracy: 0.8736WARNING:tensorflow:Can save best model only with val_accuracy available, skipping.\n"
     ]
    },
    {
     "name": "stderr",
     "output_type": "stream",
     "text": [
      "WARNING:tensorflow:Can save best model only with val_accuracy available, skipping.\n"
     ]
    },
    {
     "name": "stdout",
     "output_type": "stream",
     "text": [
      "1688/1688 [==============================] - 4s 2ms/step - loss: 0.3449 - accuracy: 0.8736\n",
      "Epoch 4/25\n",
      "1685/1688 [============================>.] - ETA: 0s - loss: 0.3198 - accuracy: 0.8823WARNING:tensorflow:Can save best model only with val_accuracy available, skipping.\n"
     ]
    },
    {
     "name": "stderr",
     "output_type": "stream",
     "text": [
      "WARNING:tensorflow:Can save best model only with val_accuracy available, skipping.\n"
     ]
    },
    {
     "name": "stdout",
     "output_type": "stream",
     "text": [
      "1688/1688 [==============================] - 3s 2ms/step - loss: 0.3199 - accuracy: 0.8823\n",
      "Epoch 5/25\n",
      "1679/1688 [============================>.] - ETA: 0s - loss: 0.3018 - accuracy: 0.8869WARNING:tensorflow:Can save best model only with val_accuracy available, skipping.\n"
     ]
    },
    {
     "name": "stderr",
     "output_type": "stream",
     "text": [
      "WARNING:tensorflow:Can save best model only with val_accuracy available, skipping.\n"
     ]
    },
    {
     "name": "stdout",
     "output_type": "stream",
     "text": [
      "1688/1688 [==============================] - 3s 2ms/step - loss: 0.3020 - accuracy: 0.8870\n",
      "Epoch 6/25\n",
      "1677/1688 [============================>.] - ETA: 0s - loss: 0.2833 - accuracy: 0.8962WARNING:tensorflow:Can save best model only with val_accuracy available, skipping.\n"
     ]
    },
    {
     "name": "stderr",
     "output_type": "stream",
     "text": [
      "WARNING:tensorflow:Can save best model only with val_accuracy available, skipping.\n"
     ]
    },
    {
     "name": "stdout",
     "output_type": "stream",
     "text": [
      "1688/1688 [==============================] - 3s 2ms/step - loss: 0.2832 - accuracy: 0.8962\n",
      "Epoch 7/25\n",
      "1675/1688 [============================>.] - ETA: 0s - loss: 0.2726 - accuracy: 0.8993WARNING:tensorflow:Can save best model only with val_accuracy available, skipping.\n"
     ]
    },
    {
     "name": "stderr",
     "output_type": "stream",
     "text": [
      "WARNING:tensorflow:Can save best model only with val_accuracy available, skipping.\n"
     ]
    },
    {
     "name": "stdout",
     "output_type": "stream",
     "text": [
      "1688/1688 [==============================] - 3s 2ms/step - loss: 0.2728 - accuracy: 0.8992\n",
      "Epoch 8/25\n",
      "1669/1688 [============================>.] - ETA: 0s - loss: 0.2596 - accuracy: 0.9030WARNING:tensorflow:Can save best model only with val_accuracy available, skipping.\n"
     ]
    },
    {
     "name": "stderr",
     "output_type": "stream",
     "text": [
      "WARNING:tensorflow:Can save best model only with val_accuracy available, skipping.\n"
     ]
    },
    {
     "name": "stdout",
     "output_type": "stream",
     "text": [
      "1688/1688 [==============================] - 3s 2ms/step - loss: 0.2595 - accuracy: 0.9030\n",
      "Epoch 9/25\n",
      "1684/1688 [============================>.] - ETA: 0s - loss: 0.2507 - accuracy: 0.9072WARNING:tensorflow:Can save best model only with val_accuracy available, skipping.\n"
     ]
    },
    {
     "name": "stderr",
     "output_type": "stream",
     "text": [
      "WARNING:tensorflow:Can save best model only with val_accuracy available, skipping.\n"
     ]
    },
    {
     "name": "stdout",
     "output_type": "stream",
     "text": [
      "1688/1688 [==============================] - 3s 2ms/step - loss: 0.2507 - accuracy: 0.9071\n",
      "Epoch 10/25\n",
      "1672/1688 [============================>.] - ETA: 0s - loss: 0.2398 - accuracy: 0.9088WARNING:tensorflow:Can save best model only with val_accuracy available, skipping.\n"
     ]
    },
    {
     "name": "stderr",
     "output_type": "stream",
     "text": [
      "WARNING:tensorflow:Can save best model only with val_accuracy available, skipping.\n"
     ]
    },
    {
     "name": "stdout",
     "output_type": "stream",
     "text": [
      "1688/1688 [==============================] - 3s 2ms/step - loss: 0.2396 - accuracy: 0.9089\n",
      "Epoch 11/25\n",
      "1678/1688 [============================>.] - ETA: 0s - loss: 0.2331 - accuracy: 0.9128WARNING:tensorflow:Can save best model only with val_accuracy available, skipping.\n"
     ]
    },
    {
     "name": "stderr",
     "output_type": "stream",
     "text": [
      "WARNING:tensorflow:Can save best model only with val_accuracy available, skipping.\n"
     ]
    },
    {
     "name": "stdout",
     "output_type": "stream",
     "text": [
      "1688/1688 [==============================] - 3s 2ms/step - loss: 0.2329 - accuracy: 0.9129\n",
      "Epoch 12/25\n",
      "1660/1688 [============================>.] - ETA: 0s - loss: 0.2236 - accuracy: 0.9171WARNING:tensorflow:Can save best model only with val_accuracy available, skipping.\n"
     ]
    },
    {
     "name": "stderr",
     "output_type": "stream",
     "text": [
      "WARNING:tensorflow:Can save best model only with val_accuracy available, skipping.\n"
     ]
    },
    {
     "name": "stdout",
     "output_type": "stream",
     "text": [
      "1688/1688 [==============================] - 3s 2ms/step - loss: 0.2233 - accuracy: 0.9172\n",
      "Epoch 13/25\n",
      "1686/1688 [============================>.] - ETA: 0s - loss: 0.2171 - accuracy: 0.9181WARNING:tensorflow:Can save best model only with val_accuracy available, skipping.\n"
     ]
    },
    {
     "name": "stderr",
     "output_type": "stream",
     "text": [
      "WARNING:tensorflow:Can save best model only with val_accuracy available, skipping.\n"
     ]
    },
    {
     "name": "stdout",
     "output_type": "stream",
     "text": [
      "1688/1688 [==============================] - 3s 2ms/step - loss: 0.2171 - accuracy: 0.9182\n",
      "Epoch 14/25\n",
      "1664/1688 [============================>.] - ETA: 0s - loss: 0.2108 - accuracy: 0.9211WARNING:tensorflow:Can save best model only with val_accuracy available, skipping.\n"
     ]
    },
    {
     "name": "stderr",
     "output_type": "stream",
     "text": [
      "WARNING:tensorflow:Can save best model only with val_accuracy available, skipping.\n"
     ]
    },
    {
     "name": "stdout",
     "output_type": "stream",
     "text": [
      "1688/1688 [==============================] - 3s 2ms/step - loss: 0.2110 - accuracy: 0.9211\n",
      "Epoch 15/25\n",
      "1667/1688 [============================>.] - ETA: 0s - loss: 0.2044 - accuracy: 0.9230WARNING:tensorflow:Can save best model only with val_accuracy available, skipping.\n"
     ]
    },
    {
     "name": "stderr",
     "output_type": "stream",
     "text": [
      "WARNING:tensorflow:Can save best model only with val_accuracy available, skipping.\n"
     ]
    },
    {
     "name": "stdout",
     "output_type": "stream",
     "text": [
      "1688/1688 [==============================] - 3s 2ms/step - loss: 0.2045 - accuracy: 0.9232\n",
      "Epoch 16/25\n",
      "1664/1688 [============================>.] - ETA: 0s - loss: 0.1971 - accuracy: 0.9257WARNING:tensorflow:Can save best model only with val_accuracy available, skipping.\n"
     ]
    },
    {
     "name": "stderr",
     "output_type": "stream",
     "text": [
      "WARNING:tensorflow:Can save best model only with val_accuracy available, skipping.\n"
     ]
    },
    {
     "name": "stdout",
     "output_type": "stream",
     "text": [
      "1688/1688 [==============================] - 4s 2ms/step - loss: 0.1972 - accuracy: 0.9258\n",
      "Epoch 17/25\n",
      "1671/1688 [============================>.] - ETA: 0s - loss: 0.1942 - accuracy: 0.9264WARNING:tensorflow:Can save best model only with val_accuracy available, skipping.\n"
     ]
    },
    {
     "name": "stderr",
     "output_type": "stream",
     "text": [
      "WARNING:tensorflow:Can save best model only with val_accuracy available, skipping.\n"
     ]
    },
    {
     "name": "stdout",
     "output_type": "stream",
     "text": [
      "1688/1688 [==============================] - 4s 2ms/step - loss: 0.1944 - accuracy: 0.9265\n",
      "Epoch 18/25\n",
      "1661/1688 [============================>.] - ETA: 0s - loss: 0.1888 - accuracy: 0.9287WARNING:tensorflow:Can save best model only with val_accuracy available, skipping.\n"
     ]
    },
    {
     "name": "stderr",
     "output_type": "stream",
     "text": [
      "WARNING:tensorflow:Can save best model only with val_accuracy available, skipping.\n"
     ]
    },
    {
     "name": "stdout",
     "output_type": "stream",
     "text": [
      "1688/1688 [==============================] - 4s 2ms/step - loss: 0.1884 - accuracy: 0.9289\n",
      "Epoch 19/25\n",
      "1677/1688 [============================>.] - ETA: 0s - loss: 0.1843 - accuracy: 0.9307WARNING:tensorflow:Can save best model only with val_accuracy available, skipping.\n"
     ]
    },
    {
     "name": "stderr",
     "output_type": "stream",
     "text": [
      "WARNING:tensorflow:Can save best model only with val_accuracy available, skipping.\n"
     ]
    },
    {
     "name": "stdout",
     "output_type": "stream",
     "text": [
      "1688/1688 [==============================] - 3s 2ms/step - loss: 0.1841 - accuracy: 0.9307\n",
      "Epoch 20/25\n",
      "1679/1688 [============================>.] - ETA: 0s - loss: 0.1786 - accuracy: 0.9323WARNING:tensorflow:Can save best model only with val_accuracy available, skipping.\n"
     ]
    },
    {
     "name": "stderr",
     "output_type": "stream",
     "text": [
      "WARNING:tensorflow:Can save best model only with val_accuracy available, skipping.\n"
     ]
    },
    {
     "name": "stdout",
     "output_type": "stream",
     "text": [
      "1688/1688 [==============================] - 4s 2ms/step - loss: 0.1787 - accuracy: 0.9322\n",
      "Epoch 21/25\n",
      "1682/1688 [============================>.] - ETA: 0s - loss: 0.1756 - accuracy: 0.9334WARNING:tensorflow:Can save best model only with val_accuracy available, skipping.\n"
     ]
    },
    {
     "name": "stderr",
     "output_type": "stream",
     "text": [
      "WARNING:tensorflow:Can save best model only with val_accuracy available, skipping.\n"
     ]
    },
    {
     "name": "stdout",
     "output_type": "stream",
     "text": [
      "1688/1688 [==============================] - 3s 2ms/step - loss: 0.1754 - accuracy: 0.9335\n",
      "Epoch 22/25\n",
      "1662/1688 [============================>.] - ETA: 0s - loss: 0.1695 - accuracy: 0.9352WARNING:tensorflow:Can save best model only with val_accuracy available, skipping.\n"
     ]
    },
    {
     "name": "stderr",
     "output_type": "stream",
     "text": [
      "WARNING:tensorflow:Can save best model only with val_accuracy available, skipping.\n"
     ]
    },
    {
     "name": "stdout",
     "output_type": "stream",
     "text": [
      "1688/1688 [==============================] - 3s 2ms/step - loss: 0.1696 - accuracy: 0.9353\n",
      "Epoch 23/25\n",
      "1680/1688 [============================>.] - ETA: 0s - loss: 0.1645 - accuracy: 0.9376WARNING:tensorflow:Can save best model only with val_accuracy available, skipping.\n"
     ]
    },
    {
     "name": "stderr",
     "output_type": "stream",
     "text": [
      "WARNING:tensorflow:Can save best model only with val_accuracy available, skipping.\n"
     ]
    },
    {
     "name": "stdout",
     "output_type": "stream",
     "text": [
      "1688/1688 [==============================] - 4s 2ms/step - loss: 0.1644 - accuracy: 0.9376\n",
      "Epoch 24/25\n",
      "1668/1688 [============================>.] - ETA: 0s - loss: 0.1629 - accuracy: 0.9383WARNING:tensorflow:Can save best model only with val_accuracy available, skipping.\n"
     ]
    },
    {
     "name": "stderr",
     "output_type": "stream",
     "text": [
      "WARNING:tensorflow:Can save best model only with val_accuracy available, skipping.\n"
     ]
    },
    {
     "name": "stdout",
     "output_type": "stream",
     "text": [
      "1688/1688 [==============================] - 3s 2ms/step - loss: 0.1630 - accuracy: 0.9382\n",
      "Epoch 25/25\n",
      "1663/1688 [============================>.] - ETA: 0s - loss: 0.1619 - accuracy: 0.9385WARNING:tensorflow:Can save best model only with val_accuracy available, skipping.\n"
     ]
    },
    {
     "name": "stderr",
     "output_type": "stream",
     "text": [
      "WARNING:tensorflow:Can save best model only with val_accuracy available, skipping.\n"
     ]
    },
    {
     "name": "stdout",
     "output_type": "stream",
     "text": [
      "\b\b\b\b\b\b\b\b\b\b\b\b\b\b\b\b\b\b\b\b\b\b\b\b\b\b\b\b\b\b\b\b\b\b\b\b\b\b\b\b\b\b\b\b\b\b\b\b\b\b\b\b\b\b\b\b\b\b\b\b\b\b\b\b\b\b\b\b\b\b\b\b\b\b\b\b\b\b\b\b\b\b\b\b\b\b\r",
      "1688/1688 [==============================] - 3s 2ms/step - loss: 0.1618 - accuracy: 0.9386\n"
     ]
    }
   ],
   "source": [
    "model_fashion = create_model()\n",
    "\n",
    "stats = model_fashion.fit(train_ds, epochs=25, verbose=1, callbacks=[cp_callback])"
   ]
  },
  {
   "cell_type": "markdown",
   "id": "4c36ef69",
   "metadata": {},
   "source": [
    "##### Zastosowanie zwiększonej złożoności modelu i liczby liczby epok do 25 podniosła wynik Accuracy do 0.9398."
   ]
  },
  {
   "cell_type": "markdown",
   "id": "b3e4daf6",
   "metadata": {},
   "source": [
    "##### Zapisanie modelu  https://www.tensorflow.org/tutorials/keras/save_and_load?hl=pl"
   ]
  },
  {
   "cell_type": "code",
   "execution_count": 30,
   "id": "e9aba0cc",
   "metadata": {
    "scrolled": true
   },
   "outputs": [
    {
     "name": "stdout",
     "output_type": "stream",
     "text": [
      "INFO:tensorflow:Assets written to: saved_model/my_model\\assets\n"
     ]
    },
    {
     "name": "stderr",
     "output_type": "stream",
     "text": [
      "INFO:tensorflow:Assets written to: saved_model/my_model\\assets\n"
     ]
    }
   ],
   "source": [
    "# !mkdir -p saved_model\n",
    "model_fashion.save('saved_model/my_model')"
   ]
  },
  {
   "cell_type": "markdown",
   "id": "2792140c",
   "metadata": {},
   "source": [
    "##### Interfejs i wyrysowanie obrazka"
   ]
  },
  {
   "cell_type": "code",
   "execution_count": 31,
   "id": "32719536",
   "metadata": {},
   "outputs": [],
   "source": [
    "def evaluate_model(model, X_test, y_test, stats):\n",
    "    y_pred = model_fashion.predict(X_test)\n",
    "    print(\"probs : \", y_pred[2])\n",
    "    print(\"klasa :\", np.argmax(y_pred[2]))\n",
    "    print(\"rzeczywista klasa: \", y_test[2])\n",
    "\n",
    "    pd.DataFrame(stats.history).plot(figsize=(8, 5))\n",
    "    plt.grid(True)\n",
    "    plt.gca().set_ylim(0, 1)\n",
    "    plt.show()\n",
    "\n",
    "    plt.imshow(np.array(X_test[2]))\n",
    "    plt.title('Właściwy obraz')\n",
    "    plt.title(y_test[2])"
   ]
  },
  {
   "cell_type": "code",
   "execution_count": 32,
   "id": "d0e2c3d6",
   "metadata": {},
   "outputs": [
    {
     "name": "stdout",
     "output_type": "stream",
     "text": [
      "188/188 [==============================] - 0s 1ms/step\n",
      "probs :  [5.5528383e-16 2.2840951e-22 1.8215007e-34 1.9986441e-18 2.4606415e-28\n",
      " 1.6905173e-10 1.4664743e-17 1.0000000e+00 2.1123825e-18 3.4439240e-09]\n",
      "klasa : 7\n",
      "rzeczywista klasa:  7\n"
     ]
    },
    {
     "data": {
      "image/png": "[encoded data removed]",
      "text/plain": [
       "<Figure size 800x500 with 1 Axes>"
      ]
     },
     "metadata": {},
     "output_type": "display_data"
    },
    {
     "data": {
      "image/png": "[encoded data removed]",
      "text/plain": [
       "<Figure size 640x480 with 1 Axes>"
      ]
     },
     "metadata": {},
     "output_type": "display_data"
    }
   ],
   "source": [
    "evaluate_model(model_fashion, X_test, y_test, stats)"
   ]
  },
  {
   "cell_type": "markdown",
   "id": "41a0e898",
   "metadata": {},
   "source": [
    "##### Albumentations"
   ]
  },
  {
   "cell_type": "code",
   "execution_count": 56,
   "id": "a7d29c41",
   "metadata": {
    "scrolled": false
   },
   "outputs": [],
   "source": [
    "import albumentations as A\n",
    "\n",
    "augmentation_transform = A.Compose([\n",
    "    A.HorizontalFlip(p=0.2),  # Losowe odbicie w poziomie\n",
    "    A.Rotate(limit=15, p=0.2),  # Losowe obrócenie obrazu do 15 stopni\n",
    "    A.RandomBrightnessContrast(p=0.2),  # Losowe zmiany jasności i kontrastu\n",
    "#    A.ShiftScaleRotate(shift_limit=0.1, scale_limit=0.2, rotate_limit=15, p=0.2),  # Losowe przesunięcie, skalowanie i obrót\n",
    "#    A.RandomScale(scale_limit=0.2, p=0.2)  # Skalowanie obrazu\n",
    "#     A.ColorJitter(brightness=0.2, contrast=0.2, saturation=0.2, hue=0.2, p=0.2)  # Zmiana kolorów\n",
    "#     A.ElasticTransform(alpha=1, sigma=50, alpha_affine=50, p=0.2)  # Elasyczne deformacje\n",
    "#     A.IAAAdditiveGaussianNoise(scale=0.2, p=0.2)  # Szumy obrazu\n",
    "#     A.IAAPerspective(scale=(0.05, 0.1), p=0.2)\n",
    "#     A.ShiftScaleRotate(shift_limit=0.1, scale_limit=0.2, rotate_limit=15, p=0.2)\n",
    "#     A.RandomBrightnessContrast(p=0.1)  # Zmiana kontrastu\n",
    "    A.OpticalDistortion(distort_limit=0.25, shift_limit=0.25, p=0.25)\n",
    "\n",
    "])\n",
    "\n",
    "# Konwertowanie obrazów na typ uint8\n",
    "X_train_uint8 = (X_train * 255).astype(np.uint8)   # Usunięcie błędu KeyError: dtype('float64')\n",
    "\n",
    "# Transformacja obrazów treningowych i etykiet\n",
    "def transform_images_and_labels(images, labels):\n",
    "    transformed_images = []\n",
    "    for image in images:\n",
    "        augmented = augmentation_transform(image=image)\n",
    "        transformed_images.append(augmented['image'])\n",
    "    return np.array(transformed_images), labels\n",
    "\n",
    "# Transformacja obrazów treningowych\n",
    "X_train_augmented, y_train_augmented = transform_images_and_labels(X_train_uint8, y_train)\n",
    "\n",
    "# Tworzenie zbioru treningowego\n",
    "augmented_model = create_model()\n",
    "train_ds_augmented = tf.data.Dataset.from_tensor_slices((X_train_augmented, y_train_augmented))\n",
    "train_ds_augmented = train_ds_augmented.shuffle(1000).batch(32)\n"
   ]
  },
  {
   "cell_type": "code",
   "execution_count": 58,
   "id": "6a0586e5",
   "metadata": {},
   "outputs": [
    {
     "name": "stdout",
     "output_type": "stream",
     "text": [
      "Epoch 1/30\n",
      "1687/1688 [============================>.] - ETA: 0s - loss: 0.2853 - accuracy: 0.8959WARNING:tensorflow:Can save best model only with val_accuracy available, skipping.\n"
     ]
    },
    {
     "name": "stderr",
     "output_type": "stream",
     "text": [
      "WARNING:tensorflow:Can save best model only with val_accuracy available, skipping.\n"
     ]
    },
    {
     "name": "stdout",
     "output_type": "stream",
     "text": [
      "1688/1688 [==============================] - 5s 3ms/step - loss: 0.2853 - accuracy: 0.8959\n",
      "Epoch 2/30\n",
      "1685/1688 [============================>.] - ETA: 0s - loss: 0.2803 - accuracy: 0.8985WARNING:tensorflow:Can save best model only with val_accuracy available, skipping.\n"
     ]
    },
    {
     "name": "stderr",
     "output_type": "stream",
     "text": [
      "WARNING:tensorflow:Can save best model only with val_accuracy available, skipping.\n"
     ]
    },
    {
     "name": "stdout",
     "output_type": "stream",
     "text": [
      "1688/1688 [==============================] - 6s 4ms/step - loss: 0.2802 - accuracy: 0.8985\n",
      "Epoch 3/30\n",
      "1681/1688 [============================>.] - ETA: 0s - loss: 0.2843 - accuracy: 0.8964WARNING:tensorflow:Can save best model only with val_accuracy available, skipping.\n"
     ]
    },
    {
     "name": "stderr",
     "output_type": "stream",
     "text": [
      "WARNING:tensorflow:Can save best model only with val_accuracy available, skipping.\n"
     ]
    },
    {
     "name": "stdout",
     "output_type": "stream",
     "text": [
      "1688/1688 [==============================] - 6s 4ms/step - loss: 0.2839 - accuracy: 0.8966\n",
      "Epoch 4/30\n",
      "1677/1688 [============================>.] - ETA: 0s - loss: 0.2773 - accuracy: 0.8992WARNING:tensorflow:Can save best model only with val_accuracy available, skipping.\n"
     ]
    },
    {
     "name": "stderr",
     "output_type": "stream",
     "text": [
      "WARNING:tensorflow:Can save best model only with val_accuracy available, skipping.\n"
     ]
    },
    {
     "name": "stdout",
     "output_type": "stream",
     "text": [
      "1688/1688 [==============================] - 5s 3ms/step - loss: 0.2772 - accuracy: 0.8992\n",
      "Epoch 5/30\n",
      "1686/1688 [============================>.] - ETA: 0s - loss: 0.2755 - accuracy: 0.8995WARNING:tensorflow:Can save best model only with val_accuracy available, skipping.\n"
     ]
    },
    {
     "name": "stderr",
     "output_type": "stream",
     "text": [
      "WARNING:tensorflow:Can save best model only with val_accuracy available, skipping.\n"
     ]
    },
    {
     "name": "stdout",
     "output_type": "stream",
     "text": [
      "1688/1688 [==============================] - 5s 3ms/step - loss: 0.2755 - accuracy: 0.8995\n",
      "Epoch 6/30\n",
      "1675/1688 [============================>.] - ETA: 0s - loss: 0.2735 - accuracy: 0.8998WARNING:tensorflow:Can save best model only with val_accuracy available, skipping.\n"
     ]
    },
    {
     "name": "stderr",
     "output_type": "stream",
     "text": [
      "WARNING:tensorflow:Can save best model only with val_accuracy available, skipping.\n"
     ]
    },
    {
     "name": "stdout",
     "output_type": "stream",
     "text": [
      "1688/1688 [==============================] - 6s 4ms/step - loss: 0.2735 - accuracy: 0.8999\n",
      "Epoch 7/30\n",
      "1685/1688 [============================>.] - ETA: 0s - loss: 0.2698 - accuracy: 0.9028WARNING:tensorflow:Can save best model only with val_accuracy available, skipping.\n"
     ]
    },
    {
     "name": "stderr",
     "output_type": "stream",
     "text": [
      "WARNING:tensorflow:Can save best model only with val_accuracy available, skipping.\n"
     ]
    },
    {
     "name": "stdout",
     "output_type": "stream",
     "text": [
      "1688/1688 [==============================] - 6s 4ms/step - loss: 0.2697 - accuracy: 0.9029\n",
      "Epoch 8/30\n",
      "1682/1688 [============================>.] - ETA: 0s - loss: 0.2610 - accuracy: 0.9049WARNING:tensorflow:Can save best model only with val_accuracy available, skipping.\n"
     ]
    },
    {
     "name": "stderr",
     "output_type": "stream",
     "text": [
      "WARNING:tensorflow:Can save best model only with val_accuracy available, skipping.\n"
     ]
    },
    {
     "name": "stdout",
     "output_type": "stream",
     "text": [
      "1688/1688 [==============================] - 6s 3ms/step - loss: 0.2606 - accuracy: 0.9051\n",
      "Epoch 9/30\n",
      "1678/1688 [============================>.] - ETA: 0s - loss: 0.2656 - accuracy: 0.9025WARNING:tensorflow:Can save best model only with val_accuracy available, skipping.\n"
     ]
    },
    {
     "name": "stderr",
     "output_type": "stream",
     "text": [
      "WARNING:tensorflow:Can save best model only with val_accuracy available, skipping.\n"
     ]
    },
    {
     "name": "stdout",
     "output_type": "stream",
     "text": [
      "1688/1688 [==============================] - 6s 4ms/step - loss: 0.2656 - accuracy: 0.9025\n",
      "Epoch 10/30\n",
      "1680/1688 [============================>.] - ETA: 0s - loss: 0.2556 - accuracy: 0.9069WARNING:tensorflow:Can save best model only with val_accuracy available, skipping.\n"
     ]
    },
    {
     "name": "stderr",
     "output_type": "stream",
     "text": [
      "WARNING:tensorflow:Can save best model only with val_accuracy available, skipping.\n"
     ]
    },
    {
     "name": "stdout",
     "output_type": "stream",
     "text": [
      "1688/1688 [==============================] - 7s 4ms/step - loss: 0.2556 - accuracy: 0.9069\n",
      "Epoch 11/30\n",
      "1678/1688 [============================>.] - ETA: 0s - loss: 0.2553 - accuracy: 0.9062WARNING:tensorflow:Can save best model only with val_accuracy available, skipping.\n"
     ]
    },
    {
     "name": "stderr",
     "output_type": "stream",
     "text": [
      "WARNING:tensorflow:Can save best model only with val_accuracy available, skipping.\n"
     ]
    },
    {
     "name": "stdout",
     "output_type": "stream",
     "text": [
      "1688/1688 [==============================] - 5s 3ms/step - loss: 0.2554 - accuracy: 0.9063\n",
      "Epoch 12/30\n",
      "1674/1688 [============================>.] - ETA: 0s - loss: 0.2515 - accuracy: 0.9082WARNING:tensorflow:Can save best model only with val_accuracy available, skipping.\n"
     ]
    },
    {
     "name": "stderr",
     "output_type": "stream",
     "text": [
      "WARNING:tensorflow:Can save best model only with val_accuracy available, skipping.\n"
     ]
    },
    {
     "name": "stdout",
     "output_type": "stream",
     "text": [
      "1688/1688 [==============================] - 6s 4ms/step - loss: 0.2512 - accuracy: 0.9083\n",
      "Epoch 13/30\n",
      "1686/1688 [============================>.] - ETA: 0s - loss: 0.2570 - accuracy: 0.9065WARNING:tensorflow:Can save best model only with val_accuracy available, skipping.\n"
     ]
    },
    {
     "name": "stderr",
     "output_type": "stream",
     "text": [
      "WARNING:tensorflow:Can save best model only with val_accuracy available, skipping.\n"
     ]
    },
    {
     "name": "stdout",
     "output_type": "stream",
     "text": [
      "1688/1688 [==============================] - 5s 3ms/step - loss: 0.2569 - accuracy: 0.9066\n",
      "Epoch 14/30\n",
      "1680/1688 [============================>.] - ETA: 0s - loss: 0.2486 - accuracy: 0.9101WARNING:tensorflow:Can save best model only with val_accuracy available, skipping.\n"
     ]
    },
    {
     "name": "stderr",
     "output_type": "stream",
     "text": [
      "WARNING:tensorflow:Can save best model only with val_accuracy available, skipping.\n"
     ]
    },
    {
     "name": "stdout",
     "output_type": "stream",
     "text": [
      "1688/1688 [==============================] - 7s 4ms/step - loss: 0.2488 - accuracy: 0.9100\n",
      "Epoch 15/30\n",
      "1688/1688 [==============================] - ETA: 0s - loss: 0.2434 - accuracy: 0.9113WARNING:tensorflow:Can save best model only with val_accuracy available, skipping.\n"
     ]
    },
    {
     "name": "stderr",
     "output_type": "stream",
     "text": [
      "WARNING:tensorflow:Can save best model only with val_accuracy available, skipping.\n"
     ]
    },
    {
     "name": "stdout",
     "output_type": "stream",
     "text": [
      "1688/1688 [==============================] - 6s 4ms/step - loss: 0.2434 - accuracy: 0.9113\n",
      "Epoch 16/30\n",
      "1677/1688 [============================>.] - ETA: 0s - loss: 0.2498 - accuracy: 0.9109WARNING:tensorflow:Can save best model only with val_accuracy available, skipping.\n"
     ]
    },
    {
     "name": "stderr",
     "output_type": "stream",
     "text": [
      "WARNING:tensorflow:Can save best model only with val_accuracy available, skipping.\n"
     ]
    },
    {
     "name": "stdout",
     "output_type": "stream",
     "text": [
      "1688/1688 [==============================] - 5s 3ms/step - loss: 0.2499 - accuracy: 0.9108\n",
      "Epoch 17/30\n",
      "1683/1688 [============================>.] - ETA: 0s - loss: 0.2479 - accuracy: 0.9121WARNING:tensorflow:Can save best model only with val_accuracy available, skipping.\n"
     ]
    },
    {
     "name": "stderr",
     "output_type": "stream",
     "text": [
      "WARNING:tensorflow:Can save best model only with val_accuracy available, skipping.\n"
     ]
    },
    {
     "name": "stdout",
     "output_type": "stream",
     "text": [
      "1688/1688 [==============================] - 5s 3ms/step - loss: 0.2479 - accuracy: 0.9120\n",
      "Epoch 18/30\n",
      "1686/1688 [============================>.] - ETA: 0s - loss: 0.2351 - accuracy: 0.9146WARNING:tensorflow:Can save best model only with val_accuracy available, skipping.\n"
     ]
    },
    {
     "name": "stderr",
     "output_type": "stream",
     "text": [
      "WARNING:tensorflow:Can save best model only with val_accuracy available, skipping.\n"
     ]
    },
    {
     "name": "stdout",
     "output_type": "stream",
     "text": [
      "1688/1688 [==============================] - 6s 4ms/step - loss: 0.2352 - accuracy: 0.9146\n",
      "Epoch 19/30\n",
      "1682/1688 [============================>.] - ETA: 0s - loss: 0.2462 - accuracy: 0.9113WARNING:tensorflow:Can save best model only with val_accuracy available, skipping.\n"
     ]
    },
    {
     "name": "stderr",
     "output_type": "stream",
     "text": [
      "WARNING:tensorflow:Can save best model only with val_accuracy available, skipping.\n"
     ]
    },
    {
     "name": "stdout",
     "output_type": "stream",
     "text": [
      "1688/1688 [==============================] - 6s 3ms/step - loss: 0.2460 - accuracy: 0.9114\n",
      "Epoch 20/30\n",
      "1671/1688 [============================>.] - ETA: 0s - loss: 0.2397 - accuracy: 0.9124WARNING:tensorflow:Can save best model only with val_accuracy available, skipping.\n"
     ]
    },
    {
     "name": "stderr",
     "output_type": "stream",
     "text": [
      "WARNING:tensorflow:Can save best model only with val_accuracy available, skipping.\n"
     ]
    },
    {
     "name": "stdout",
     "output_type": "stream",
     "text": [
      "1688/1688 [==============================] - 6s 4ms/step - loss: 0.2405 - accuracy: 0.9121\n",
      "Epoch 21/30\n",
      "1678/1688 [============================>.] - ETA: 0s - loss: 0.2426 - accuracy: 0.9130WARNING:tensorflow:Can save best model only with val_accuracy available, skipping.\n"
     ]
    },
    {
     "name": "stderr",
     "output_type": "stream",
     "text": [
      "WARNING:tensorflow:Can save best model only with val_accuracy available, skipping.\n"
     ]
    },
    {
     "name": "stdout",
     "output_type": "stream",
     "text": [
      "1688/1688 [==============================] - 6s 3ms/step - loss: 0.2424 - accuracy: 0.9130\n",
      "Epoch 22/30\n",
      "1681/1688 [============================>.] - ETA: 0s - loss: 0.2425 - accuracy: 0.9117WARNING:tensorflow:Can save best model only with val_accuracy available, skipping.\n"
     ]
    },
    {
     "name": "stderr",
     "output_type": "stream",
     "text": [
      "WARNING:tensorflow:Can save best model only with val_accuracy available, skipping.\n"
     ]
    },
    {
     "name": "stdout",
     "output_type": "stream",
     "text": [
      "1688/1688 [==============================] - 6s 4ms/step - loss: 0.2422 - accuracy: 0.9119\n",
      "Epoch 23/30\n",
      "1675/1688 [============================>.] - ETA: 0s - loss: 0.2356 - accuracy: 0.9149WARNING:tensorflow:Can save best model only with val_accuracy available, skipping.\n"
     ]
    },
    {
     "name": "stderr",
     "output_type": "stream",
     "text": [
      "WARNING:tensorflow:Can save best model only with val_accuracy available, skipping.\n"
     ]
    },
    {
     "name": "stdout",
     "output_type": "stream",
     "text": [
      "1688/1688 [==============================] - 6s 3ms/step - loss: 0.2359 - accuracy: 0.9147\n",
      "Epoch 24/30\n",
      "1683/1688 [============================>.] - ETA: 0s - loss: 0.2351 - accuracy: 0.9153WARNING:tensorflow:Can save best model only with val_accuracy available, skipping.\n"
     ]
    },
    {
     "name": "stderr",
     "output_type": "stream",
     "text": [
      "WARNING:tensorflow:Can save best model only with val_accuracy available, skipping.\n"
     ]
    },
    {
     "name": "stdout",
     "output_type": "stream",
     "text": [
      "1688/1688 [==============================] - 5s 3ms/step - loss: 0.2349 - accuracy: 0.9153\n",
      "Epoch 25/30\n",
      "1688/1688 [==============================] - ETA: 0s - loss: 0.2328 - accuracy: 0.9155WARNING:tensorflow:Can save best model only with val_accuracy available, skipping.\n"
     ]
    },
    {
     "name": "stderr",
     "output_type": "stream",
     "text": [
      "WARNING:tensorflow:Can save best model only with val_accuracy available, skipping.\n"
     ]
    },
    {
     "name": "stdout",
     "output_type": "stream",
     "text": [
      "1688/1688 [==============================] - 5s 3ms/step - loss: 0.2328 - accuracy: 0.9155\n",
      "Epoch 26/30\n",
      "1679/1688 [============================>.] - ETA: 0s - loss: 0.2260 - accuracy: 0.9177WARNING:tensorflow:Can save best model only with val_accuracy available, skipping.\n"
     ]
    },
    {
     "name": "stderr",
     "output_type": "stream",
     "text": [
      "WARNING:tensorflow:Can save best model only with val_accuracy available, skipping.\n"
     ]
    },
    {
     "name": "stdout",
     "output_type": "stream",
     "text": [
      "1688/1688 [==============================] - 7s 4ms/step - loss: 0.2258 - accuracy: 0.9177\n",
      "Epoch 27/30\n",
      "1680/1688 [============================>.] - ETA: 0s - loss: 0.2303 - accuracy: 0.9180WARNING:tensorflow:Can save best model only with val_accuracy available, skipping.\n"
     ]
    },
    {
     "name": "stderr",
     "output_type": "stream",
     "text": [
      "WARNING:tensorflow:Can save best model only with val_accuracy available, skipping.\n"
     ]
    },
    {
     "name": "stdout",
     "output_type": "stream",
     "text": [
      "1688/1688 [==============================] - 6s 3ms/step - loss: 0.2307 - accuracy: 0.9178\n",
      "Epoch 28/30\n",
      "1678/1688 [============================>.] - ETA: 0s - loss: 0.2256 - accuracy: 0.9180WARNING:tensorflow:Can save best model only with val_accuracy available, skipping.\n"
     ]
    },
    {
     "name": "stderr",
     "output_type": "stream",
     "text": [
      "WARNING:tensorflow:Can save best model only with val_accuracy available, skipping.\n"
     ]
    },
    {
     "name": "stdout",
     "output_type": "stream",
     "text": [
      "1688/1688 [==============================] - 5s 3ms/step - loss: 0.2256 - accuracy: 0.9181\n",
      "Epoch 29/30\n",
      "1679/1688 [============================>.] - ETA: 0s - loss: 0.2191 - accuracy: 0.9212WARNING:tensorflow:Can save best model only with val_accuracy available, skipping.\n"
     ]
    },
    {
     "name": "stderr",
     "output_type": "stream",
     "text": [
      "WARNING:tensorflow:Can save best model only with val_accuracy available, skipping.\n"
     ]
    },
    {
     "name": "stdout",
     "output_type": "stream",
     "text": [
      "1688/1688 [==============================] - 6s 4ms/step - loss: 0.2192 - accuracy: 0.9212\n",
      "Epoch 30/30\n",
      "1683/1688 [============================>.] - ETA: 0s - loss: 0.2254 - accuracy: 0.9177WARNING:tensorflow:Can save best model only with val_accuracy available, skipping.\n"
     ]
    },
    {
     "name": "stderr",
     "output_type": "stream",
     "text": [
      "WARNING:tensorflow:Can save best model only with val_accuracy available, skipping.\n"
     ]
    },
    {
     "name": "stdout",
     "output_type": "stream",
     "text": [
      "\b\b\b\b\b\b\b\b\b\b\b\b\b\b\b\b\b\b\b\b\b\b\b\b\b\b\b\b\b\b\b\b\b\b\b\b\b\b\b\b\b\b\b\b\b\b\b\b\b\b\b\b\b\b\b\b\b\b\b\b\b\b\b\b\b\b\b\b\b\b\b\b\b\b\b\b\b\b\b\b\b\b\b\b\b\b\r",
      "1688/1688 [==============================] - 6s 4ms/step - loss: 0.2252 - accuracy: 0.9177\n"
     ]
    }
   ],
   "source": [
    "augmented_stats = augmented_model.fit(train_ds_augmented, epochs=30, verbose=1, callbacks=[cp_callback])"
   ]
  },
  {
   "cell_type": "markdown",
   "id": "9b761965",
   "metadata": {},
   "source": [
    "# Accuracy 0.9177"
   ]
  },
  {
   "cell_type": "code",
   "execution_count": null,
   "id": "dc798da8",
   "metadata": {},
   "outputs": [],
   "source": []
  }
 ],
 "metadata": {
  "kernelspec": {
   "display_name": "Python 3 (ipykernel)",
   "language": "python",
   "name": "python3"
  },
  "language_info": {
   "codemirror_mode": {
    "name": "ipython",
    "version": 3
   },
   "file_extension": ".py",
   "mimetype": "text/x-python",
   "name": "python",
   "nbconvert_exporter": "python",
   "pygments_lexer": "ipython3",
   "version": "3.11.0"
  }
 },
 "nbformat": 4,
 "nbformat_minor": 5
}
