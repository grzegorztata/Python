{
 "cells": [
  {
   "cell_type": "markdown",
   "id": "346b7396",
   "metadata": {},
   "source": [
    "##### Stworzenie modelu - sposób drugi"
   ]
  },
  {
   "cell_type": "code",
   "execution_count": 1,
   "id": "7665d12e",
   "metadata": {},
   "outputs": [],
   "source": [
    "import tensorflow as tf\n",
    "import tensorflow.keras.layers as layers"
   ]
  },
  {
   "cell_type": "code",
   "execution_count": 2,
   "id": "85f278c8",
   "metadata": {},
   "outputs": [],
   "source": [
    "input_data = tf.ones((16, 3, 3))"
   ]
  },
  {
   "cell_type": "markdown",
   "id": "1ebfbcb2",
   "metadata": {},
   "source": [
    "##### Stworzenie modelu - sposób pierwszy"
   ]
  },
  {
   "cell_type": "code",
   "execution_count": 3,
   "id": "ef3515c7",
   "metadata": {},
   "outputs": [],
   "source": [
    "seq_model = tf.keras.Sequential()\n",
    "seq_model.add(layers.Flatten(input_shape=[3, 3]))\n",
    "seq_model.add(layers.Dense(16, name=\"input_layer\"))\n",
    "seq_model.add(layers.Dense(32, name=\"hidden_layer\"))\n",
    "seq_model.add(layers.Dense(4, name=\"output_layer\"))"
   ]
  },
  {
   "cell_type": "markdown",
   "id": "22504585",
   "metadata": {},
   "source": [
    "##### Stworzenie modelu - sposób drugi"
   ]
  },
  {
   "cell_type": "code",
   "execution_count": 4,
   "id": "4dccec0c",
   "metadata": {},
   "outputs": [],
   "source": [
    "seq_model_2 = tf.keras.Sequential([\n",
    "    layers.Flatten(),\n",
    "    layers.Dense(16, name=\"input_layer\"),\n",
    "    layers.Dense(32, name=\"hidden_layer\"),\n",
    "    layers.Dense(4, name=\"output_layer\")\n",
    "])"
   ]
  },
  {
   "cell_type": "markdown",
   "id": "0dd73bcb",
   "metadata": {},
   "source": [
    "##### Uruchomienie naszego modelu z wygenerowanymi danymi"
   ]
  },
  {
   "cell_type": "code",
   "execution_count": 5,
   "id": "f465174c",
   "metadata": {},
   "outputs": [
    {
     "name": "stdout",
     "output_type": "stream",
     "text": [
      "tf.Tensor(\n",
      "[[ 0.5034847  -2.5018613   0.61946625  1.8326179 ]\n",
      " [ 0.5034847  -2.5018613   0.61946625  1.8326179 ]\n",
      " [ 0.5034847  -2.5018613   0.61946625  1.8326179 ]\n",
      " [ 0.5034847  -2.5018613   0.61946625  1.8326179 ]\n",
      " [ 0.5034847  -2.5018613   0.61946625  1.8326179 ]\n",
      " [ 0.5034847  -2.5018613   0.61946625  1.8326179 ]\n",
      " [ 0.5034847  -2.5018613   0.61946625  1.8326179 ]\n",
      " [ 0.5034847  -2.5018613   0.61946625  1.8326179 ]\n",
      " [ 0.5034847  -2.5018613   0.61946625  1.8326179 ]\n",
      " [ 0.5034847  -2.5018613   0.61946625  1.8326179 ]\n",
      " [ 0.5034847  -2.5018613   0.61946625  1.8326179 ]\n",
      " [ 0.5034847  -2.5018613   0.61946625  1.8326179 ]\n",
      " [ 0.5034847  -2.5018613   0.61946625  1.8326179 ]\n",
      " [ 0.5034847  -2.5018613   0.61946625  1.8326179 ]\n",
      " [ 0.5034847  -2.5018613   0.61946625  1.8326179 ]\n",
      " [ 0.5034847  -2.5018613   0.61946625  1.8326179 ]], shape=(16, 4), dtype=float32)\n"
     ]
    }
   ],
   "source": [
    "output = seq_model_2(input_data)\n",
    "print(output)"
   ]
  },
  {
   "cell_type": "code",
   "execution_count": null,
   "id": "8b63da77",
   "metadata": {},
   "outputs": [],
   "source": []
  }
 ],
 "metadata": {
  "kernelspec": {
   "display_name": "Python 3 (ipykernel)",
   "language": "python",
   "name": "python3"
  },
  "language_info": {
   "codemirror_mode": {
    "name": "ipython",
    "version": 3
   },
   "file_extension": ".py",
   "mimetype": "text/x-python",
   "name": "python",
   "nbconvert_exporter": "python",
   "pygments_lexer": "ipython3",
   "version": "3.11.0"
  }
 },
 "nbformat": 4,
 "nbformat_minor": 5
}
