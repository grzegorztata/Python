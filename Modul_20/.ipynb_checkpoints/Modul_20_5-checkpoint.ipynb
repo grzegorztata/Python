{
 "cells": [
  {
   "cell_type": "code",
   "execution_count": 3,
   "id": "5897f278",
   "metadata": {},
   "outputs": [
    {
     "ename": "ModuleNotFoundError",
     "evalue": "No module named 'shap'",
     "output_type": "error",
     "traceback": [
      "\u001b[1;31m---------------------------------------------------------------------------\u001b[0m",
      "\u001b[1;31mModuleNotFoundError\u001b[0m                       Traceback (most recent call last)",
      "Cell \u001b[1;32mIn[3], line 33\u001b[0m\n\u001b[0;32m     30\u001b[0m \u001b[38;5;28;01mfrom\u001b[39;00m \u001b[38;5;21;01msklearn\u001b[39;00m\u001b[38;5;21;01m.\u001b[39;00m\u001b[38;5;21;01mmetrics\u001b[39;00m \u001b[38;5;28;01mimport\u001b[39;00m make_scorer\n\u001b[0;32m     32\u001b[0m \u001b[38;5;66;03m# interpretowalność modelu\u001b[39;00m\n\u001b[1;32m---> 33\u001b[0m \u001b[38;5;28;01mimport\u001b[39;00m \u001b[38;5;21;01mshap\u001b[39;00m\n\u001b[0;32m     34\u001b[0m shap\u001b[38;5;241m.\u001b[39minitjs()\n\u001b[0;32m     36\u001b[0m \u001b[38;5;66;03m# zapisanie modelu\u001b[39;00m\n",
      "\u001b[1;31mModuleNotFoundError\u001b[0m: No module named 'shap'"
     ]
    }
   ],
   "source": [
    "# data manipulation\n",
    "import numpy as np\n",
    "import pandas as pd\n",
    "import datetime as dt\n",
    "import time\n",
    "from math import sqrt\n",
    "from tqdm import tqdm\n",
    "import holidays\n",
    "\n",
    "# data visualization\n",
    "import matplotlib.pyplot as plt\n",
    "import seaborn as sns\n",
    "\n",
    "# feature selection\n",
    "from sklearn.feature_selection import RFECV\n",
    "\n",
    "# pipeline\n",
    "from sklearn.pipeline import Pipeline\n",
    "from sklearn.base import BaseEstimator, TransformerMixin\n",
    "\n",
    "# models\n",
    "from sklearn.tree import DecisionTreeRegressor\n",
    "from sklearn.ensemble import RandomForestRegressor\n",
    "\n",
    "# optimization and hyperparameters\n",
    "from sklearn.model_selection import GridSearchCV, TimeSeriesSplit\n",
    "\n",
    "# model evaluation\n",
    "from sklearn.metrics import mean_squared_error\n",
    "from sklearn.metrics import make_scorer\n",
    "\n",
    "# interpretowalność modelu\n",
    "import shap\n",
    "shap.initjs()\n",
    "\n",
    "# zapisanie modelu\n",
    "import joblib\n",
    "\n",
    "# settings\n",
    "%matplotlib inline\n",
    "import warnings\n",
    "warnings.filterwarnings('ignore')"
   ]
  },
  {
   "cell_type": "code",
   "execution_count": null,
   "id": "07eeefab",
   "metadata": {},
   "outputs": [],
   "source": [
    "dataframe = pd.read_csv('')"
   ]
  },
  {
   "cell_type": "code",
   "execution_count": 4,
   "id": "0732057a",
   "metadata": {},
   "outputs": [
    {
     "name": "stdout",
     "output_type": "stream",
     "text": [
      "Collecting shap\n",
      "  Downloading shap-0.42.1-cp311-cp311-win_amd64.whl (462 kB)\n",
      "                                              0.0/462.3 kB ? eta -:--:--\n",
      "     ------                                  71.7/462.3 kB 1.3 MB/s eta 0:00:01\n",
      "     ------                                  71.7/462.3 kB 1.3 MB/s eta 0:00:01\n",
      "     --------------                         174.1/462.3 kB 1.3 MB/s eta 0:00:01\n",
      "     ---------------                        194.6/462.3 kB 1.2 MB/s eta 0:00:01\n",
      "     -------------------                    235.5/462.3 kB 1.1 MB/s eta 0:00:01\n",
      "     ---------------------                  256.0/462.3 kB 1.0 MB/s eta 0:00:01\n",
      "     ---------------------                  256.0/462.3 kB 1.0 MB/s eta 0:00:01\n",
      "     ----------------------               286.7/462.3 kB 883.3 kB/s eta 0:00:01\n",
      "     -----------------------              307.2/462.3 kB 824.9 kB/s eta 0:00:01\n",
      "     ------------------------             317.4/462.3 kB 728.0 kB/s eta 0:00:01\n",
      "     --------------------------           337.9/462.3 kB 675.6 kB/s eta 0:00:01\n",
      "     --------------------------           337.9/462.3 kB 675.6 kB/s eta 0:00:01\n",
      "     --------------------------           337.9/462.3 kB 675.6 kB/s eta 0:00:01\n",
      "     ---------------------------          358.4/462.3 kB 586.1 kB/s eta 0:00:01\n",
      "     ---------------------------          358.4/462.3 kB 586.1 kB/s eta 0:00:01\n",
      "     ----------------------------         368.6/462.3 kB 520.9 kB/s eta 0:00:01\n",
      "     ----------------------------         368.6/462.3 kB 520.9 kB/s eta 0:00:01\n",
      "     ------------------------------       389.1/462.3 kB 505.2 kB/s eta 0:00:01\n",
      "     -------------------------------      399.4/462.3 kB 497.6 kB/s eta 0:00:01\n",
      "     -------------------------------      409.6/462.3 kB 464.4 kB/s eta 0:00:01\n",
      "     -------------------------------      409.6/462.3 kB 464.4 kB/s eta 0:00:01\n",
      "     ---------------------------------    430.1/462.3 kB 447.6 kB/s eta 0:00:01\n",
      "     ---------------------------------    430.1/462.3 kB 447.6 kB/s eta 0:00:01\n",
      "     -----------------------------------  460.8/462.3 kB 430.3 kB/s eta 0:00:01\n",
      "     ------------------------------------ 462.3/462.3 kB 425.3 kB/s eta 0:00:00\n",
      "Requirement already satisfied: numpy in c:\\users\\gtata\\appdata\\local\\programs\\python\\python311\\lib\\site-packages (from shap) (1.24.3)\n",
      "Requirement already satisfied: scipy in c:\\users\\gtata\\appdata\\local\\programs\\python\\python311\\lib\\site-packages (from shap) (1.10.1)\n",
      "Requirement already satisfied: scikit-learn in c:\\users\\gtata\\appdata\\local\\programs\\python\\python311\\lib\\site-packages (from shap) (1.3.0)\n",
      "Requirement already satisfied: pandas in c:\\users\\gtata\\appdata\\local\\programs\\python\\python311\\lib\\site-packages (from shap) (2.0.2)\n",
      "Requirement already satisfied: tqdm>=4.27.0 in c:\\users\\gtata\\appdata\\local\\programs\\python\\python311\\lib\\site-packages (from shap) (4.64.1)\n",
      "Requirement already satisfied: packaging>20.9 in c:\\users\\gtata\\appdata\\local\\programs\\python\\python311\\lib\\site-packages (from shap) (23.0)\n",
      "Collecting slicer==0.0.7 (from shap)\n",
      "  Downloading slicer-0.0.7-py3-none-any.whl (14 kB)\n",
      "Requirement already satisfied: numba in c:\\users\\gtata\\appdata\\local\\programs\\python\\python311\\lib\\site-packages (from shap) (0.57.1)\n",
      "Collecting cloudpickle (from shap)\n",
      "  Downloading cloudpickle-2.2.1-py3-none-any.whl (25 kB)\n",
      "Requirement already satisfied: colorama in c:\\users\\gtata\\appdata\\local\\programs\\python\\python311\\lib\\site-packages (from tqdm>=4.27.0->shap) (0.4.6)\n",
      "Requirement already satisfied: llvmlite<0.41,>=0.40.0dev0 in c:\\users\\gtata\\appdata\\local\\programs\\python\\python311\\lib\\site-packages (from numba->shap) (0.40.1)\n",
      "Requirement already satisfied: python-dateutil>=2.8.2 in c:\\users\\gtata\\appdata\\local\\programs\\python\\python311\\lib\\site-packages (from pandas->shap) (2.8.2)\n",
      "Requirement already satisfied: pytz>=2020.1 in c:\\users\\gtata\\appdata\\local\\programs\\python\\python311\\lib\\site-packages (from pandas->shap) (2022.7.1)\n",
      "Requirement already satisfied: tzdata>=2022.1 in c:\\users\\gtata\\appdata\\local\\programs\\python\\python311\\lib\\site-packages (from pandas->shap) (2023.3)\n",
      "Requirement already satisfied: joblib>=1.1.1 in c:\\users\\gtata\\appdata\\local\\programs\\python\\python311\\lib\\site-packages (from scikit-learn->shap) (1.2.0)\n",
      "Requirement already satisfied: threadpoolctl>=2.0.0 in c:\\users\\gtata\\appdata\\local\\programs\\python\\python311\\lib\\site-packages (from scikit-learn->shap) (3.1.0)\n",
      "Requirement already satisfied: six>=1.5 in c:\\users\\gtata\\appdata\\local\\programs\\python\\python311\\lib\\site-packages (from python-dateutil>=2.8.2->pandas->shap) (1.16.0)\n",
      "Installing collected packages: slicer, cloudpickle, shap\n",
      "Successfully installed cloudpickle-2.2.1 shap-0.42.1 slicer-0.0.7\n",
      "Note: you may need to restart the kernel to use updated packages.\n"
     ]
    },
    {
     "name": "stderr",
     "output_type": "stream",
     "text": [
      "\n",
      "[notice] A new release of pip is available: 23.1.2 -> 23.2.1\n",
      "[notice] To update, run: python.exe -m pip install --upgrade pip\n"
     ]
    }
   ],
   "source": []
  },
  {
   "cell_type": "code",
   "execution_count": null,
   "id": "3caef21e",
   "metadata": {},
   "outputs": [],
   "source": []
  }
 ],
 "metadata": {
  "kernelspec": {
   "display_name": "Python 3 (ipykernel)",
   "language": "python",
   "name": "python3"
  },
  "language_info": {
   "codemirror_mode": {
    "name": "ipython",
    "version": 3
   },
   "file_extension": ".py",
   "mimetype": "text/x-python",
   "name": "python",
   "nbconvert_exporter": "python",
   "pygments_lexer": "ipython3",
   "version": "3.11.0"
  }
 },
 "nbformat": 4,
 "nbformat_minor": 5
}
