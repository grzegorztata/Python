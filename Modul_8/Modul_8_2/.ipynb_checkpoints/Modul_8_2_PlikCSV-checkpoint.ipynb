{
 "cells": [
  {
   "cell_type": "code",
   "execution_count": 1,
   "id": "87bbcf49",
   "metadata": {},
   "outputs": [],
   "source": [
    "import pandas as pd"
   ]
  },
  {
   "cell_type": "code",
   "execution_count": 2,
   "id": "50cac091",
   "metadata": {},
   "outputs": [],
   "source": [
    "# Wczytywanie danych z CSV"
   ]
  },
  {
   "cell_type": "code",
   "execution_count": 3,
   "id": "f5613bb5",
   "metadata": {},
   "outputs": [],
   "source": [
    "df = pd.read_csv('KursPython/Modul_8/Modul_8_2/myCsvFile.csv')"
   ]
  },
  {
   "cell_type": "code",
   "execution_count": null,
   "id": "bcc05183",
   "metadata": {},
   "outputs": [],
   "source": [
    "# Export do CSV"
   ]
  },
  {
   "cell_type": "code",
   "execution_count": null,
   "id": "4bc5a86b",
   "metadata": {},
   "outputs": [],
   "source": [
    "df.to_csv('myNewCsvFile.csv', index=False)\n",
    "# False pozwala na export bez uwzględniania etykiet indexu"
   ]
  }
 ],
 "metadata": {
  "kernelspec": {
   "display_name": "Python 3 (ipykernel)",
   "language": "python",
   "name": "python3"
  },
  "language_info": {
   "codemirror_mode": {
    "name": "ipython",
    "version": 3
   },
   "file_extension": ".py",
   "mimetype": "text/x-python",
   "name": "python",
   "nbconvert_exporter": "python",
   "pygments_lexer": "ipython3",
   "version": "3.11.0"
  }
 },
 "nbformat": 4,
 "nbformat_minor": 5
}
