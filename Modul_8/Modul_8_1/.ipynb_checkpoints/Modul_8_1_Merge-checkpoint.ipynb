{
 "cells": [
  {
   "cell_type": "code",
   "execution_count": 1,
   "id": "74cf1b2d",
   "metadata": {},
   "outputs": [],
   "source": [
    "import pandas as pd"
   ]
  },
  {
   "cell_type": "code",
   "execution_count": 2,
   "id": "53b75b78",
   "metadata": {},
   "outputs": [],
   "source": [
    "df1 = pd.DataFrame({'A': ['A0', 'A1', 'A2', 'A3'],\n",
    "\n",
    "                    'B': ['B0', 'B1', 'B2', 'B3'],\n",
    "\n",
    "                    'C': ['C0', 'C1', 'C2', 'C3'],\n",
    "\n",
    "                    'D': ['D0', 'D1', 'D2', 'D3']},\n",
    "\n",
    "                    index=[0, 1, 2, 3])\n",
    "\n",
    "df2 = pd.DataFrame({'A': ['A4', 'A5', 'A6', 'A7'],\n",
    "\n",
    "                    'B': ['B4', 'B5', 'B6', 'B7'],\n",
    "\n",
    "                    'C': ['C4', 'C5', 'C6', 'C7'],\n",
    "\n",
    "                    'D': ['D4', 'D5', 'D6', 'D7']},\n",
    "\n",
    "                    index=[4, 5, 6, 7])\n",
    "\n",
    "df3 = pd.DataFrame({'A': ['A8', 'A9', 'A10', 'A11'],\n",
    "\n",
    "                    'B': ['B8', 'B9', 'B10', 'B11'],\n",
    "\n",
    "                    'C': ['C8', 'C9', 'C10', 'C11'],\n",
    "\n",
    "                    'D': ['D8', 'D9', 'D10', 'D11']},\n",
    "\n",
    "                    index=[8, 9, 10, 11])"
   ]
  },
  {
   "cell_type": "code",
   "execution_count": 3,
   "id": "bd426ef3",
   "metadata": {},
   "outputs": [],
   "source": [
    "def make_keys(n):\n",
    "    return [f'keys{n}' for n in range (n)]\n",
    "left = df1.copy()\n",
    "left['key'] = make_keys(4)\n",
    "right = df3.copy()\n",
    "right['key'] = make_keys(4)"
   ]
  },
  {
   "cell_type": "code",
   "execution_count": null,
   "id": "0b5f524d",
   "metadata": {},
   "outputs": [],
   "source": [
    "make_keys"
   ]
  }
 ],
 "metadata": {
  "kernelspec": {
   "display_name": "Python 3 (ipykernel)",
   "language": "python",
   "name": "python3"
  },
  "language_info": {
   "codemirror_mode": {
    "name": "ipython",
    "version": 3
   },
   "file_extension": ".py",
   "mimetype": "text/x-python",
   "name": "python",
   "nbconvert_exporter": "python",
   "pygments_lexer": "ipython3",
   "version": "3.11.0"
  }
 },
 "nbformat": 4,
 "nbformat_minor": 5
}
