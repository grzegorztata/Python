{
 "cells": [
  {
   "cell_type": "code",
   "execution_count": 6,
   "id": "96435a01",
   "metadata": {},
   "outputs": [
    {
     "name": "stdout",
     "output_type": "stream",
     "text": [
      "CPU times: total: 6.92 s\n",
      "Wall time: 6.93 s\n"
     ]
    }
   ],
   "source": [
    "import numpy as np\n",
    "my_list = [i for i in range(1000000)]\n",
    "my_array = np.arange(1000000)\n",
    "%time for _ in range(100): my_list2 = [x**2 for x in my_list]"
   ]
  }
 ],
 "metadata": {
  "kernelspec": {
   "display_name": "Python 3 (ipykernel)",
   "language": "python",
   "name": "python3"
  },
  "language_info": {
   "codemirror_mode": {
    "name": "ipython",
    "version": 3
   },
   "file_extension": ".py",
   "mimetype": "text/x-python",
   "name": "python",
   "nbconvert_exporter": "python",
   "pygments_lexer": "ipython3",
   "version": "3.11.0"
  }
 },
 "nbformat": 4,
 "nbformat_minor": 5
}
