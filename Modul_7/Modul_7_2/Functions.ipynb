{
 "cells": [
  {
   "cell_type": "markdown",
   "id": "fea7608c",
   "metadata": {},
   "source": [
    "# More important function"
   ]
  },
  {
   "cell_type": "code",
   "execution_count": 2,
   "id": "b19f3630",
   "metadata": {},
   "outputs": [],
   "source": [
    "def print_maturity(age):\n",
    "    if age >= 18:\n",
    "        print(\"You are adult\")\n",
    "    else:\n",
    "        print(\"You are kiddo\")"
   ]
  },
  {
   "cell_type": "markdown",
   "id": "3631a6c4",
   "metadata": {},
   "source": [
    "## Important function"
   ]
  },
  {
   "cell_type": "code",
   "execution_count": 3,
   "id": "a4c7b598",
   "metadata": {},
   "outputs": [],
   "source": [
    "def shopping(items, payment='card', shop='local'):\n",
    "  result = \"\"\n",
    "  result = result + \"Ide na zakupy do %s.\\n\" % shop\n",
    "  result = result + \"Kupię następujące rzeczy: \\n\"\n",
    "  for item in items:\n",
    "    result = result + \" - %s.\\n\" % item\n",
    "  result = result + \"By zapłacić używam %s.\" % payment\n",
    "  return result"
   ]
  },
  {
   "cell_type": "markdown",
   "id": "ce49065c",
   "metadata": {},
   "source": [
    "#### Not important function"
   ]
  },
  {
   "cell_type": "code",
   "execution_count": null,
   "id": "3ed6d73b",
   "metadata": {},
   "outputs": [],
   "source": [
    "def add(*args):\n",
    "    result = sum(args)\n",
    "    logging.info(f\"Dodaję liczby {args}. Wynik {result}\")\n",
    "    return result"
   ]
  }
 ],
 "metadata": {
  "kernelspec": {
   "display_name": "Python 3 (ipykernel)",
   "language": "python",
   "name": "python3"
  },
  "language_info": {
   "codemirror_mode": {
    "name": "ipython",
    "version": 3
   },
   "file_extension": ".py",
   "mimetype": "text/x-python",
   "name": "python",
   "nbconvert_exporter": "python",
   "pygments_lexer": "ipython3",
   "version": "3.11.0"
  }
 },
 "nbformat": 4,
 "nbformat_minor": 5
}
